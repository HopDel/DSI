{
  "cells": [
    {
      "cell_type": "markdown",
      "metadata": {
        "id": "y6SsBFh-XFEl"
      },
      "source": [
        "[learning-python3.ipynb]: https://gist.githubusercontent.com/kenjyco/69eeb503125035f21a9d/raw/learning-python3.ipynb\n",
        "\n",
        "Right-click -> \"save link as\" [https://gist.githubusercontent.com/kenjyco/69eeb503125035f21a9d/raw/learning-python3.ipynb][learning-python3.ipynb] to get most up-to-date version of this notebook file.\n",
        "\n",
        "## Quick note about Jupyter cells\n",
        "\n",
        "When you are editing a cell in Jupyter notebook, you need to re-run the cell by pressing **`<Shift> + <Enter>`**. This will allow changes you made to be available to other cells.\n",
        "\n",
        "Use **`<Enter>`** to make new lines inside a cell you are editing.\n",
        "\n",
        "#### Code cells\n",
        "\n",
        "Re-running will execute any statements you have written. To edit an existing code cell, click on it.\n",
        "\n",
        "#### Markdown cells\n",
        "\n",
        "Re-running will render the markdown text. To edit an existing markdown cell, double-click on it.\n",
        "\n",
        "<hr>"
      ]
    },
    {
      "cell_type": "markdown",
      "metadata": {
        "id": "0U3akY4kXFEp"
      },
      "source": [
        "## Common Jupyter operations\n",
        "\n",
        "Near the top of the https://try.jupyter.org page, Jupyter provides a row of menu options (`File`, `Edit`, `View`, `Insert`, ...) and a row of tool bar icons (disk, plus sign, scissors, 2 files, clipboard and file, up arrow, ...).\n",
        "\n",
        "#### Inserting and removing cells\n",
        "\n",
        "- Use the \"plus sign\" icon to insert a cell below the currently selected cell\n",
        "- Use \"Insert\" -> \"Insert Cell Above\" from the menu to insert above\n",
        "\n",
        "#### Clear the output of all cells\n",
        "\n",
        "- Use \"Kernel\" -> \"Restart\" from the menu to restart the kernel\n",
        "    - click on \"clear all outputs & restart\" to have all the output cleared\n",
        "\n",
        "#### Save your notebook file locally\n",
        "\n",
        "- Clear the output of all cells\n",
        "- Use \"File\" -> \"Download as\" -> \"IPython Notebook (.ipynb)\" to download a notebook file representing your https://try.jupyter.org session\n",
        "\n",
        "#### Load your notebook file in try.jupyter.org\n",
        "\n",
        "1. Visit https://try.jupyter.org\n",
        "2. Click the \"Upload\" button near the upper right corner\n",
        "3. Navigate your filesystem to find your `*.ipynb` file and click \"open\"\n",
        "4. Click the new \"upload\" button that appears next to your file name\n",
        "5. Click on your uploaded notebook file\n",
        "\n",
        "<hr>"
      ]
    },
    {
      "cell_type": "markdown",
      "metadata": {
        "id": "CDtjBZMtXFEq"
      },
      "source": [
        "## References\n",
        "\n",
        "- https://try.jupyter.org\n",
        "- https://docs.python.org/3/tutorial/index.html\n",
        "- https://docs.python.org/3/tutorial/introduction.html\n",
        "- https://daringfireball.net/projects/markdown/syntax\n",
        "\n",
        "<hr>"
      ]
    },
    {
      "cell_type": "markdown",
      "metadata": {
        "id": "NJmxlJ-UXFEq"
      },
      "source": [
        "## Python objects, basic types, and variables\n",
        "\n",
        "Everything in Python is an **object** and every object in Python has a **type**. Some of the basic types include:\n",
        "\n",
        "- **`int`** (integer; a whole number with no decimal place)\n",
        "  - `10`\n",
        "  - `-3`\n",
        "- **`float`** (float; a number that has a decimal place)\n",
        "  - `7.41`\n",
        "  - `-0.006`\n",
        "- **`str`** (string; a sequence of characters enclosed in single quotes, double quotes, or triple quotes)\n",
        "  - `'this is a string using single quotes'`\n",
        "  - `\"this is a string using double quotes\"`\n",
        "  - `'''this is a triple quoted string using single quotes'''`\n",
        "  - `\"\"\"this is a triple quoted string using double quotes\"\"\"`\n",
        "- **`bool`** (boolean; a binary value that is either true or false)\n",
        "  - `True`\n",
        "  - `False`\n",
        "- **`NoneType`** (a special type representing the absence of a value)\n",
        "  - `None`\n",
        "\n",
        "In Python, a **variable** is a name you specify in your code that maps to a particular **object**, object **instance**, or value.\n",
        "\n",
        "By defining variables, we can refer to things by names that make sense to us. Names for variables can only contain letters, underscores (`_`), or numbers (no spaces, dashes, or other characters). Variable names must start with a letter or underscore.\n",
        "\n",
        "<hr>"
      ]
    },
    {
      "cell_type": "markdown",
      "metadata": {
        "id": "Thee9ldBXFEr"
      },
      "source": [
        "## Basic operators\n",
        "\n",
        "In Python, there are different types of **operators** (special symbols) that operate on different values. Some of the basic operators include:\n",
        "\n",
        "- arithmetic operators\n",
        "  - **`+`** (addition)\n",
        "  - **`-`** (subtraction)\n",
        "  - **`*`** (multiplication)\n",
        "  - **`/`** (division)\n",
        "  - __`**`__ (exponent)\n",
        "- assignment operators\n",
        "  - **`=`** (assign a value)\n",
        "  - **`+=`** (add and re-assign; increment)\n",
        "  - **`-=`** (subtract and re-assign; decrement)\n",
        "  - **`*=`** (multiply and re-assign)\n",
        "- comparison operators (return either `True` or `False`)\n",
        "  - **`==`** (equal to)\n",
        "  - **`!=`** (not equal to)\n",
        "  - **`<`** (less than)\n",
        "  - **`<=`** (less than or equal to)\n",
        "  - **`>`** (greater than)\n",
        "  - **`>=`** (greater than or equal to)\n",
        "\n",
        "When multiple operators are used in a single expression, **operator precedence** determines which parts of the expression are evaluated in which order. Operators with higher precedence are evaluated first (like PEMDAS in math). Operators with the same precedence are evaluated from left to right.\n",
        "\n",
        "- `()` parentheses, for grouping\n",
        "- `**` exponent\n",
        "- `*`, `/` multiplication and division\n",
        "- `+`, `-` addition and subtraction\n",
        "- `==`, `!=`, `<`, `<=`, `>`, `>=` comparisons\n",
        "\n",
        "> See https://docs.python.org/3/reference/expressions.html#operator-precedence"
      ]
    },
    {
      "cell_type": "code",
      "execution_count": null,
      "metadata": {
        "id": "-P5fklKUXFEs"
      },
      "outputs": [],
      "source": [
        "# Assigning some numbers to different variables\n",
        "num1 = 10\n",
        "num2 = -3\n",
        "num3 = 7.41\n",
        "num4 = -.6\n",
        "num5 = 7\n",
        "num6 = 3\n",
        "num7 = 11.11"
      ]
    },
    {
      "cell_type": "code",
      "execution_count": null,
      "metadata": {
        "id": "20JBUR3dXFEt"
      },
      "outputs": [],
      "source": [
        "# Addition\n",
        "num1 + num2"
      ]
    },
    {
      "cell_type": "code",
      "execution_count": null,
      "metadata": {
        "id": "l4qmNEP3XFEt"
      },
      "outputs": [],
      "source": [
        "# Subtraction\n",
        "num2 - num3"
      ]
    },
    {
      "cell_type": "code",
      "execution_count": null,
      "metadata": {
        "id": "oRQCcE3oXFEu"
      },
      "outputs": [],
      "source": [
        "# Multiplication\n",
        "num3 * num4"
      ]
    },
    {
      "cell_type": "code",
      "execution_count": null,
      "metadata": {
        "id": "vVuXf6j2XFEu"
      },
      "outputs": [],
      "source": [
        "# Division\n",
        "num4 / num5"
      ]
    },
    {
      "cell_type": "code",
      "execution_count": null,
      "metadata": {
        "id": "1YILK1F8XFEv"
      },
      "outputs": [],
      "source": [
        "# Exponent\n",
        "num5 ** num6"
      ]
    },
    {
      "cell_type": "code",
      "execution_count": null,
      "metadata": {
        "id": "wM8w1S81XFEv"
      },
      "outputs": [],
      "source": [
        "# Increment existing variable\n",
        "num7 += 4\n",
        "num7"
      ]
    },
    {
      "cell_type": "code",
      "execution_count": null,
      "metadata": {
        "id": "bBegrfpmXFEv"
      },
      "outputs": [],
      "source": [
        "# Decrement existing variable\n",
        "num6 -= 2\n",
        "num6"
      ]
    },
    {
      "cell_type": "code",
      "execution_count": null,
      "metadata": {
        "id": "9U9Gc5UJXFEw"
      },
      "outputs": [],
      "source": [
        "# Multiply & re-assign\n",
        "num3 *= 5\n",
        "num3"
      ]
    },
    {
      "cell_type": "code",
      "execution_count": null,
      "metadata": {
        "id": "YnUMZG_-XFEw"
      },
      "outputs": [],
      "source": [
        "# Assign the value of an expression to a variable\n",
        "num8 = num1 + num2 * num3\n",
        "num8"
      ]
    },
    {
      "cell_type": "code",
      "execution_count": null,
      "metadata": {
        "id": "tVi4ktLKXFEw"
      },
      "outputs": [],
      "source": [
        "# Are these two expressions equal to each other?\n",
        "num1 + num2 == num5"
      ]
    },
    {
      "cell_type": "code",
      "execution_count": null,
      "metadata": {
        "id": "KJZN2E6sXFEw"
      },
      "outputs": [],
      "source": [
        "# Are these two expressions not equal to each other?\n",
        "num3 != num4"
      ]
    },
    {
      "cell_type": "code",
      "execution_count": null,
      "metadata": {
        "id": "uYglvkCYXFEx"
      },
      "outputs": [],
      "source": [
        "# Is the first expression less than the second expression?\n",
        "num5 < num6"
      ]
    },
    {
      "cell_type": "code",
      "execution_count": null,
      "metadata": {
        "id": "h29yB_-DXFEx"
      },
      "outputs": [],
      "source": [
        "# Is this expression True?\n",
        "5 > 3 > 1"
      ]
    },
    {
      "cell_type": "code",
      "execution_count": null,
      "metadata": {
        "id": "esr5wh5mXFEx"
      },
      "outputs": [],
      "source": [
        "# Is this expression True?\n",
        "5 > 3 < 4 == 3 + 1"
      ]
    },
    {
      "cell_type": "code",
      "execution_count": null,
      "metadata": {
        "id": "JhFo7c5vXFEx"
      },
      "outputs": [],
      "source": [
        "# Assign some strings to different variables\n",
        "simple_string1 = 'an example'\n",
        "simple_string2 = \"oranges \""
      ]
    },
    {
      "cell_type": "code",
      "execution_count": null,
      "metadata": {
        "id": "3jnZuUz0XFEx"
      },
      "outputs": [],
      "source": [
        "# Addition\n",
        "simple_string1 + ' of using the + operator'"
      ]
    },
    {
      "cell_type": "code",
      "execution_count": null,
      "metadata": {
        "id": "QIBZWiIDXFEy"
      },
      "outputs": [],
      "source": [
        "# Notice that the string was not modified\n",
        "simple_string1"
      ]
    },
    {
      "cell_type": "code",
      "execution_count": null,
      "metadata": {
        "id": "MVP9k2dNXFEy"
      },
      "outputs": [],
      "source": [
        "# Multiplication\n",
        "simple_string2 * 4"
      ]
    },
    {
      "cell_type": "code",
      "execution_count": null,
      "metadata": {
        "id": "VyJ4JLOqXFEy"
      },
      "outputs": [],
      "source": [
        "# This string wasn't modified either\n",
        "simple_string2"
      ]
    },
    {
      "cell_type": "code",
      "execution_count": null,
      "metadata": {
        "id": "ddEADGJRXFEy"
      },
      "outputs": [],
      "source": [
        "# Are these two expressions equal to each other?\n",
        "simple_string1 == simple_string2"
      ]
    },
    {
      "cell_type": "code",
      "execution_count": null,
      "metadata": {
        "id": "nN-S1ORyXFEy"
      },
      "outputs": [],
      "source": [
        "# Are these two expressions equal to each other?\n",
        "simple_string1 == 'an example'"
      ]
    },
    {
      "cell_type": "code",
      "execution_count": null,
      "metadata": {
        "id": "3vGJ2dj8XFEy"
      },
      "outputs": [],
      "source": [
        "# Add and re-assign\n",
        "simple_string1 += ' that re-assigned the original string'\n",
        "simple_string1"
      ]
    },
    {
      "cell_type": "code",
      "execution_count": null,
      "metadata": {
        "id": "bUlBFL6AXFEz"
      },
      "outputs": [],
      "source": [
        "# Multiply and re-assign\n",
        "simple_string2 *= 3\n",
        "simple_string2"
      ]
    },
    {
      "cell_type": "code",
      "execution_count": null,
      "metadata": {
        "id": "SQsllWjmXFEz"
      },
      "outputs": [],
      "source": [
        "# Note: Subtraction, division, and decrement operators do not apply to strings."
      ]
    },
    {
      "cell_type": "markdown",
      "metadata": {
        "id": "K_ozmNc1XFEz"
      },
      "source": [
        "## Basic containers\n",
        "\n",
        "> Note: **mutable** objects can be modified after creation and **immutable** objects cannot.\n",
        "\n",
        "Containers are objects that can be used to group other objects together. The basic container types include:\n",
        "\n",
        "- **`str`** (string: immutable; indexed by integers; items are stored in the order they were added)\n",
        "- **`list`** (list: mutable; indexed by integers; items are stored in the order they were added)\n",
        "  - `[3, 5, 6, 3, 'dog', 'cat', False]`\n",
        "- **`tuple`** (tuple: immutable; indexed by integers; items are stored in the order they were added)\n",
        "  - `(3, 5, 6, 3, 'dog', 'cat', False)`\n",
        "- **`set`** (set: mutable; not indexed at all; items are NOT stored in the order they were added; can only contain immutable objects; does NOT contain duplicate objects)\n",
        "  - `{3, 5, 6, 3, 'dog', 'cat', False}`\n",
        "- **`dict`** (dictionary: mutable; key-value pairs are indexed by immutable keys; items are NOT stored in the order they were added)\n",
        "  - `{'name': 'Jane', 'age': 23, 'fav_foods': ['pizza', 'fruit', 'fish']}`\n",
        "\n",
        "When defining lists, tuples, or sets, use commas (,) to separate the individual items. When defining dicts, use a colon (:) to separate keys from values and commas (,) to separate the key-value pairs.\n",
        "\n",
        "Strings, lists, and tuples are all **sequence types** that can use the `+`, `*`, `+=`, and `*=` operators.\n",
        "\n",
        "Note: Show how to use **in**!!!"
      ]
    },
    {
      "cell_type": "code",
      "execution_count": null,
      "metadata": {
        "id": "2-_LFD-xXFEz"
      },
      "outputs": [],
      "source": [
        "# Assign some containers to different variables\n",
        "list1 = [3, 5, 6, 3, 'dog', 'cat', False]\n",
        "tuple1 = (3, 5, 6, 3, 'dog', 'cat', False)\n",
        "set1 = {3, 5, 6, 3, 'dog', 'cat', False}\n",
        "dict1 = {'name': 'Jane', 'age': 23, 'fav_foods': ['pizza', 'fruit', 'fish']}"
      ]
    },
    {
      "cell_type": "code",
      "execution_count": null,
      "metadata": {
        "id": "E1eXyrTnXFEz"
      },
      "outputs": [],
      "source": [
        "# Items in the list object are stored in the order they were added\n",
        "list1"
      ]
    },
    {
      "cell_type": "code",
      "execution_count": null,
      "metadata": {
        "id": "EVLfQNfFXFEz"
      },
      "outputs": [],
      "source": [
        "# Items in the tuple object are stored in the order they were added\n",
        "tuple1"
      ]
    },
    {
      "cell_type": "code",
      "execution_count": null,
      "metadata": {
        "id": "PH8McQPJXFE0"
      },
      "outputs": [],
      "source": [
        "# Items in the set object are not stored in the order they were added\n",
        "# Also, notice that the value 3 only appears once in this set object\n",
        "set1"
      ]
    },
    {
      "cell_type": "code",
      "execution_count": null,
      "metadata": {
        "id": "9Q9wJ1GzXFE0"
      },
      "outputs": [],
      "source": [
        "# Items in the dict object are not stored in the order they were added\n",
        "dict1"
      ]
    },
    {
      "cell_type": "code",
      "execution_count": null,
      "metadata": {
        "id": "PJ8A-A_dXFE0"
      },
      "outputs": [],
      "source": [
        "# Add and re-assign\n",
        "list1 += [5, 'grapes']\n",
        "list1"
      ]
    },
    {
      "cell_type": "code",
      "execution_count": null,
      "metadata": {
        "id": "KKtbWzOxXFE0"
      },
      "outputs": [],
      "source": [
        "# Add and re-assign\n",
        "tuple1 += (5, 'grapes')\n",
        "tuple1"
      ]
    },
    {
      "cell_type": "code",
      "execution_count": null,
      "metadata": {
        "id": "LZqgXdJaXFE0"
      },
      "outputs": [],
      "source": [
        "# Multiply\n",
        "[1, 2, 3, 4] * 2"
      ]
    },
    {
      "cell_type": "code",
      "execution_count": null,
      "metadata": {
        "id": "xYAHYtppXFE0"
      },
      "outputs": [],
      "source": [
        "# Multiply\n",
        "(1, 2, 3, 4) * 3"
      ]
    },
    {
      "cell_type": "markdown",
      "metadata": {
        "id": "EvvbWD9jXFE0"
      },
      "source": [
        "## Accessing data in containers\n",
        "\n",
        "For strings, lists, tuples, and dicts, we can use **subscript notation** (square brackets) to access data at an index.\n",
        "\n",
        "- strings, lists, and tuples are indexed by integers, **starting at 0** for first item\n",
        "  - these sequence types also support accesing a range of items, known as **slicing**\n",
        "  - use **negative indexing** to start at the back of the sequence\n",
        "- dicts are indexed by their keys\n",
        "\n",
        "> Note: sets are not indexed, so we cannot use subscript notation to access data elements."
      ]
    },
    {
      "cell_type": "code",
      "execution_count": null,
      "metadata": {
        "id": "_jp3sStLXFE1"
      },
      "outputs": [],
      "source": [
        "# Access the first item in a sequence\n",
        "list1[0]"
      ]
    },
    {
      "cell_type": "code",
      "execution_count": null,
      "metadata": {
        "id": "Ts_zmBIqXFE1"
      },
      "outputs": [],
      "source": [
        "# Access the last item in a sequence\n",
        "tuple1[-1]"
      ]
    },
    {
      "cell_type": "code",
      "execution_count": null,
      "metadata": {
        "id": "gG5FSu3kXFE1"
      },
      "outputs": [],
      "source": [
        "# Access a range of items in a sequence\n",
        "simple_string1[3:8]"
      ]
    },
    {
      "cell_type": "code",
      "execution_count": null,
      "metadata": {
        "id": "KTazlrCJXFE1"
      },
      "outputs": [],
      "source": [
        "# Access a range of items in a sequence\n",
        "tuple1[:-3]"
      ]
    },
    {
      "cell_type": "code",
      "execution_count": null,
      "metadata": {
        "id": "9Msh_hQjXFE1"
      },
      "outputs": [],
      "source": [
        "# Access a range of items in a sequence\n",
        "list1[4:]"
      ]
    },
    {
      "cell_type": "code",
      "execution_count": null,
      "metadata": {
        "id": "-j4-7GP5XFE1"
      },
      "outputs": [],
      "source": [
        "# Access an item in a dictionary\n",
        "dict1['name']"
      ]
    },
    {
      "cell_type": "code",
      "execution_count": null,
      "metadata": {
        "id": "XPQ0p3CkXFE1"
      },
      "outputs": [],
      "source": [
        "# Access an element of a sequence in a dictionary\n",
        "dict1['fav_foods'][2]"
      ]
    },
    {
      "cell_type": "markdown",
      "metadata": {
        "id": "6Eylf01BXFE1"
      },
      "source": [
        "## Python built-in functions and callables\n",
        "\n",
        "A **function** is a Python object that you can \"call\" to **perform an action** or compute and **return another object**. You call a function by placing parentheses to the right of the function name. Some functions allow you to pass **arguments** inside the parentheses (separating multiple arguments with a comma). Internal to the function, these arguments are treated like variables.\n",
        "\n",
        "Python has several useful built-in functions to help you work with different objects and/or your environment. Here is a small sample of them:\n",
        "\n",
        "- **`type(obj)`** to determine the type of an object\n",
        "- **`len(container)`** to determine how many items are in a container\n",
        "- **`callable(obj)`** to determine if an object is callable\n",
        "- **`sorted(container)`** to return a new list from a container, with the items sorted\n",
        "- **`sum(container)`** to compute the sum of a container of numbers\n",
        "- **`min(container)`** to determine the smallest item in a container\n",
        "- **`max(container)`** to determine the largest item in a container\n",
        "- **`abs(number)`** to determine the absolute value of a number\n",
        "- **`repr(obj)`** to return a string representation of an object\n",
        "\n",
        "> Complete list of built-in functions: https://docs.python.org/3/library/functions.html\n",
        "\n",
        "> Complete list of keywords: https://www.w3schools.com/python/python_ref_keywords.asp\n",
        "\n",
        "There are also different ways of defining your own functions and callable objects that we will explore later."
      ]
    },
    {
      "cell_type": "code",
      "execution_count": null,
      "metadata": {
        "id": "FWYED9X3XFE2"
      },
      "outputs": [],
      "source": [
        "# Use the type() function to determine the type of an object\n",
        "type(simple_string1)"
      ]
    },
    {
      "cell_type": "code",
      "execution_count": null,
      "metadata": {
        "id": "d6ZI5iuVXFE2"
      },
      "outputs": [],
      "source": [
        "# Use the len() function to determine how many items are in a container\n",
        "len(dict1)"
      ]
    },
    {
      "cell_type": "code",
      "execution_count": null,
      "metadata": {
        "id": "fcqgOJbEXFE2"
      },
      "outputs": [],
      "source": [
        "# Use the len() function to determine how many items are in a container\n",
        "len(simple_string2)"
      ]
    },
    {
      "cell_type": "code",
      "execution_count": null,
      "metadata": {
        "id": "Sxf5mNrbXFE2"
      },
      "outputs": [],
      "source": [
        "# Use the sorted() function to return a new list from a container, with the items sorted\n",
        "sorted([10, 1, 3.6, 7, 5, 2, -3])"
      ]
    },
    {
      "cell_type": "code",
      "execution_count": null,
      "metadata": {
        "id": "rOf8aacOXFE2"
      },
      "outputs": [],
      "source": [
        "# Use the sorted() function to return a new list from a container, with the items sorted\n",
        "# - notice that capitalized strings come first\n",
        "sorted(['dogs', 'cats', 'zebras', 'Chicago', 'California', 'ants', 'mice'])"
      ]
    },
    {
      "cell_type": "code",
      "execution_count": null,
      "metadata": {
        "id": "QFQKe8kvXFE2"
      },
      "outputs": [],
      "source": [
        "# Use the sum() function to compute the sum of a container of numbers\n",
        "sum([10, 1, 3.6, 7, 5, 2, -3])"
      ]
    },
    {
      "cell_type": "code",
      "execution_count": null,
      "metadata": {
        "id": "MnKvbqkiXFE2"
      },
      "outputs": [],
      "source": [
        "# Use the min() function to determine the smallest item in a container\n",
        "min([10, 1, 3.6, 7, 5, 2, -3])"
      ]
    },
    {
      "cell_type": "code",
      "execution_count": null,
      "metadata": {
        "id": "-aZA17boXFE2"
      },
      "outputs": [],
      "source": [
        "# Use the min() function to determine the smallest item in a container\n",
        "min(['g', 'z', 'a', 'y'])"
      ]
    },
    {
      "cell_type": "code",
      "execution_count": null,
      "metadata": {
        "id": "RWcTsG8YXFE3"
      },
      "outputs": [],
      "source": [
        "# Use the max() function to determine the largest item in a container\n",
        "max([10, 1, 3.6, 7, 5, 2, -3])"
      ]
    },
    {
      "cell_type": "code",
      "execution_count": null,
      "metadata": {
        "id": "wF5zb5rUXFE3"
      },
      "outputs": [],
      "source": [
        "# Use the max() function to determine the largest item in a container\n",
        "max('gibberish')"
      ]
    },
    {
      "cell_type": "code",
      "execution_count": null,
      "metadata": {
        "id": "P9qljm_fXFE3"
      },
      "outputs": [],
      "source": [
        "# Use the abs() function to determine the absolute value of a number\n",
        "abs(10)"
      ]
    },
    {
      "cell_type": "code",
      "execution_count": null,
      "metadata": {
        "id": "edGS8MoRXFE3"
      },
      "outputs": [],
      "source": [
        "# Use the abs() function to determine the absolute value of a number\n",
        "abs(-12)"
      ]
    },
    {
      "cell_type": "code",
      "execution_count": null,
      "metadata": {
        "id": "_IRE1ObwXFE3"
      },
      "outputs": [],
      "source": [
        "# Use the repr() function to return a string representation of an object\n",
        "repr(set1)"
      ]
    },
    {
      "cell_type": "markdown",
      "metadata": {
        "id": "Tc66skZHXFE3"
      },
      "source": [
        "## Python object attributes (methods and properties)\n",
        "\n",
        "Different types of objects in Python have different **attributes** that can be referred to by name (similar to a variable). To access an attribute of an object, use a dot (`.`) after the object, then specify the attribute (i.e. `obj.attribute`)\n",
        "\n",
        "When an attribute of an object is a callable, that attribute is called a **method**. It is the same as a function, only this function is bound to a particular object.\n",
        "\n",
        "When an attribute of an object is not a callable, that attribute is called a **property**. It is just a piece of data about the object, that is itself another object.\n",
        "\n",
        "The built-in `dir()` function can be used to return a list of an object's attributes.\n",
        "\n",
        "<hr>"
      ]
    },
    {
      "cell_type": "markdown",
      "metadata": {
        "id": "-TGFxYGLXFE3"
      },
      "source": [
        "## Some methods on string objects\n",
        "\n",
        "- **`.capitalize()`** to return a capitalized version of the string (only first char uppercase)\n",
        "- **`.upper()`** to return an uppercase version of the string (all chars uppercase)\n",
        "- **`.lower()`** to return an lowercase version of the string (all chars lowercase)\n",
        "- **`.count(substring)`** to return the number of occurences of the substring in the string\n",
        "- **`.startswith(substring)`** to determine if the string starts with the substring\n",
        "- **`.endswith(substring)`** to determine if the string ends with the substring\n",
        "- **`.replace(old, new)`** to return a copy of the string with occurences of the \"old\" replaced by \"new\""
      ]
    },
    {
      "cell_type": "code",
      "execution_count": null,
      "metadata": {
        "id": "5uj4ic5yXFE4"
      },
      "outputs": [],
      "source": [
        "# Assign a string to a variable\n",
        "a_string = 'tHis is a sTriNg'"
      ]
    },
    {
      "cell_type": "code",
      "execution_count": null,
      "metadata": {
        "id": "C7agqZsPXFE4"
      },
      "outputs": [],
      "source": [
        "# Return a capitalized version of the string\n",
        "a_string.capitalize()"
      ]
    },
    {
      "cell_type": "code",
      "execution_count": null,
      "metadata": {
        "id": "I4oCJnTYXFE4"
      },
      "outputs": [],
      "source": [
        "# Return an uppercase version of the string\n",
        "a_string.upper()"
      ]
    },
    {
      "cell_type": "code",
      "execution_count": null,
      "metadata": {
        "id": "idXVPu3wXFE4"
      },
      "outputs": [],
      "source": [
        "# Return a lowercase version of the string\n",
        "a_string.lower()"
      ]
    },
    {
      "cell_type": "code",
      "execution_count": null,
      "metadata": {
        "id": "folByb2oXFE4"
      },
      "outputs": [],
      "source": [
        "# Notice that the methods called have not actually modified the string\n",
        "a_string"
      ]
    },
    {
      "cell_type": "code",
      "execution_count": null,
      "metadata": {
        "id": "V_J1wLw_XFE4"
      },
      "outputs": [],
      "source": [
        "# Count number of occurences of a substring in the string\n",
        "a_string.count('i')"
      ]
    },
    {
      "cell_type": "code",
      "execution_count": null,
      "metadata": {
        "id": "TJYKeipQXFE4"
      },
      "outputs": [],
      "source": [
        "# Count number of occurences of a substring in the string after a certain position\n",
        "a_string.count('i', 7)"
      ]
    },
    {
      "cell_type": "code",
      "execution_count": null,
      "metadata": {
        "id": "KMiobdY5XFE4"
      },
      "outputs": [],
      "source": [
        "# Count number of occurences of a substring in the string\n",
        "a_string.count('is')"
      ]
    },
    {
      "cell_type": "code",
      "execution_count": null,
      "metadata": {
        "id": "nsLwgsdxXFE4"
      },
      "outputs": [],
      "source": [
        "# Does the string start with 'this'?\n",
        "a_string.startswith('this')"
      ]
    },
    {
      "cell_type": "code",
      "execution_count": null,
      "metadata": {
        "id": "eJJt-fZ5XFE5"
      },
      "outputs": [],
      "source": [
        "# Does the lowercase string start with 'this'?\n",
        "a_string.lower().startswith('this')"
      ]
    },
    {
      "cell_type": "code",
      "execution_count": null,
      "metadata": {
        "id": "sgcifG7yXFE5"
      },
      "outputs": [],
      "source": [
        "# Does the string end with 'Ng'?\n",
        "a_string.endswith('Ng')"
      ]
    },
    {
      "cell_type": "code",
      "execution_count": null,
      "metadata": {
        "id": "COJKJnRxXFE5"
      },
      "outputs": [],
      "source": [
        "# Return a version of the string with a substring replaced with something else\n",
        "a_string.replace('is', 'XYZ')"
      ]
    },
    {
      "cell_type": "code",
      "execution_count": null,
      "metadata": {
        "id": "6FsPvX_iXFE5"
      },
      "outputs": [],
      "source": [
        "# Return a version of the string with a substring replaced with something else\n",
        "a_string.replace('i', '!')"
      ]
    },
    {
      "cell_type": "code",
      "execution_count": null,
      "metadata": {
        "id": "aeN0E9N9XFE5"
      },
      "outputs": [],
      "source": [
        "# Return a version of the string with the first 2 occurences a substring replaced with something else\n",
        "a_string.replace('i', '!', 2)"
      ]
    },
    {
      "cell_type": "markdown",
      "metadata": {
        "id": "Ah3KeMxXXFE5"
      },
      "source": [
        "## Some methods on list objects\n",
        "\n",
        "- **`.append(item)`** to add a single item to the list\n",
        "- **`.extend([item1, item2, ...])`** to add multiple items to the list\n",
        "- **`.remove(item)`** to remove a single item from the list\n",
        "- **`.pop()`** to remove and return the item at the end of the list\n",
        "- **`.pop(index)`** to remove and return an item at an index"
      ]
    },
    {
      "cell_type": "code",
      "execution_count": null,
      "metadata": {
        "id": "rNSNGOvlXFE5"
      },
      "outputs": [],
      "source": [
        ""
      ]
    },
    {
      "cell_type": "code",
      "execution_count": null,
      "metadata": {
        "id": "IyDzC44xXFE5"
      },
      "outputs": [],
      "source": [
        ""
      ]
    },
    {
      "cell_type": "markdown",
      "metadata": {
        "id": "X3ZFWILZXFE5"
      },
      "source": [
        "## Some methods on set objects\n",
        "\n",
        "- **`.add(item)`** to add a single item to the set\n",
        "- **`.update([item1, item2, ...])`** to add multiple items to the set\n",
        "- **`.update(set2, set3, ...)`** to add items from all provided sets to the set\n",
        "- **`.remove(item)`** to remove a single item from the set\n",
        "- **`.pop()`** to remove and return a random item from the set\n",
        "- **`.difference(set2)`** to return items in the set that are not in another set\n",
        "- **`.intersection(set2)`** to return items in both sets\n",
        "- **`.union(set2)`** to return items that are in either set\n",
        "- **`.symmetric_difference(set2)`** to return items that are only in one set (not both)\n",
        "- **`.issuperset(set2)`** does the set contain everything in the other set?\n",
        "- **`.issubset(set2)`** is the set contained in the other set?"
      ]
    },
    {
      "cell_type": "code",
      "execution_count": null,
      "metadata": {
        "id": "zEERmKFSXFE5"
      },
      "outputs": [],
      "source": [
        ""
      ]
    },
    {
      "cell_type": "markdown",
      "metadata": {
        "id": "nzQfoWU0XFE6"
      },
      "source": [
        "## Some methods on dict objects\n",
        "\n",
        "- **`.update([(key1, val1), (key2, val2), ...])`** to add multiple key-value pairs to the dict\n",
        "- **`.update(dict2)`** to add all keys and values from another dict to the dict\n",
        "- **`.pop(key)`** to remove key and return its value from the dict (error if key not found)\n",
        "- **`.pop(key, default_val)`** to remove key and return its value from the dict (or return default_val if key not found)\n",
        "- **`.get(key)`** to return the value at a specified key in the dict (or None if key not found)\n",
        "- **`.get(key, default_val)`** to return the value at a specified key in the dict (or default_val if key not found)\n",
        "- **`.keys()`** to return a list of keys in the dict\n",
        "- **`.values()`** to return a list of values in the dict\n",
        "- **`.items()`** to return a list of key-value pairs (tuples) in the dict"
      ]
    },
    {
      "cell_type": "code",
      "execution_count": null,
      "metadata": {
        "id": "B9CN36k_XFE6"
      },
      "outputs": [],
      "source": [
        "# Note show that get() can be simply done without get() :)"
      ]
    },
    {
      "cell_type": "code",
      "execution_count": null,
      "metadata": {
        "id": "WQpa5c2DXFE6"
      },
      "outputs": [],
      "source": [
        ""
      ]
    },
    {
      "cell_type": "markdown",
      "metadata": {
        "id": "ykLfbsVpXFE6"
      },
      "source": [
        "## Positional arguments and keyword arguments to callables\n",
        "\n",
        "You can call a function/method in a number of different ways:\n",
        "\n",
        "- `func()`: Call `func` with no arguments\n",
        "- `func(arg)`: Call `func` with one positional argument\n",
        "- `func(arg1, arg2)`: Call `func` with two positional arguments\n",
        "- `func(arg1, arg2, ..., argn)`: Call `func` with many positional arguments\n",
        "- `func(kwarg=value)`: Call `func` with one keyword argument \n",
        "- `func(kwarg1=value1, kwarg2=value2)`: Call `func` with two keyword arguments\n",
        "- `func(kwarg1=value1, kwarg2=value2, ..., kwargn=valuen)`: Call `func` with many keyword arguments\n",
        "- `func(arg1, arg2, kwarg1=value1, kwarg2=value2)`: Call `func` with positonal arguments and keyword arguments\n",
        "- `obj.method()`: Same for `func`.. and every other `func` example\n",
        "\n",
        "When using **positional arguments**, you must provide them in the order that the function defined them (the function's **signature**).\n",
        "\n",
        "When using **keyword arguments**, you can provide the arguments you want, in any order you want, as long as you specify each argument's name.\n",
        "\n",
        "When using positional and keyword arguments, positional arguments must come first."
      ]
    },
    {
      "cell_type": "code",
      "execution_count": null,
      "metadata": {
        "id": "F-NKG4F6XFE6"
      },
      "outputs": [],
      "source": [
        "from matplotlib.pyplot import plot"
      ]
    },
    {
      "cell_type": "code",
      "execution_count": null,
      "metadata": {
        "id": "TpM08O1pXFE6"
      },
      "outputs": [],
      "source": [
        ""
      ]
    },
    {
      "cell_type": "markdown",
      "metadata": {
        "id": "G9jRWjYLXFE6"
      },
      "source": [
        "## Formatting strings and using placeholders\n",
        "\n",
        "F-strings and old formatting syntax. More information can be found on https://realpython.com/python-f-strings/\n",
        "\n",
        "* Old approach with %\n",
        "* New approach with f-strings\n",
        "* Places, decimal size, overall size, number formatting (thousand separator)"
      ]
    },
    {
      "cell_type": "code",
      "execution_count": 12,
      "metadata": {
        "id": "A-uN88_LXFE6"
      },
      "outputs": [],
      "source": [
        "name = [\"John Doe\", \"Homer Simpson\"]\n",
        "height = [5.879, 6.1354, 8.98751]\n",
        "salary = [1321556, 6549875321]\n"
      ]
    },
    {
      "cell_type": "code",
      "execution_count": null,
      "metadata": {
        "id": "l6n_omqmXFE7"
      },
      "outputs": [],
      "source": [
        ""
      ]
    },
    {
      "cell_type": "markdown",
      "metadata": {
        "id": "WY2P-KicXFE7"
      },
      "source": [
        "## Python \"for loops\"\n",
        "\n",
        "It is easy to **iterate** over a collection of items using a **for loop**. The strings, lists, tuples, sets, and dictionaries we defined are all **iterable** containers.\n",
        "\n",
        "The for loop will go through the specified container, one item at a time, and provide a temporary variable for the current item. You can use this temporary variable like a normal variable.\n"
      ]
    },
    {
      "cell_type": "markdown",
      "metadata": {
        "id": "l6-RDhC3XFE7"
      },
      "source": [
        "1. For each\n",
        "2. For range\n",
        "3. Iterating through dictionary\n",
        "4. Break, continue (/0)"
      ]
    },
    {
      "cell_type": "code",
      "execution_count": 11,
      "metadata": {
        "id": "XJ6CDPaPXFE7"
      },
      "outputs": [],
      "source": [
        ""
      ]
    },
    {
      "cell_type": "markdown",
      "metadata": {
        "id": "_dBhFkR0XFE7"
      },
      "source": [
        "## Python \"if statements\" and \"while loops\"\n",
        "\n",
        "Conditional expressions can be used with these two **conditional statements**.\n",
        "\n",
        "The **if statement** allows you to test a condition and perform some actions if the condition evaluates to `True`. You can also provide `elif` and/or `else` clauses to an if statement to take alternative actions if the condition evaluates to `False`.\n",
        "\n",
        "The **while loop** will keep looping until its conditional expression evaluates to `False`.\n",
        "\n",
        "> Note: It is possible to \"loop forever\" when using a while loop with a conditional expression that never evaluates to `False`.\n",
        ">\n",
        "> Note: Since the **for loop** will iterate over a container of items until there are no more, there is no need to specify a \"stop looping\" condition."
      ]
    },
    {
      "cell_type": "markdown",
      "metadata": {
        "id": "KfwyE5i2XFE8"
      },
      "source": [
        "1. if condition\n",
        "2. else\n",
        "3. elif\n",
        "4. and/or\n",
        "5. break/continue"
      ]
    },
    {
      "cell_type": "code",
      "execution_count": 11,
      "metadata": {
        "id": "b45jiMnaXFE8"
      },
      "outputs": [],
      "source": [
        ""
      ]
    },
    {
      "cell_type": "markdown",
      "metadata": {
        "id": "F5oDfKejXFE8"
      },
      "source": [
        "## <span style=\"color:orange\">TASK</span> (+-15m)\n",
        "\n",
        "**Iterate through given list of strings. For each string, detect whether it is an email address (assume all string containing @ are emails and have correct format), if it is an email address print only the email username (without domain), else print \"Not a valid email address\".**\n",
        "\n",
        "`email_list = [\"pmilicka@deloittece.com\", \n",
        "              \"hello there\", \n",
        "              \"pythonisawesome@gmail.com\", \n",
        "              \"DSARulezz@hotmail.com\", \n",
        "              \"this.is.not.an.email\"]`"
      ]
    },
    {
      "cell_type": "code",
      "execution_count": 11,
      "metadata": {
        "id": "UEYi0mxNXFE8"
      },
      "outputs": [],
      "source": [
        "\n",
        "email_list = [\"pmilicka@deloittece.com\", \n",
        "              \"hello there\", \n",
        "              \"pythonisawesome@gmail.com\", \n",
        "              \"DSARulezz@hotmail.com\", \n",
        "              \"this.is.not.an.email\"]\n"
      ]
    },
    {
      "cell_type": "markdown",
      "metadata": {
        "id": "YVyvLw0yXFE8"
      },
      "source": [
        "## Casting\n",
        "\n",
        "The basic types and containers we have used so far all provide **type constructors**:\n",
        "\n",
        "- `int()`\n",
        "- `float()`\n",
        "- `str()`\n",
        "- `list()`\n",
        "- `tuple()`\n",
        "- `set()`\n",
        "- `dict()`\n",
        "\n",
        "Up to this point, we have been defining objects of these built-in types using some syntactic shortcuts, since they are so common.\n",
        "\n",
        "Sometimes, you will have an object of one type that you need to convert to another type. Use the **type constructor** for the type of object you want to have, and pass in the object you currently have."
      ]
    },
    {
      "cell_type": "code",
      "execution_count": 10,
      "metadata": {
        "id": "DIHX4K1_XFE8"
      },
      "outputs": [],
      "source": [
        ""
      ]
    },
    {
      "cell_type": "markdown",
      "metadata": {
        "id": "gWdx3IZhXFE8"
      },
      "source": [
        "## Functions\n",
        "1. defining functions\n",
        "2. return\n",
        "3. return multiple values\n",
        "4. function arguments, arguments by name\n",
        "5. default function arguments"
      ]
    },
    {
      "cell_type": "code",
      "execution_count": 10,
      "metadata": {
        "id": "NVX5b_IrXFE8"
      },
      "outputs": [],
      "source": [
        ""
      ]
    },
    {
      "cell_type": "markdown",
      "metadata": {
        "id": "E0pTiKuJXFE9"
      },
      "source": [
        "## <span style=\"color:orange\">TASK</span> \n",
        "Implement function which prints fibonacci sequence until specified number.\n",
        "\n",
        "Fibonacci sequence is f(i) = f(i-1) + f(i-2) where f(0) = 0, f(1) = 1"
      ]
    },
    {
      "cell_type": "code",
      "execution_count": null,
      "metadata": {
        "id": "78bb4FNXXFE9"
      },
      "outputs": [],
      "source": [
        ""
      ]
    },
    {
      "cell_type": "markdown",
      "metadata": {
        "id": "IAL3LQNlXFE9"
      },
      "source": [
        "## <span style=\"color:orange\">TASK</span>\n",
        "Implement function which will return a factorial of a given number. (You can try recursive functions if you are up for the challenge)."
      ]
    },
    {
      "cell_type": "code",
      "execution_count": null,
      "metadata": {
        "id": "BPPx_8ZIXFE9"
      },
      "outputs": [],
      "source": [
        ""
      ]
    },
    {
      "cell_type": "markdown",
      "metadata": {
        "id": "fTSuEWA4XFE9"
      },
      "source": [
        "## <span style=\"color:orange\">TASK</span>\n",
        "Implement function which will serve as primitive square matrix calculator. The function will have following arguments:\n",
        "1. A - sqr matrix \n",
        "2. B - sqr matrix\n",
        "3. operation - at least {\"+\", \"-\", \"==\"}, where + will return the matrix A+B, - will return the matrix A-B, and == will return True if the matrices are equal.\n",
        "If one of the input matrix is not valid (not squared or invalid format) or operation is not supported, print(\"Error\") and return nothing."
      ]
    },
    {
      "cell_type": "code",
      "execution_count": null,
      "metadata": {
        "id": "xArWPRabXFE9"
      },
      "outputs": [],
      "source": [
        ""
      ]
    },
    {
      "cell_type": "markdown",
      "metadata": {
        "id": "5y8LfIJHXFE9"
      },
      "source": [
        "## Using packages and libraries\n",
        "\n",
        "How to import packages and use them to make your life easier.\n",
        "\n",
        "Note: \n",
        "* import, \n",
        "* import x as y\n",
        "* from x import y\n",
        "\n",
        "Example: numpy, matplotlib, plot sinus wave"
      ]
    },
    {
      "cell_type": "code",
      "execution_count": 31,
      "metadata": {
        "id": "QOsqyUmBXFE-"
      },
      "outputs": [],
      "source": [
        ""
      ]
    },
    {
      "cell_type": "markdown",
      "metadata": {
        "id": "kHklb9_dXFE-"
      },
      "source": [
        "## Files\n",
        "https://nbviewer.jupyter.org/github/jerry-git/learn-python3/blob/master/notebooks/beginner/notebooks/file_io.ipynb"
      ]
    },
    {
      "cell_type": "code",
      "execution_count": null,
      "metadata": {
        "id": "oSGrmXqbXFE-"
      },
      "outputs": [],
      "source": [
        "with open(r\"in/googleplaystore.csv\", \"r\") as fin:\n",
        "    for i in range(0,4):\n",
        "        print(fin.readline())"
      ]
    },
    {
      "cell_type": "markdown",
      "metadata": {
        "id": "wv9m6FvbXFE-"
      },
      "source": [
        "## Classes\n",
        "\n",
        "* Class vs Class Instance \n",
        "* methods and attributes (\n",
        "* `__init__(self)`\n",
        "* `__repr__(self)`/`__str__(self)`\n",
        "* Example: Dog and tricks"
      ]
    },
    {
      "cell_type": "code",
      "execution_count": null,
      "metadata": {
        "id": "wzvTCACfXFE-"
      },
      "outputs": [],
      "source": [
        ""
      ]
    },
    {
      "cell_type": "markdown",
      "metadata": {
        "id": "7Zns6FCAXFE-"
      },
      "source": [
        "## Exceptions\n",
        "\n",
        "* Exception examples - out of index, division by zero, position following keyword arguments\n",
        "* Exception message tells you what is wrong\n",
        "* Try-catch\n",
        "* Raising your own error"
      ]
    },
    {
      "cell_type": "code",
      "execution_count": null,
      "metadata": {
        "id": "NQs--_DNXFE-"
      },
      "outputs": [],
      "source": [
        ""
      ]
    },
    {
      "cell_type": "markdown",
      "source": [
        ""
      ],
      "metadata": {
        "id": "0igTF44MYh2_"
      }
    },
    {
      "cell_type": "markdown",
      "source": [
        "## TASK (20-30 min) 🎮 👾 🎮\n",
        "\n",
        "Implement your very own hangman game. The snippet below generates random word.\n",
        "\n",
        "What should be included:\n",
        "* Inform user about the word length.\n",
        "* Make a check on the input, only one letter should be inputted at a time.\n",
        "* Print already guessed part with number of lives left. Reduce life only if the letter is not present. E.g. You can print `A _ _ _ _ a _ _ | 3 lives left` when 'a' is given and the word is Airplane.\n",
        "* (If you're done after 5 min, make it into a class, so the game now begins with you telling your name and continues with playing hangman. When you win, it gives you another word. At the end it tells you how many words you made and tells and prints your position on scoreboard. The scoreboard is stored on disk in whatever format you like.) (IO, Class, Exception handling, ...) \n"
      ],
      "metadata": {
        "id": "gkwxi_h2Y1Ci"
      }
    },
    {
      "cell_type": "code",
      "source": [
        "import nltk\n",
        "from nltk.corpus import words\n",
        "from random import sample\n",
        "nltk.download(\"words\")\n",
        "rand_word = sample(words.words(), 1)[0]\n",
        "print(rand_word)"
      ],
      "metadata": {
        "id": "Nc8KR5qVYDTq"
      },
      "execution_count": null,
      "outputs": []
    },
    {
      "cell_type": "code",
      "source": [
        "# Your code goes here"
      ],
      "metadata": {
        "id": "fgEYER9hcwIL"
      },
      "execution_count": null,
      "outputs": []
    }
  ],
  "metadata": {
    "kernelspec": {
      "display_name": "Python 3",
      "language": "python",
      "name": "python3"
    },
    "language_info": {
      "codemirror_mode": {
        "name": "ipython",
        "version": 3
      },
      "file_extension": ".py",
      "mimetype": "text/x-python",
      "name": "python",
      "nbconvert_exporter": "python",
      "pygments_lexer": "ipython3",
      "version": "3.8.3"
    },
    "colab": {
      "name": "Python_101.ipynb",
      "provenance": []
    }
  },
  "nbformat": 4,
  "nbformat_minor": 0
}