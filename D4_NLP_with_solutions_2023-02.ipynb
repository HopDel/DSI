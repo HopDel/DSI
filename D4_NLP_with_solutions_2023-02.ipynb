{
 "cells": [
  {
   "cell_type": "markdown",
   "id": "d4b31a8c",
   "metadata": {},
   "source": [
    "# Text analytics - Natural Language Processing\n",
    "\n",
    "After reviewing this notebook, you will be able to perform basic NLP steps, using mainly the popular spaCy library. \n",
    "\n",
    "NLP steps covered in this tutorial include:\n",
    "- text pre-processing\n",
    "- tokenization & lemmatization \n",
    "- finding keywords & transforming text to ML-usable numeric vectors\n",
    "- working with meaning through word embeddings (semantic vectors)\n",
    "- word tagging for named entities - Named Entity Recognition (NER)\n",
    "\n",
    "------\n",
    "\n",
    "### NLP with spaCy\n",
    "https://spacy.io/\n",
    "(The version used in this tutorial is spaCy 3.4)\n",
    "\n",
    "First, let's import necessary libraries."
   ]
  },
  {
   "cell_type": "code",
   "execution_count": 1,
   "id": "72426d9e",
   "metadata": {},
   "outputs": [],
   "source": [
    "import numpy as np\n",
    "import pandas as pd\n",
    "import spacy #spacy is a popular NLP library\n",
    "from spacy import displacy #displacy enables visualisation of selected spacy outputs"
   ]
  },
  {
   "cell_type": "markdown",
   "id": "ac6ebbe9",
   "metadata": {},
   "source": [
    "SpaCy works with pre-trained language models which you have to download locally. For this tutorial, we will use the medium-size English model. For a list of models available, see spaCy documentation: https://spacy.io/usage/models\n",
    "\n",
    "While we're at it, let's get a couple of other packages that will be needed later on."
   ]
  },
  {
   "cell_type": "code",
   "execution_count": null,
   "id": "e259c574",
   "metadata": {},
   "outputs": [],
   "source": [
    "# # download the model we will be working with\n",
    "# !python -m spacy download en_core_web_md\n",
    "# # install a package for language detection within spacy\n",
    "# !pip install spacy_langdetect\n",
    "# # install a package to interact with wikipeida articles\n",
    "# !pip install wikipedia"
   ]
  },
  {
   "cell_type": "markdown",
   "id": "d4cd6221",
   "metadata": {},
   "source": [
    "Once you have the model downloaded, you have to load it in order to be able to use it. (While you download it once only, you then have to load the model for each session/script.) Note that there is a naming convention to call your loaded model \"nlp\"."
   ]
  },
  {
   "cell_type": "code",
   "execution_count": 2,
   "id": "655147d1",
   "metadata": {},
   "outputs": [],
   "source": [
    "nlp = spacy.load(\"en_core_web_md\")"
   ]
  },
  {
   "cell_type": "markdown",
   "id": "e54785fa",
   "metadata": {},
   "source": [
    "You can then use the loaded model to process text input. Note that there is a standard way to call your processed document 'doc'."
   ]
  },
  {
   "cell_type": "code",
   "execution_count": 3,
   "id": "c4d41ddf",
   "metadata": {},
   "outputs": [
    {
     "data": {
      "text/plain": [
       "John is learning about natural language processing. To learn this in Prague is fun for everyone who loves nature and languages."
      ]
     },
     "execution_count": 3,
     "metadata": {},
     "output_type": "execute_result"
    }
   ],
   "source": [
    "doc = nlp(\"John is learning about natural language processing. To learn this in Prague is fun for everyone who loves nature and languages.\")\n",
    "doc"
   ]
  },
  {
   "cell_type": "markdown",
   "id": "ffe57040",
   "metadata": {},
   "source": [
    "On the first sight, the doc object looks pretty much the same as the text input, but in fact it is already processed and contains many useful linguistic attributes.\n",
    "\n",
    "From spaCy documentation:\n",
    "\n",
    ">When you call nlp on a text, spaCy first tokenizes the text to produce a Doc object. The Doc is then processed in several different steps – this is also referred to as the processing pipeline. The pipeline used by the trained pipelines typically includes a tagger, a lemmatizer, a parser and an entity recognizer. Each pipeline component returns the processed Doc, which is then passed on to the next component.\n",
    "\n",
    "The resulting Doc is split into tokens and has attributes coming from the processing steps (the pipeline can of course be customized to include more or less steps as necessary). You can access the tokens by common slicing methods, and attributes by their name/type (https://spacy.io/api/token). Note that punctuation symbols are also included as individual tokens.\n"
   ]
  },
  {
   "cell_type": "markdown",
   "id": "d6959b68",
   "metadata": {},
   "source": [
    "Let's inspect the processed object in a bit more detail. We can have a look at each token, its lemma, its part of speech tag (POS), whether it is a stopword, whether it consists of alphabetic characters, and its named entity (NE) type - if any."
   ]
  },
  {
   "cell_type": "code",
   "execution_count": 4,
   "id": "034d6772",
   "metadata": {},
   "outputs": [
    {
     "name": "stdout",
     "output_type": "stream",
     "text": [
      "Token           Lemma           POS        stop       alpha      NE        \n",
      "John            John            PROPN      0          1          PERSON    \n",
      "is              be              AUX        1          1                    \n",
      "learning        learn           VERB       0          1                    \n",
      "about           about           ADP        1          1                    \n",
      "natural         natural         ADJ        0          1                    \n",
      "language        language        NOUN       0          1                    \n",
      "processing      processing      NOUN       0          1                    \n",
      ".               .               PUNCT      0          0                    \n",
      "To              to              PART       1          1                    \n",
      "learn           learn           VERB       0          1                    \n",
      "this            this            PRON       1          1                    \n",
      "in              in              ADP        1          1                    \n",
      "Prague          Prague          PROPN      0          1          GPE       \n",
      "is              be              AUX        1          1                    \n",
      "fun             fun             ADJ        0          1                    \n",
      "for             for             ADP        1          1                    \n",
      "everyone        everyone        PRON       1          1                    \n",
      "who             who             PRON       1          1                    \n",
      "loves           love            VERB       0          1                    \n",
      "nature          nature          NOUN       0          1                    \n",
      "and             and             CCONJ      1          1                    \n",
      "languages       language        NOUN       0          1                    \n",
      ".               .               PUNCT      0          0                    \n",
      "Last 5 tokens:  loves nature and languages.\n",
      "First sentence:  John is learning about natural language processing.\n",
      "Number of tokens:  23\n",
      "Number of sentences:  2\n",
      "Number of identified entities:  2 \n",
      "\n"
     ]
    }
   ],
   "source": [
    "#Nicer format for the output\n",
    "print(\"{:<15} {:<15} {:<10} {:<10} {:<10} {:<10}\".format(\n",
    "    'Token','Lemma','POS','stop','alpha','NE'))\n",
    "# Iterating over the tokens and accessing some of their attributes.\n",
    "# (Note: attribute .lemma returns a numerical index of each lemma, .lemma_ returns the actual value)\n",
    "for i in doc:\n",
    "    print(\"{:<15} {:<15} {:<10} {:<10} {:<10} {:<10}\".format(\n",
    "        i.text, i.lemma_, i.pos_, i.is_stop, i.is_alpha,i.ent_type_))\n",
    "\n",
    "# accessing individual tokens & sentences\n",
    "\n",
    "print(\"Last 5 tokens: \", doc[-5:])\n",
    "print(\"First sentence: \", list(doc.sents)[0])\n",
    "print(\"Number of tokens: \", len(doc))\n",
    "#doc.sents is a generator, to work with the actual sentences, make it into a list \n",
    "print(\"Number of sentences: \", len(list(doc.sents))) \n",
    "print(\"Number of identified entities: \", len(doc.ents), '\\n')"
   ]
  },
  {
   "cell_type": "markdown",
   "id": "a7e72fee",
   "metadata": {},
   "source": [
    "You can see that the tokens still keep their upper/lower case as well as the exact grammatical form in which they appear in the text, while lemmas have both normalized form and case. Punctuation is also represented as tokens and has its own lemma. For further working with the text, it is better to do some pre-processing so that we keep only the most relevant words in their normalized form."
   ]
  },
  {
   "cell_type": "markdown",
   "id": "44fdc39c",
   "metadata": {},
   "source": [
    "Side note: spaCy pipelines are language dependent. In case you are dealing with documents in unknown or mixed languages (or aim to categorize documents based on their language), you might want to include language detection as a first step of your pipeline. Language detection in general works more reliably on longer examples."
   ]
  },
  {
   "cell_type": "code",
   "execution_count": 5,
   "id": "dcf65e70",
   "metadata": {},
   "outputs": [
    {
     "data": {
      "text/plain": [
       "<spacy_langdetect.spacy_langdetect.LanguageDetector at 0x17a7bb60c40>"
      ]
     },
     "execution_count": 5,
     "metadata": {},
     "output_type": "execute_result"
    }
   ],
   "source": [
    "# necessary imports & adding language detection to the pipeline\n",
    "from spacy_langdetect import LanguageDetector\n",
    "from spacy.language import Language\n",
    "def create_lang_detector(nlp, name):\n",
    "    return LanguageDetector()\n",
    "\n",
    "Language.factory(\"language_detector\", func=create_lang_detector)\n",
    "nlp.add_pipe('language_detector')"
   ]
  },
  {
   "cell_type": "code",
   "execution_count": 6,
   "id": "52ff6a9d",
   "metadata": {},
   "outputs": [
    {
     "name": "stdout",
     "output_type": "stream",
     "text": [
      "This is an English example. {'language': 'en', 'score': 0.9999969465898443}\n",
      "Zkusíme i jiné jazyky. {'language': 'cs', 'score': 0.9999952488983818}\n",
      "Es funkzioniert ganz gut. {'language': 'de', 'score': 0.9999962025662377}\n",
      "What happens if we do mix jazyky dohromady? {'language': 'en', 'score': 0.7142828533449656}\n",
      "Málo slov {'language': 'sk', 'score': 0.9999943776869402}\n",
      "je {'language': 'hr', 'score': 0.9999924595738174}\n",
      "těžší určit {'language': 'cs', 'score': 0.9999962724231453}\n"
     ]
    }
   ],
   "source": [
    "texts = [\"This is an English example.\",\n",
    "        \"Zkusíme i jiné jazyky.\",\n",
    "        \"Es funkzioniert ganz gut.\",\n",
    "        \"What happens if we do mix jazyky dohromady?\",\n",
    "        \"Málo slov\",\n",
    "        \"je\",\n",
    "        \"těžší určit\"]\n",
    "\n",
    "# Explore the detected languages.\n",
    "for text in texts:\n",
    "    doc_detect = nlp(text)\n",
    "    print(text, doc_detect._.language)"
   ]
  },
  {
   "cell_type": "markdown",
   "id": "e1bf4007",
   "metadata": {},
   "source": [
    "### Text pre-processing\n",
    "\n",
    "Typical pre-processing steps include: removing punctuation, lowercasing, removing stopwords (frequently occuring words that don't significantly contribute to unique meaning of a text/document), and normalization - either stemming or lemmatization. Resulting normalized text can be further used e.g. as input for ML classification.\n",
    "\n",
    "Let's have a look at how a text document differs at different stages of pre-processing."
   ]
  },
  {
   "cell_type": "code",
   "execution_count": 7,
   "id": "20b4e381",
   "metadata": {},
   "outputs": [
    {
     "name": "stdout",
     "output_type": "stream",
     "text": [
      "Number of tokens:  23\n",
      "Number of tokens without punctuation:  21\n",
      "Number of tokens without punctuation and stopwords:  11\n",
      "Number of lemmas without punctuation and stopwords 11\n",
      "Number of unique tokens without punctuation and stopwords:  11\n",
      "Number of unique lemmas without punctuation and stopwords 9\n"
     ]
    }
   ],
   "source": [
    "# list of all tokens in a text\n",
    "tokens = [token.text for token in doc]\n",
    "\n",
    "# list of all tokens without punctuation and other characters.\n",
    "# Note that here we simply go for tokens that contain alphabetic characters.\n",
    "# You could also be more generic and specify which exact character types you would like to avoid:\n",
    "# tokens_no_punct = [token for token in doc if not token.is_punct | token.is_space]\n",
    "tokens_no_punct = [token for token in doc if token.is_alpha]\n",
    "\n",
    "# list of all tokens without punctuation, all lowercase\n",
    "tokens_no_punct_lower =  [token.text.lower() for token in doc if token.is_alpha]\n",
    "\n",
    "# list of all lowercased tokens without punctuation + removing stopwords\n",
    "tokens_no_punct_lower_no_stopwords = [token.text.lower() for token in doc if token.is_alpha & (token.is_stop == False)]\n",
    "\n",
    "# list of all lemmas without punctuation and stopwords (lemmas have unified case automatically)\n",
    "lemmas = [token.lemma_ for token in doc if token.is_alpha & (token.is_stop == False)]\n",
    "\n",
    "# Let's look at some statistics about are sample text.\n",
    "print(\"Number of tokens: \", len(tokens))\n",
    "print(\"Number of tokens without punctuation: \",len(tokens_no_punct))\n",
    "print(\"Number of tokens without punctuation and stopwords: \", len(tokens_no_punct_lower_no_stopwords))\n",
    "print(\"Number of lemmas without punctuation and stopwords\", len(lemmas))\n",
    "print(\"Number of unique tokens without punctuation and stopwords: \", len(set(tokens_no_punct_lower_no_stopwords)))\n",
    "print(\"Number of unique lemmas without punctuation and stopwords\", len(set(lemmas)))"
   ]
  },
  {
   "cell_type": "markdown",
   "id": "347302c1",
   "metadata": {},
   "source": [
    "You can see that removing stopwords and punctuation significantly shortens the number of items even in such a short text. For processing of longer texts, this can lead to large saving in computing time and resources. Also note that there is a smaller number of unique lemmas than unique tokens, this is because different forms of the same word get united under the same lemma (see the two lists below for a comparison). Also while we did lowercase all the tokens, case is unified automatically for lemmas, lowercasing generic words, but keeping upper case for proper names."
   ]
  },
  {
   "cell_type": "code",
   "execution_count": 8,
   "id": "bd809eb9",
   "metadata": {},
   "outputs": [
    {
     "name": "stdout",
     "output_type": "stream",
     "text": [
      "['fun', 'john', 'language', 'languages', 'learn', 'learning', 'loves', 'natural', 'nature', 'prague', 'processing']\n",
      "['John', 'Prague', 'fun', 'language', 'learn', 'love', 'natural', 'nature', 'processing']\n"
     ]
    }
   ],
   "source": [
    "print(sorted(set(tokens_no_punct_lower_no_stopwords)))\n",
    "print(sorted(set(lemmas)))"
   ]
  },
  {
   "cell_type": "markdown",
   "id": "00f7f67f",
   "metadata": {},
   "source": [
    "##### Hands-on #1\n",
    "*Let's try all this out on a Wikipedia article. In this exercise we will demonstrate that using pre-processing and filtering out of stopwords and punctuation is crucial for getting meaningful insights from a text.*\n",
    "\n",
    "*First we get the content of a selected Wikipedia page (simply run the cell bellow).*"
   ]
  },
  {
   "cell_type": "code",
   "execution_count": 9,
   "id": "9979f795",
   "metadata": {},
   "outputs": [
    {
     "data": {
      "text/plain": [
       "\"The Turing test, originally called the imitation game by Alan Turing in 1950, is a test of a machine's ability to exhibit intelligent behaviour equivalent to, or indistinguishable from, that of a human. Turing proposed that a human evaluator would judge natural language conversations between a human and a machine designed to generate human-like responses. The evaluator would be aware that one of the two partners in conversation was a machine, and all participants would be separated from one another. The conversation would be limited to a text-only channel, such as a computer keyboard and screen, so the result would not depend on the machine's ability to render words as speech. If the evaluator could not reliably tell the machine from the human, the machine would be said to have passed the test. The test results would not depend on the machine's ability to give correct answers to questions, only on how closely its answers resembled those a human would give.\\nThe test was introduced by Tu\""
      ]
     },
     "execution_count": 9,
     "metadata": {},
     "output_type": "execute_result"
    }
   ],
   "source": [
    "import wikipedia\n",
    "turing = wikipedia.page(\"Turings test\").content\n",
    "#show first 1000 characters of the text\n",
    "turing[:1000]"
   ]
  },
  {
   "cell_type": "markdown",
   "id": "a8f85e90",
   "metadata": {},
   "source": [
    "*Your task is to process the text using spaCy's default pipeline. Then create two separate lists:*\n",
    "\n",
    "    - tokens_turing, containing simply all the tokens from the text without any preprocessing\n",
    "    - lemmas_turing, containing all the lemmas from the text, cleaned from punctuation and stop words\n",
    "    \n",
    "*Additional questions:*\n",
    "\n",
    "1. How many sentences are there in the text?\n",
    "2. What is the last sentence?\n",
    "3. What is the number of unique tokens and lemmas in the text?\n",
    "\n",
    "*Hint: You can use set(x) to create a set of unique values from a list x*\n",
    "\n",
    "    "
   ]
  },
  {
   "cell_type": "code",
   "execution_count": null,
   "id": "3c3d04a8",
   "metadata": {},
   "outputs": [],
   "source": [
    "# Enter your code here\n",
    "doc_turing = \n",
    "tokens_turing = \n",
    "lemmas_turing =\n",
    "\n",
    "\n",
    "\n",
    " "
   ]
  },
  {
   "cell_type": "code",
   "execution_count": 10,
   "id": "316ad466",
   "metadata": {},
   "outputs": [
    {
     "name": "stdout",
     "output_type": "stream",
     "text": [
      "Number of sentences:  320\n",
      "Last sentence:  Wiki News: \"Talk:Computer professionals celebrate 10th birthday of A.L.I.C.E.\"\n",
      "Number of unique tokens:  2096\n",
      "Number of unique lemmas:  1414\n"
     ]
    }
   ],
   "source": [
    "# SOLUTION\n",
    "# nlp = spacy.load(\"en_core_web_md\")\n",
    "doc_turing = nlp(turing)\n",
    "tokens_turing = [token.text for token in doc_turing]\n",
    "lemmas_turing = [token.lemma_ for token in doc_turing if token.is_alpha & (token.is_stop == False)]\n",
    "\n",
    "print(\"Number of sentences: \", len(list(doc_turing.sents)))\n",
    "print(\"Last sentence: \", list(doc_turing.sents)[-1])\n",
    "print(\"Number of unique tokens: \", len(set(tokens_turing)))\n",
    "print(\"Number of unique lemmas: \", len(set(lemmas_turing)))"
   ]
  },
  {
   "cell_type": "markdown",
   "id": "7e9fdb24",
   "metadata": {},
   "source": [
    "*Finally, we can use your prepared lists to see what the most frequent tokens vs lemmas of the text are. Run the following cell to see that text pre-processing not only can save us computing time by reducing the number of analyzed terms, it also leads to more meaningful text summary.*"
   ]
  },
  {
   "cell_type": "code",
   "execution_count": 11,
   "id": "b42b8529",
   "metadata": {},
   "outputs": [
    {
     "name": "stdout",
     "output_type": "stream",
     "text": [
      "Most frequent tokens:  [('the', 507), (',', 371), ('of', 306), ('.', 305), ('=', 258), ('to', 249), ('a', 247), ('\"', 208), ('and', 182), ('that', 164)] \n",
      "\n",
      "Most frequent lemmas:  [('test', 171), ('turing', 106), ('machine', 92), ('human', 88), ('intelligence', 57), ('Turing', 46), ('interrogator', 43), ('game', 41), ('computer', 41), ('question', 38)]\n"
     ]
    }
   ],
   "source": [
    "from collections import Counter\n",
    "word_freq_tokens = Counter(tokens_turing)\n",
    "word_freq_lemmas = Counter(lemmas_turing)\n",
    "print(\"Most frequent tokens: \", word_freq_tokens.most_common(10), \"\\n\")\n",
    "print(\"Most frequent lemmas: \",word_freq_lemmas.most_common(10))"
   ]
  },
  {
   "cell_type": "markdown",
   "id": "5cf9ba70",
   "metadata": {},
   "source": [
    "*Now that you pre-processed the text, you can actually use the lemmas to generate a quick summary of the text in form of a popular graphic - the wordcloud. Just run the cell bellow to see it.*"
   ]
  },
  {
   "cell_type": "code",
   "execution_count": 12,
   "id": "855aa43c",
   "metadata": {},
   "outputs": [
    {
     "data": {
      "image/png": "[encoded data removed]",
      "text/plain": [
       "<Figure size 432x288 with 1 Axes>"
      ]
     },
     "metadata": {
      "needs_background": "light"
     },
     "output_type": "display_data"
    }
   ],
   "source": [
    "from wordcloud import WordCloud\n",
    "import matplotlib.pyplot as plt\n",
    "%matplotlib inline\n",
    "\n",
    "# Generate word cloud from our lemmas dataset.\n",
    "# Note that hte wordlcoud library expects input as a string.\n",
    "word_cloud = WordCloud(background_color = 'white').generate(\" \".join(lemmas_turing))\n",
    "# Display the wordcloud\n",
    "plt.imshow(word_cloud)\n",
    "plt.axis(\"off\")\n",
    "plt.show()"
   ]
  },
  {
   "cell_type": "markdown",
   "id": "d21bd576",
   "metadata": {},
   "source": [
    "### Feature extraction from a text"
   ]
  },
  {
   "cell_type": "markdown",
   "id": "ce0e660e",
   "metadata": {},
   "source": [
    "Our generated list of lemmas is already just a few lines of code away from having a bag-of-words representation of the whole text. Let's first summarize the preprocessing steps in one function."
   ]
  },
  {
   "cell_type": "code",
   "execution_count": 13,
   "id": "1b6143b6",
   "metadata": {},
   "outputs": [],
   "source": [
    "def preprocess_text(input_text):\n",
    "    doc = nlp(input_text)\n",
    "    # lemmatization of significant tokens of text\n",
    "    lemmas_cleaned = [token.lemma_ for token in doc if \n",
    "                                 token.is_alpha & (token.is_stop == False)]\n",
    "    # joining tokens into a string\n",
    "    processed_text = ' '.join(lemmas_cleaned)\n",
    "    return processed_text\n",
    "\n",
    "# sample input\n",
    "texts = [\"We love apples and we love cherries.\",\n",
    "       \"We love apples and we love bananas.\",\n",
    "        \"We love apples and we love pears\"]\n",
    "# pre-process the input\n",
    "preprocessed = [preprocess_text(t) for t in texts]"
   ]
  },
  {
   "cell_type": "markdown",
   "id": "03bfd79a",
   "metadata": {},
   "source": [
    "Now, with the pre-processed input, we can continue to create the actual Bag-of-Words representation. It will collect all the words form all documents in our processed input and use them as vocabulary, and it will also count the occurences of each vocabulary item in each document. "
   ]
  },
  {
   "cell_type": "code",
   "execution_count": 14,
   "id": "4838552a",
   "metadata": {},
   "outputs": [
    {
     "name": "stdout",
     "output_type": "stream",
     "text": [
      "5\n",
      "['apple' 'banana' 'cherry' 'love' 'pear']\n",
      "[[1 0 1 2 0]\n",
      " [1 1 0 2 0]\n",
      " [1 0 0 2 1]]\n"
     ]
    }
   ],
   "source": [
    "from sklearn.feature_extraction.text import CountVectorizer\n",
    "# initialize the vectorizer\n",
    "bow = CountVectorizer()\n",
    "# transform words into a count vector\n",
    "features_bow = bow.fit_transform(preprocessed)\n",
    "\n",
    "# get the full vocabulary\n",
    "vocab_bow = bow.get_feature_names_out()\n",
    "# saving the word counts as an array (this can then be used as features for ML models)\n",
    "features_array_bow = features_bow.toarray()\n",
    "# inspect the vocab file\n",
    "print(len(vocab_bow))\n",
    "print(vocab_bow)\n",
    "print(features_array_bow)"
   ]
  },
  {
   "cell_type": "markdown",
   "id": "55c7b04e",
   "metadata": {},
   "source": [
    "Let's have a look at the vocabulary sorted by occuerence count. "
   ]
  },
  {
   "cell_type": "code",
   "execution_count": 15,
   "id": "e0753069",
   "metadata": {},
   "outputs": [
    {
     "name": "stdout",
     "output_type": "stream",
     "text": [
      "{'love': 2, 'apple': 1, 'cherry': 1, 'banana': 0, 'pear': 0}\n",
      "{'love': 2, 'apple': 1, 'banana': 1, 'cherry': 0, 'pear': 0}\n",
      "{'love': 2, 'apple': 1, 'pear': 1, 'banana': 0, 'cherry': 0}\n"
     ]
    }
   ],
   "source": [
    "features_cherries_bow = dict(zip(vocab_bow, features_array_bow[0]))\n",
    "features_bananas_bow = dict(zip(vocab_bow, features_array_bow[1]))\n",
    "features_pears_bow = dict(zip(vocab_bow, features_array_bow[2]))\n",
    "\n",
    "print(dict(sorted(features_cherries_bow.items(), key=lambda x: x[1], reverse=True)[:10]))\n",
    "print(dict(sorted(features_bananas_bow.items(), key=lambda x: x[1], reverse=True)[:10]))\n",
    "print(dict(sorted(features_pears_bow.items(), key=lambda x: x[1], reverse=True)[:10]))"
   ]
  },
  {
   "cell_type": "markdown",
   "id": "4e90a5e5",
   "metadata": {},
   "source": [
    "Bag of words is one way of vectorizing a text document. It is based solely on the frequency of occurences of the individual terms, which  might conceal some significant information. Therefore, tfidf (term frequency - inversed document frequency) is typically used for vectorization, as it adds information about which words are specific for a particular document. Let's demonstrate this on our sample sentences.\n",
    "\n",
    "We can do the vectorization as we did with BoW, getting to the same vocabulary items. However, the assigned values for each vocabulary item are different now."
   ]
  },
  {
   "cell_type": "code",
   "execution_count": 16,
   "id": "c7b96d81",
   "metadata": {},
   "outputs": [
    {
     "name": "stdout",
     "output_type": "stream",
     "text": [
      "5\n",
      "['apple' 'banana' 'cherry' 'love' 'pear']\n",
      "[[0.35653519 0.         0.60366655 0.71307037 0.        ]\n",
      " [0.35653519 0.60366655 0.         0.71307037 0.        ]\n",
      " [0.35653519 0.         0.         0.71307037 0.60366655]]\n"
     ]
    }
   ],
   "source": [
    "from sklearn.feature_extraction.text import TfidfVectorizer\n",
    "tfidf = TfidfVectorizer()\n",
    "features_tfidf = tfidf.fit_transform(preprocessed)\n",
    "\n",
    "# get the full vocabulary\n",
    "vocab_tfidf = tfidf.get_feature_names_out()\n",
    "# saving the word values as an array (this can then be used as features for ML models)\n",
    "features_array_tfidf = features_tfidf.toarray()\n",
    "# inspect the vocab file\n",
    "print(len(vocab_tfidf))\n",
    "print(vocab_tfidf)\n",
    "print(features_array_tfidf)"
   ]
  },
  {
   "cell_type": "markdown",
   "id": "71d7312d",
   "metadata": {},
   "source": [
    "Let's inspect the sorted items again."
   ]
  },
  {
   "cell_type": "code",
   "execution_count": 17,
   "id": "f5d0cbc3",
   "metadata": {},
   "outputs": [
    {
     "name": "stdout",
     "output_type": "stream",
     "text": [
      "{'love': 0.7130703749351064, 'cherry': 0.6036665474310993, 'apple': 0.3565351874675532, 'banana': 0.0, 'pear': 0.0}\n",
      "{'love': 0.7130703749351064, 'banana': 0.6036665474310993, 'apple': 0.3565351874675532, 'cherry': 0.0, 'pear': 0.0}\n",
      "{'love': 0.7130703749351064, 'pear': 0.6036665474310993, 'apple': 0.3565351874675532, 'banana': 0.0, 'cherry': 0.0}\n"
     ]
    }
   ],
   "source": [
    "features_cherries_tfidf = dict(zip(vocab_tfidf, features_array_tfidf[0]))\n",
    "features_bananas_tfidf = dict(zip(vocab_tfidf, features_array_tfidf[1]))\n",
    "features_pears_tfidf = dict(zip(vocab_tfidf, features_array_tfidf[2]))\n",
    "\n",
    "print(dict(sorted(features_cherries_tfidf.items(), key=lambda x: x[1], reverse=True)[:10]))\n",
    "print(dict(sorted(features_bananas_tfidf.items(), key=lambda x: x[1], reverse=True)[:10]))\n",
    "print(dict(sorted(features_pears_tfidf.items(), key=lambda x: x[1], reverse=True)[:10]))"
   ]
  },
  {
   "cell_type": "markdown",
   "id": "92c4a5da",
   "metadata": {},
   "source": [
    "You can see that while apples and the other types of fruit had the same value in BoW, in tfidf the other fruit types have higer value than apples. This is because apples are mentioned in all three examples, but the other fruit types are specific to each document, thus adding more information for distinguishing between the three."
   ]
  },
  {
   "cell_type": "markdown",
   "id": "086c7d4c",
   "metadata": {},
   "source": [
    "##### Hands-on #2\n",
    "\n",
    "*Now let's practice what we have just learned on another example. Load the following Wikipedia articles about Prague, Brno, Bratislava and Budapest and process them. Get both the bag-of-words and tfidf representation of these articles. Looking at the top 5 words for each city and representation types, which words get bigger importance in the tfidf representation?*\n",
    "\n",
    "*Hint: You can use the preprocess funciton we defined earlier.*"
   ]
  },
  {
   "cell_type": "code",
   "execution_count": 18,
   "id": "bb8a43b1",
   "metadata": {},
   "outputs": [],
   "source": [
    "# get the Wikipedia articles\n",
    "texts = [wikipedia.page(\"prague city czech\").content, \n",
    "         wikipedia.page(\"brno city\").content,\n",
    "         wikipedia.page(\"bratislava city\").content,\n",
    "         wikipedia.page(\"budapest city\").content\n",
    "        ]"
   ]
  },
  {
   "cell_type": "code",
   "execution_count": null,
   "id": "65687fa8",
   "metadata": {},
   "outputs": [],
   "source": [
    "# Your code goes here\n",
    "\n",
    "\n",
    "\n",
    "\n"
   ]
  },
  {
   "cell_type": "markdown",
   "id": "ab98f660",
   "metadata": {},
   "source": [
    "*Bonus task: create word clouds for one of the articles.*"
   ]
  },
  {
   "cell_type": "code",
   "execution_count": null,
   "id": "3aefd5ea",
   "metadata": {},
   "outputs": [],
   "source": [
    "# Your code goes here\n",
    "\n",
    "\n",
    "\n"
   ]
  },
  {
   "cell_type": "code",
   "execution_count": 19,
   "id": "bdfa14e2",
   "metadata": {},
   "outputs": [
    {
     "name": "stdout",
     "output_type": "stream",
     "text": [
      "Bag of Words\n",
      "{'prague': 207, 'city': 107, 'czech': 47, 'include': 26, 'world': 24}\n",
      "{'brno': 180, 'city': 99, 'czech': 50, 'theatre': 33, 'republic': 28}\n",
      "{'bratislava': 157, 'city': 107, 'slovak': 68, 'slovakia': 47, 'hungarian': 31}\n",
      "{'budapest': 261, 'city': 179, 'hungarian': 86, 'hungary': 78, 'district': 55}\n",
      "\n",
      "\n",
      "{'prague': 0.7073937706557636, 'city': 0.3656576495660227, 'czech': 0.16061597691217822, 'praha': 0.14407046754999675, 'bohemia': 0.117875837086361}\n",
      "{'brno': 0.8285709300377742, 'city': 0.3016324348436922, 'moravian': 0.15764057436098244, 'czech': 0.1523396135574203, 'theatre': 0.10054414494789739}\n",
      "{'bratislava': 0.6295485661002411, 'city': 0.35078089707619947, 'slovak': 0.336802581297788, 'slovakia': 0.23279001942641228, 'hungarian': 0.10162811036787088}\n",
      "{'budapest': 0.644192277378617, 'city': 0.3612023838112539, 'hungary': 0.19251723232004647, 'hungarian': 0.17353857546239015, 'buda': 0.16462874921050072}\n"
     ]
    }
   ],
   "source": [
    "# SOLUTION\n",
    "# preprocess the texts\n",
    "preprocessed = [preprocess_text(t) for t in texts]\n",
    "\n",
    "# Bag of Words\n",
    "bow = CountVectorizer()\n",
    "features_bow = bow.fit_transform(preprocessed)\n",
    "# get the full vocabulary\n",
    "vocab_bow = bow.get_feature_names_out()\n",
    "# saving the word counts as an array that can then be used as features for ML models\n",
    "features_array_bow = features_bow.toarray()\n",
    "# get the dictionaries of words and their values\n",
    "features_prague_bow = dict(zip(vocab_bow, features_array_bow[0]))\n",
    "features_brno_bow = dict(zip(vocab_bow, features_array_bow[1]))\n",
    "features_blava_bow = dict(zip(vocab_bow, features_array_bow[2]))\n",
    "features_buda_bow = dict(zip(vocab_bow, features_array_bow[3]))\n",
    "# print sorted results\n",
    "print(\"Bag of Words\")\n",
    "print(dict(sorted(features_prague_bow.items(), key=lambda x: x[1], reverse=True)[:5]))\n",
    "print(dict(sorted(features_brno_bow.items(), key=lambda x: x[1], reverse=True)[:5]))\n",
    "print(dict(sorted(features_blava_bow.items(), key=lambda x: x[1], reverse=True)[:5]))\n",
    "print(dict(sorted(features_buda_bow.items(), key=lambda x: x[1], reverse=True)[:5]))\n",
    "print(\"\\n\")\n",
    "\n",
    "# tfidf\n",
    "tfidf = TfidfVectorizer()\n",
    "features_tfidf = tfidf.fit_transform(preprocessed)\n",
    "# get the full vocabulary\n",
    "vocab_tfidf= tfidf.get_feature_names_out()\n",
    "# saving the word values as an array that can then be used as features for ML models\n",
    "features_array_tfidf = features_tfidf.toarray()\n",
    "# get the dictionaries of words and their values\n",
    "features_prague_tfidf = dict(zip(vocab_tfidf, features_array_tfidf[0]))\n",
    "features_brno_tfidf = dict(zip(vocab_tfidf, features_array_tfidf[1]))\n",
    "features_blava_tfidf = dict(zip(vocab_tfidf, features_array_tfidf[2]))\n",
    "features_buda_tfidf = dict(zip(vocab_tfidf, features_array_tfidf[3]))\n",
    "# print sorted results\n",
    "print(dict(sorted(features_prague_tfidf.items(), key=lambda x: x[1], reverse=True)[:5]))\n",
    "print(dict(sorted(features_brno_tfidf.items(), key=lambda x: x[1], reverse=True)[:5]))\n",
    "print(dict(sorted(features_blava_tfidf.items(), key=lambda x: x[1], reverse=True)[:5]))\n",
    "print(dict(sorted(features_buda_tfidf.items(), key=lambda x: x[1], reverse=True)[:5]))"
   ]
  },
  {
   "cell_type": "code",
   "execution_count": 20,
   "id": "7dbca5c1",
   "metadata": {},
   "outputs": [
    {
     "data": {
      "image/png": "[encoded data removed]",
      "text/plain": [
       "<Figure size 432x288 with 1 Axes>"
      ]
     },
     "metadata": {
      "needs_background": "light"
     },
     "output_type": "display_data"
    }
   ],
   "source": [
    "# SOLUTION - WORDCLOUD BONUS\n",
    "# Get a list of lemmas for the Prague article - that's te first item of the preprocessed list \n",
    "# created above (or the result of calling our preprocess_text function on the article text)\n",
    "lemmas = preprocessed[0]\n",
    "# The preprocessed text is already one connected string of all the relevant lemmas\n",
    "word_cloud = WordCloud(background_color = 'white').generate(lemmas)\n",
    "# Display the wordcloud\n",
    "plt.imshow(word_cloud)\n",
    "plt.axis(\"off\")\n",
    "plt.show()"
   ]
  },
  {
   "cell_type": "markdown",
   "id": "aa259d2e",
   "metadata": {},
   "source": [
    "### Word embeddings"
   ]
  },
  {
   "cell_type": "markdown",
   "id": "b0c50cb5",
   "metadata": {},
   "source": [
    "The spaCy library also allows you to convert words and entire documents into their vector representation based on their meaning. The library uses a embedding model, which was trained on an extensive corpus. Getting word embeddings is part of the default spacy pipeline, you can access them with the .vector attribute. (Note that the small English model comes without word vectors)"
   ]
  },
  {
   "cell_type": "code",
   "execution_count": 21,
   "id": "4305eea7",
   "metadata": {},
   "outputs": [
    {
     "name": "stdout",
     "output_type": "stream",
     "text": [
      "(300,)\n"
     ]
    },
    {
     "data": {
      "text/plain": [
       "array([ 1.2330e+00,  4.2963e+00, -7.9738e+00, -1.0121e+01,  1.8207e+00,\n",
       "        1.4098e+00, -4.5180e+00, -5.2261e+00, -2.9157e-01,  9.5234e-01,\n",
       "        6.9880e+00,  5.0637e+00, -5.5726e-03,  3.3395e+00,  6.4596e+00,\n",
       "       -6.3742e+00,  3.9045e-02, -3.9855e+00,  1.2085e+00, -1.3186e+00,\n",
       "       -4.8886e+00,  3.7066e+00, -2.8281e+00, -3.5447e+00,  7.6888e-01,\n",
       "        1.5016e+00, -4.3632e+00,  8.6480e+00, -5.9286e+00, -1.3055e+00,\n",
       "        8.3870e-01,  9.0137e-01, -1.7843e+00, -1.0148e+00,  2.7300e+00,\n",
       "       -6.9039e+00,  8.0413e-01,  7.4880e+00,  6.1078e+00, -4.2130e+00,\n",
       "       -1.5384e-01, -5.4995e+00,  1.0896e+01,  3.9278e+00, -1.3601e-01,\n",
       "        7.7732e-02,  3.2218e+00, -5.8777e+00,  6.1359e-01, -2.4287e+00],\n",
       "      dtype=float32)"
      ]
     },
     "execution_count": 21,
     "metadata": {},
     "output_type": "execute_result"
    }
   ],
   "source": [
    "word = nlp(\"dog\")\n",
    "\n",
    "# the word embedding is simply a very long array (here 300), placing the word in a multi-dimensional space\n",
    "print(word.vector.shape)\n",
    "word.vector[:50]"
   ]
  },
  {
   "cell_type": "markdown",
   "id": "bceba202",
   "metadata": {},
   "source": [
    "The spaCy library also allows you to convert words and entire documents into their vector representation based on their meaning. The library uses a embedding model, which was trained on an extensive corpus.\n",
    "\n",
    "The created vector representations (embeddings) reflect the semantic relationships between words and can be used, for example, to compare words, sentences or whole documents with each other. This is done by calculating the cosine similarity of the compared vectors.\n",
    "\n",
    "Getting word embeddings is part of the default spacy pipeline, you can access them with the .vector attribute. (Note that the small English model comes without word vectors)"
   ]
  },
  {
   "cell_type": "code",
   "execution_count": 22,
   "id": "f671dda5",
   "metadata": {},
   "outputs": [
    {
     "name": "stdout",
     "output_type": "stream",
     "text": [
      "word1 to word2:  0.82208162391359\n",
      "word1 to word3:  0.32500253978692867\n",
      "word2 to word3:  0.19698592764608053\n"
     ]
    }
   ],
   "source": [
    "word1 = nlp(\"dog\")\n",
    "word2 = nlp(\"cat\")\n",
    "word3 = nlp(\"car\")\n",
    "print(\"word1 to word2: \", word1.similarity(word2))\n",
    "print(\"word1 to word3: \", word1.similarity(word3))\n",
    "print(\"word2 to word3: \", word2.similarity(word3))"
   ]
  },
  {
   "cell_type": "markdown",
   "id": "bf11bd26",
   "metadata": {},
   "source": [
    "We can look also on whole sequences of text.\n",
    "\n",
    "For spacy, this works by default in the same manner as for words. The embedding of a sentence is an average of its individual word embeddings. Note that this not take into account syntactical relationships nor word order and meaning of longer sequenes can get dilluted with generic words."
   ]
  },
  {
   "cell_type": "code",
   "execution_count": 23,
   "id": "c888e526",
   "metadata": {},
   "outputs": [],
   "source": [
    "sent1 = \"Kids are happy.\"\n",
    "sent2 = \"Children are not sad.\"\n",
    "sent3 = \"Adults are sad.\""
   ]
  },
  {
   "cell_type": "code",
   "execution_count": 24,
   "id": "889d5a42",
   "metadata": {},
   "outputs": [
    {
     "name": "stdout",
     "output_type": "stream",
     "text": [
      "sent1 to sent2:  0.8410270719280944\n",
      "sent1 to sent3:  0.8958285782398148\n",
      "sent2 to sent3:  0.907383759736349\n"
     ]
    }
   ],
   "source": [
    "print(\"sent1 to sent2: \", nlp(sent1).similarity(nlp(sent2)))\n",
    "print(\"sent1 to sent3: \", nlp(sent1).similarity(nlp(sent3)))\n",
    "print(\"sent2 to sent3: \", nlp(sent2).similarity(nlp(sent3)))"
   ]
  },
  {
   "cell_type": "markdown",
   "id": "b7f9ff74",
   "metadata": {},
   "source": [
    "For better results, it is better to use models trained specifically to embed sentences. Through spacy we can test Google's Universal Sentence Encoder\n"
   ]
  },
  {
   "cell_type": "code",
   "execution_count": 25,
   "id": "2ad904dd",
   "metadata": {},
   "outputs": [
    {
     "name": "stdout",
     "output_type": "stream",
     "text": [
      "sent1 to sent2:  0.606809973137763\n",
      "sent1 to sent3:  0.4132786416630257\n",
      "sent2 to sent3:  0.5663202726779119\n"
     ]
    }
   ],
   "source": [
    "# !pip install spacy_universal_sentence_encoder\n",
    "\n",
    "import spacy_universal_sentence_encoder\n",
    "nlp_use = spacy_universal_sentence_encoder.load_model('en_use_md')\n",
    "print(\"sent1 to sent2: \", nlp_use(sent1).similarity(nlp_use(sent2)))\n",
    "print(\"sent1 to sent3: \", nlp_use(sent1).similarity(nlp_use(sent3)))\n",
    "print(\"sent2 to sent3: \", nlp_use(sent2).similarity(nlp_use(sent3)))\n"
   ]
  },
  {
   "cell_type": "markdown",
   "id": "bd74abe5",
   "metadata": {},
   "source": [
    "In the same way, Sentence BERT can be used through spacy."
   ]
  },
  {
   "cell_type": "code",
   "execution_count": 26,
   "id": "d13649d3",
   "metadata": {},
   "outputs": [
    {
     "name": "stdout",
     "output_type": "stream",
     "text": [
      "sent1 to sent2:  0.8475940212126944\n",
      "sent1 to sent3:  0.3888499615173781\n",
      "sent2 to sent3:  0.4613629728923686\n"
     ]
    }
   ],
   "source": [
    "#!pip install spacy-sentence-bert\n",
    "\n",
    "import spacy_sentence_bert\n",
    "# load one of the models listed at https://github.com/MartinoMensio/spacy-sentence-bert/\n",
    "nlp_sbert = spacy_sentence_bert.load_model('en_nli_distilbert_base')\n",
    "\n",
    "print(\"sent1 to sent2: \", nlp_sbert(sent1).similarity(nlp_sbert(sent2)))\n",
    "print(\"sent1 to sent3: \", nlp_sbert(sent1).similarity(nlp_sbert(sent3)))\n",
    "print(\"sent2 to sent3: \", nlp_sbert(sent2).similarity(nlp_sbert(sent3)))"
   ]
  },
  {
   "cell_type": "markdown",
   "id": "80ca4850",
   "metadata": {},
   "source": [
    "You can see that unlike the word-based model, the sentence-based ones actually understand the negation in the sentence."
   ]
  },
  {
   "cell_type": "markdown",
   "id": "f1de3943",
   "metadata": {},
   "source": [
    "\n",
    "##### Hands-on #3\n",
    "*Process the following newspaper headlines and try to find the most similar one(s) to the provided target headline. Try different models to see if there are any differences in their scoring.*\n"
   ]
  },
  {
   "cell_type": "code",
   "execution_count": 32,
   "id": "3b26d40d",
   "metadata": {},
   "outputs": [],
   "source": [
    "target_headline = \"Schools are reopening after closure due to Covid.\"\n",
    "headlines = [\"New road closure.\",\n",
    "             \"Shops reopened after the brief holiday season.\",\n",
    "            \"Rising Covid cases might be a warning sign.\",\n",
    "             \"A top university opened its lectures to public.\",\n",
    "             \"Universities welcomed their students back after the Covid break.\",\n",
    "            \"Kids are returning to their classrooms after the epidemic.\",\n",
    "             \"Schools still not opening due to Covid.\",\n",
    "            \"The Covid-19 epidemic opened up many new questions.\"]"
   ]
  },
  {
   "cell_type": "code",
   "execution_count": null,
   "id": "4e5699b1",
   "metadata": {},
   "outputs": [],
   "source": [
    "# Your code goes here\n",
    "\n",
    "\n",
    "\n"
   ]
  },
  {
   "cell_type": "code",
   "execution_count": 33,
   "id": "f272746b",
   "metadata": {},
   "outputs": [
    {
     "name": "stdout",
     "output_type": "stream",
     "text": [
      "EN CORE WEB MD {'Schools still not opening due to Covid.': 0.9312465656129983, 'Kids are returning to their classrooms after the epidemic.': 0.8824672918732744, 'Universities welcomed their students back after the Covid break.': 0.8310456530036732} \n",
      "\n",
      "USE {'Schools still not opening due to Covid.': 0.6298517399724496, 'Kids are returning to their classrooms after the epidemic.': 0.4336529031331457, 'Shops reopened after the brief holiday season.': 0.4303796474851874} \n",
      "\n",
      "Sentence distilbert {'Universities welcomed their students back after the Covid break.': 0.7313619395553626, 'Shops reopened after the brief holiday season.': 0.7241327559959376, 'Kids are returning to their classrooms after the epidemic.': 0.680461033157484} \n",
      "\n"
     ]
    }
   ],
   "source": [
    "# SOLUTION\n",
    "# to make experimenting with different models easy, let's wrap up the processing steps into a function\n",
    "def process_headlines(model_name, spacy_model, target_headline, headlines):\n",
    "    target = spacy_model(target_headline)\n",
    "    scores = []\n",
    "    # process headlines and get their similarity score to the target headline\n",
    "    for h in headlines:\n",
    "        scores += [spacy_model(h).similarity(target)]\n",
    "    scored = dict(zip(headlines, scores))\n",
    "    # print top 3 results\n",
    "    print(model_name, dict(sorted(scored.items(), key=lambda x: x[1], reverse=True)[:3]),\"\\n\")\n",
    "    \n",
    "\n",
    "# spacy en core md model\n",
    "import spacy\n",
    "nlp = spacy.load(\"en_core_web_md\")\n",
    "process_headlines(\"EN CORE WEB MD\", nlp, target_headline, headlines)\n",
    "\n",
    "# USE through spacy\n",
    "import spacy_universal_sentence_encoder\n",
    "nlp_use = spacy_universal_sentence_encoder.load_model('en_use_md')\n",
    "process_headlines(\"USE\", nlp_use, target_headline, headlines)\n",
    "\n",
    "# sentence transformers through spacy\n",
    "import spacy_sentence_bert\n",
    "nlp_sbert = spacy_sentence_bert.load_model('en_nli_distilbert_base')\n",
    "process_headlines(\"Sentence distilbert\", nlp_sbert, target_headline, headlines)"
   ]
  },
  {
   "cell_type": "markdown",
   "id": "97a45b3a",
   "metadata": {},
   "source": [
    "*As a bonus, you can play around with the following cells and find out what the semantically closest words are to your input words or what happens if you do some basic arithmetic with words.Try to come up with a good triade of words for that!*\n",
    "\n",
    "*We will demonstrate this using a pre-trained GenSim model for a change.*"
   ]
  },
  {
   "cell_type": "code",
   "execution_count": 34,
   "id": "62276426",
   "metadata": {},
   "outputs": [],
   "source": [
    "#necessary imports\n",
    "import gensim\n",
    "import gensim.downloader as api\n",
    "model = api.load(\"glove-wiki-gigaword-50\")"
   ]
  },
  {
   "cell_type": "markdown",
   "id": "c899c6a2",
   "metadata": {},
   "source": [
    "*This is how you can get a list of words with most similar vectors*"
   ]
  },
  {
   "cell_type": "code",
   "execution_count": 35,
   "id": "712702b9",
   "metadata": {},
   "outputs": [
    {
     "data": {
      "text/plain": [
       "[('princess', 0.8515166640281677),\n",
       " ('lady', 0.8050609230995178),\n",
       " ('elizabeth', 0.7873042225837708),\n",
       " ('king', 0.7839043736457825),\n",
       " ('prince', 0.7821860909461975),\n",
       " ('coronation', 0.769277811050415),\n",
       " ('consort', 0.7626097202301025),\n",
       " ('royal', 0.7442865371704102),\n",
       " ('crown', 0.7382649779319763),\n",
       " ('victoria', 0.7285771369934082)]"
      ]
     },
     "execution_count": 35,
     "metadata": {},
     "output_type": "execute_result"
    }
   ],
   "source": [
    "model.most_similar(\"queen\")"
   ]
  },
  {
   "cell_type": "markdown",
   "id": "68d93a07",
   "metadata": {},
   "source": [
    "*And this is how you can calculate with words*"
   ]
  },
  {
   "cell_type": "code",
   "execution_count": 36,
   "id": "40823a4d",
   "metadata": {},
   "outputs": [
    {
     "data": {
      "text/plain": [
       "[('queen', 0.8523604273796082),\n",
       " ('throne', 0.7664334177970886),\n",
       " ('prince', 0.759214460849762),\n",
       " ('daughter', 0.7473882436752319),\n",
       " ('elizabeth', 0.7460219860076904),\n",
       " ('princess', 0.7424570322036743),\n",
       " ('kingdom', 0.7337411642074585),\n",
       " ('monarch', 0.721449077129364),\n",
       " ('eldest', 0.7184861898422241),\n",
       " ('widow', 0.7099431157112122)]"
      ]
     },
     "execution_count": 36,
     "metadata": {},
     "output_type": "execute_result"
    }
   ],
   "source": [
    "model.most_similar(positive=['king', 'woman'], negative=['man'])"
   ]
  },
  {
   "cell_type": "code",
   "execution_count": null,
   "id": "79c3c9ae",
   "metadata": {},
   "outputs": [],
   "source": [
    "# space for your own experiments\n",
    "\n",
    "\n",
    "\n",
    "\n"
   ]
  },
  {
   "cell_type": "markdown",
   "id": "f9220201",
   "metadata": {},
   "source": [
    "### Named entity recognition (NER)\n",
    "NER is part of the default spaCy pipeline. It uses a pretrained model to identify entities, there are different models for different languages, they might differ in the number of entities they are able to identify and their success rate. For specific entities, other languages or higher success rate, you might need to look for other NER packages/models or train a model of your own.\n",
    "\n",
    "Entities are all grouped under the .ents attribute of your doc, all you can access them directly from a token through .ent_type_ attribute. Each word in an entity also has a flag, whether it is the first word of an entity (B - beginning) or a subsequent word of an entity (I - in) - this can be checked by the .ent_iob_ attribute (non-entities have O - out - as their attribute)"
   ]
  },
  {
   "cell_type": "code",
   "execution_count": 37,
   "id": "0c90cb42",
   "metadata": {},
   "outputs": [
    {
     "name": "stdout",
     "output_type": "stream",
     "text": [
      "Identified entities:  [('Robin', 'PERSON'), ('Apple', 'ORG'), ('second', 'ORDINAL'), ('New Jersey', 'GPE'), ('yesterday', 'DATE'), ('20 dollars', 'MONEY'), ('Deloitte', 'ORG'), ('Vinohrady', 'PERSON'), ('10 am', 'TIME')]\n"
     ]
    },
    {
     "data": {
      "text/html": [
       "<span class=\"tex2jax_ignore\"><div class=\"entities\" style=\"line-height: 2.5; direction: ltr\">\n",
       "<mark class=\"entity\" style=\"background: #aa9cfc; padding: 0.45em 0.6em; margin: 0 0.25em; line-height: 1; border-radius: 0.35em;\">\n",
       "    Robin\n",
       "    <span style=\"font-size: 0.8em; font-weight: bold; line-height: 1; border-radius: 0.35em; vertical-align: middle; margin-left: 0.5rem\">PERSON</span>\n",
       "</mark>\n",
       " is watching a robin eating an apple on her \n",
       "<mark class=\"entity\" style=\"background: #7aecec; padding: 0.45em 0.6em; margin: 0 0.25em; line-height: 1; border-radius: 0.35em;\">\n",
       "    Apple\n",
       "    <span style=\"font-size: 0.8em; font-weight: bold; line-height: 1; border-radius: 0.35em; vertical-align: middle; margin-left: 0.5rem\">ORG</span>\n",
       "</mark>\n",
       " laptop. </br>          I bought a \n",
       "<mark class=\"entity\" style=\"background: #e4e7d2; padding: 0.45em 0.6em; margin: 0 0.25em; line-height: 1; border-radius: 0.35em;\">\n",
       "    second\n",
       "    <span style=\"font-size: 0.8em; font-weight: bold; line-height: 1; border-radius: 0.35em; vertical-align: middle; margin-left: 0.5rem\">ORDINAL</span>\n",
       "</mark>\n",
       " jersey in \n",
       "<mark class=\"entity\" style=\"background: #feca74; padding: 0.45em 0.6em; margin: 0 0.25em; line-height: 1; border-radius: 0.35em;\">\n",
       "    New Jersey\n",
       "    <span style=\"font-size: 0.8em; font-weight: bold; line-height: 1; border-radius: 0.35em; vertical-align: middle; margin-left: 0.5rem\">GPE</span>\n",
       "</mark>\n",
       " \n",
       "<mark class=\"entity\" style=\"background: #bfe1d9; padding: 0.45em 0.6em; margin: 0 0.25em; line-height: 1; border-radius: 0.35em;\">\n",
       "    yesterday\n",
       "    <span style=\"font-size: 0.8em; font-weight: bold; line-height: 1; border-radius: 0.35em; vertical-align: middle; margin-left: 0.5rem\">DATE</span>\n",
       "</mark>\n",
       " for \n",
       "<mark class=\"entity\" style=\"background: #e4e7d2; padding: 0.45em 0.6em; margin: 0 0.25em; line-height: 1; border-radius: 0.35em;\">\n",
       "    20 dollars\n",
       "    <span style=\"font-size: 0.8em; font-weight: bold; line-height: 1; border-radius: 0.35em; vertical-align: middle; margin-left: 0.5rem\">MONEY</span>\n",
       "</mark>\n",
       ". </br>          We are sitting at \n",
       "<mark class=\"entity\" style=\"background: #7aecec; padding: 0.45em 0.6em; margin: 0 0.25em; line-height: 1; border-radius: 0.35em;\">\n",
       "    Deloitte\n",
       "    <span style=\"font-size: 0.8em; font-weight: bold; line-height: 1; border-radius: 0.35em; vertical-align: middle; margin-left: 0.5rem\">ORG</span>\n",
       "</mark>\n",
       " office in \n",
       "<mark class=\"entity\" style=\"background: #aa9cfc; padding: 0.45em 0.6em; margin: 0 0.25em; line-height: 1; border-radius: 0.35em;\">\n",
       "    Vinohrady\n",
       "    <span style=\"font-size: 0.8em; font-weight: bold; line-height: 1; border-radius: 0.35em; vertical-align: middle; margin-left: 0.5rem\">PERSON</span>\n",
       "</mark>\n",
       " at \n",
       "<mark class=\"entity\" style=\"background: #bfe1d9; padding: 0.45em 0.6em; margin: 0 0.25em; line-height: 1; border-radius: 0.35em;\">\n",
       "    10 am\n",
       "    <span style=\"font-size: 0.8em; font-weight: bold; line-height: 1; border-radius: 0.35em; vertical-align: middle; margin-left: 0.5rem\">TIME</span>\n",
       "</mark>\n",
       ".</div></span>"
      ],
      "text/plain": [
       "<IPython.core.display.HTML object>"
      ]
     },
     "metadata": {},
     "output_type": "display_data"
    },
    {
     "name": "stdout",
     "output_type": "stream",
     "text": [
      "GPE:  Countries, cities, states\n",
      "ORG:  Companies, agencies, institutions, etc.\n",
      "\n",
      "\n",
      "at  O\n",
      "10 TIME B\n",
      "am TIME I\n",
      ".  O\n"
     ]
    }
   ],
   "source": [
    "# define text document\n",
    "text = \"\"\"Robin is watching a robin eating an apple on her Apple laptop. \n",
    "          I bought a second jersey in New Jersey yesterday for 20 dollars. \n",
    "          We are sitting at Deloitte office in Vinohrady at 10 am.\"\"\"\n",
    "doc = nlp(text)\n",
    "\n",
    "# Check the recognised entities\n",
    "print(\"Identified entities: \", [(ent.text, ent.label_) for ent in doc.ents])\n",
    "# Highlight identified entities directly in text    \n",
    "displacy.render(doc, style=\"ent\", jupyter=True)\n",
    "\n",
    "#Explain a tag\n",
    "print(\"GPE: \", spacy.explain(\"GPE\"))\n",
    "print(\"ORG: \", spacy.explain(\"ORG\"))\n",
    "print(\"\\n\")\n",
    "\n",
    "# Let's have a look at the tags accessed directly from the tokens\n",
    "# last 4 tokens as an example\n",
    "for t in doc[-4:]:\n",
    "    print(t, t.ent_type_, t.ent_iob_)"
   ]
  },
  {
   "cell_type": "markdown",
   "id": "996df237",
   "metadata": {},
   "source": [
    "##### Hands-on #4\n",
    "\n",
    "*Take the input texts and inspect the entities they contain. Then replace any named people by the string \"ANONYMIZED\"*\n",
    "\n",
    "*Hint: You can access the entity type of a token using the ent_type_ attribute*"
   ]
  },
  {
   "cell_type": "code",
   "execution_count": 38,
   "id": "174bdff7",
   "metadata": {},
   "outputs": [],
   "source": [
    "text = \"\"\"James Martin Brown was arrested for bribing Jane Newman in California.\n",
    "        Katie had pneumonia in October. Jim, Marie and Bob Adams were accused of assaulting\n",
    "        their cousin David Lim.\"\"\"  "
   ]
  },
  {
   "cell_type": "code",
   "execution_count": null,
   "id": "02352d85",
   "metadata": {},
   "outputs": [],
   "source": [
    "# Your code goes here\n",
    "\n",
    "\n",
    "\n"
   ]
  },
  {
   "cell_type": "code",
   "execution_count": 39,
   "id": "0b286f02",
   "metadata": {},
   "outputs": [
    {
     "data": {
      "text/html": [
       "<span class=\"tex2jax_ignore\"><div class=\"entities\" style=\"line-height: 2.5; direction: ltr\">\n",
       "<mark class=\"entity\" style=\"background: #aa9cfc; padding: 0.45em 0.6em; margin: 0 0.25em; line-height: 1; border-radius: 0.35em;\">\n",
       "    James Martin Brown\n",
       "    <span style=\"font-size: 0.8em; font-weight: bold; line-height: 1; border-radius: 0.35em; vertical-align: middle; margin-left: 0.5rem\">PERSON</span>\n",
       "</mark>\n",
       " was arrested for bribing \n",
       "<mark class=\"entity\" style=\"background: #aa9cfc; padding: 0.45em 0.6em; margin: 0 0.25em; line-height: 1; border-radius: 0.35em;\">\n",
       "    Jane Newman\n",
       "    <span style=\"font-size: 0.8em; font-weight: bold; line-height: 1; border-radius: 0.35em; vertical-align: middle; margin-left: 0.5rem\">PERSON</span>\n",
       "</mark>\n",
       " in \n",
       "<mark class=\"entity\" style=\"background: #feca74; padding: 0.45em 0.6em; margin: 0 0.25em; line-height: 1; border-radius: 0.35em;\">\n",
       "    California\n",
       "    <span style=\"font-size: 0.8em; font-weight: bold; line-height: 1; border-radius: 0.35em; vertical-align: middle; margin-left: 0.5rem\">GPE</span>\n",
       "</mark>\n",
       ".</br>        \n",
       "<mark class=\"entity\" style=\"background: #aa9cfc; padding: 0.45em 0.6em; margin: 0 0.25em; line-height: 1; border-radius: 0.35em;\">\n",
       "    Katie\n",
       "    <span style=\"font-size: 0.8em; font-weight: bold; line-height: 1; border-radius: 0.35em; vertical-align: middle; margin-left: 0.5rem\">PERSON</span>\n",
       "</mark>\n",
       " had pneumonia in \n",
       "<mark class=\"entity\" style=\"background: #bfe1d9; padding: 0.45em 0.6em; margin: 0 0.25em; line-height: 1; border-radius: 0.35em;\">\n",
       "    October\n",
       "    <span style=\"font-size: 0.8em; font-weight: bold; line-height: 1; border-radius: 0.35em; vertical-align: middle; margin-left: 0.5rem\">DATE</span>\n",
       "</mark>\n",
       ". \n",
       "<mark class=\"entity\" style=\"background: #aa9cfc; padding: 0.45em 0.6em; margin: 0 0.25em; line-height: 1; border-radius: 0.35em;\">\n",
       "    Jim\n",
       "    <span style=\"font-size: 0.8em; font-weight: bold; line-height: 1; border-radius: 0.35em; vertical-align: middle; margin-left: 0.5rem\">PERSON</span>\n",
       "</mark>\n",
       ", \n",
       "<mark class=\"entity\" style=\"background: #aa9cfc; padding: 0.45em 0.6em; margin: 0 0.25em; line-height: 1; border-radius: 0.35em;\">\n",
       "    Marie\n",
       "    <span style=\"font-size: 0.8em; font-weight: bold; line-height: 1; border-radius: 0.35em; vertical-align: middle; margin-left: 0.5rem\">PERSON</span>\n",
       "</mark>\n",
       " and \n",
       "<mark class=\"entity\" style=\"background: #aa9cfc; padding: 0.45em 0.6em; margin: 0 0.25em; line-height: 1; border-radius: 0.35em;\">\n",
       "    Bob Adams\n",
       "    <span style=\"font-size: 0.8em; font-weight: bold; line-height: 1; border-radius: 0.35em; vertical-align: middle; margin-left: 0.5rem\">PERSON</span>\n",
       "</mark>\n",
       " were accused of assaulting</br>        their cousin \n",
       "<mark class=\"entity\" style=\"background: #aa9cfc; padding: 0.45em 0.6em; margin: 0 0.25em; line-height: 1; border-radius: 0.35em;\">\n",
       "    David Lim\n",
       "    <span style=\"font-size: 0.8em; font-weight: bold; line-height: 1; border-radius: 0.35em; vertical-align: middle; margin-left: 0.5rem\">PERSON</span>\n",
       "</mark>\n",
       ".</div></span>"
      ],
      "text/plain": [
       "<IPython.core.display.HTML object>"
      ]
     },
     "metadata": {},
     "output_type": "display_data"
    },
    {
     "name": "stdout",
     "output_type": "stream",
     "text": [
      "Simple solution:  ANONYMIZED ANONYMIZED ANONYMIZED was arrested for bribing ANONYMIZED ANONYMIZED in California . \n",
      "         ANONYMIZED had pneumonia in October . ANONYMIZED , ANONYMIZED and ANONYMIZED ANONYMIZED were accused of assaulting \n",
      "         their cousin ANONYMIZED ANONYMIZED . \n",
      "\n",
      "Better solution:  ANONYMIZED   was arrested for bribing ANONYMIZED  in California . \n",
      "         ANONYMIZED had pneumonia in October . ANONYMIZED , ANONYMIZED and ANONYMIZED  were accused of assaulting \n",
      "         their cousin ANONYMIZED  .\n"
     ]
    }
   ],
   "source": [
    "# SOLUTION\n",
    "doc = nlp(text)\n",
    "\n",
    "# Let's first have a look at the entities identified\n",
    "displacy.render(doc, style=\"ent\", jupyter=True)\n",
    "\n",
    "# simple solution, replacing any PERSON-tagged token with \"ANONYMIZED\"\n",
    "x = [token.text if token.ent_type_ != \"PERSON\" else \"ANONYMIZED\" for token in doc]\n",
    "print(\"Simple solution: \", \" \".join(x), \"\\n\")\n",
    "\n",
    "# Note: in the simple solution above, you would get ANONYMIZED ANONYMIZED in case both \n",
    "# a name and a surname are mentioned in the text. If you would rather get just one ANONYMIZED,\n",
    "# you can also work with the tags marking whether a word is a beginning of an entity (B) or \n",
    "# following words of an entity (I)\n",
    "x = [token.text if token.ent_type_ != \"PERSON\" else \"ANONYMIZED\" if \n",
    "     token.ent_iob_ == \"B\" else \"\" for token in doc]\n",
    "print(\"Better solution: \", \" \".join(x))"
   ]
  },
  {
   "cell_type": "markdown",
   "id": "fdbc0236",
   "metadata": {},
   "source": [
    "### Transformer taster\n",
    "\n",
    "As you have seen on the sentence models, transformers can be to some extent used directly from spacy. If not necessarily including into an existing spacy pipeline, transformer models are typically used and fine-tuned using the transformers library from huggingface.\n",
    "\n",
    "Let's have a look at how you can load and use a pre-trained model from the transformers library.\n",
    "\n",
    "For an overview of available models, have a look here: https://huggingface.co/models .\n",
    "Note that on the left, you can filter available models based on language and specific task.\n",
    "\n",
    "\n",
    "Models pre-trained for specific tasks such as sentiment analysis can be easily used with the help of prepared pipelines\n"
   ]
  },
  {
   "cell_type": "code",
   "execution_count": 40,
   "id": "4f96636b",
   "metadata": {},
   "outputs": [],
   "source": [
    "text = [\"Learning about NLP is fun!\", \"I am sad that no one told me before.\", \"Now I can start learning.\"]"
   ]
  },
  {
   "cell_type": "code",
   "execution_count": 41,
   "id": "d130183d",
   "metadata": {},
   "outputs": [
    {
     "name": "stderr",
     "output_type": "stream",
     "text": [
      "No model was supplied, defaulted to distilbert-base-uncased-finetuned-sst-2-english and revision af0f99b (https://huggingface.co/distilbert-base-uncased-finetuned-sst-2-english).\n",
      "Using a pipeline without specifying a model name and revision in production is not recommended.\n"
     ]
    },
    {
     "data": {
      "text/plain": [
       "[{'label': 'POSITIVE', 'score': 0.9998666048049927},\n",
       " {'label': 'NEGATIVE', 'score': 0.9979484677314758},\n",
       " {'label': 'POSITIVE', 'score': 0.998705267906189}]"
      ]
     },
     "execution_count": 41,
     "metadata": {},
     "output_type": "execute_result"
    }
   ],
   "source": [
    "from transformers import pipeline\n",
    "# The pipeline we want to use now is \"text-classification\" as sentiment analysis is a classification task.\n",
    "# Note that in this case, you can also use the \"sentiment-analysis\" pipeline name, leading to the same results.\n",
    "# If you go for a specific model from the higgingface hub, you don't need to specify pipeline \n",
    "# if it is already defined by the model\n",
    "# When selecting a pipeline, specification of a model is optional, there is always a default model and corresponding tokenizer per pipeline,\n",
    "# let's try the default model out\n",
    "sentiment_task = pipeline(\"text-classification\")\n",
    "# to the pipeline you can pass either a single string or a list of strings\n",
    "sentiment_task(text)"
   ]
  },
  {
   "cell_type": "code",
   "execution_count": 42,
   "id": "f44e5051",
   "metadata": {},
   "outputs": [
    {
     "name": "stderr",
     "output_type": "stream",
     "text": [
      "Some weights of the model checkpoint at cardiffnlp/twitter-roberta-base-sentiment-latest were not used when initializing RobertaForSequenceClassification: ['roberta.pooler.dense.bias', 'roberta.pooler.dense.weight']\n",
      "- This IS expected if you are initializing RobertaForSequenceClassification from the checkpoint of a model trained on another task or with another architecture (e.g. initializing a BertForSequenceClassification model from a BertForPreTraining model).\n",
      "- This IS NOT expected if you are initializing RobertaForSequenceClassification from the checkpoint of a model that you expect to be exactly identical (initializing a BertForSequenceClassification model from a BertForSequenceClassification model).\n"
     ]
    },
    {
     "data": {
      "text/plain": [
       "[{'label': 'positive', 'score': 0.9773547053337097},\n",
       " {'label': 'negative', 'score': 0.9165840148925781},\n",
       " {'label': 'positive', 'score': 0.6659218072891235}]"
      ]
     },
     "execution_count": 42,
     "metadata": {},
     "output_type": "execute_result"
    }
   ],
   "source": [
    "# let's check scores from a model trained on twitter data.\n",
    "sentiment_task = pipeline(\"text-classification\", model=\"cardiffnlp/twitter-roberta-base-sentiment-latest\", \n",
    "                          tokenizer=\"cardiffnlp/twitter-roberta-base-sentiment-latest\")\n",
    "# to the pipeline you can pass either a single string or a list of strings\n",
    "sentiment_task(text)"
   ]
  },
  {
   "cell_type": "markdown",
   "id": "07dae564",
   "metadata": {},
   "source": [
    "We can have a look at the steps that are hidden under the pipeline hood. To pass your text through the model, you first have to tokenize it and shape it into format expected by the model, which might require padding and/or truncating. your text to a fixed length"
   ]
  },
  {
   "cell_type": "code",
   "execution_count": 43,
   "id": "138094aa",
   "metadata": {},
   "outputs": [],
   "source": [
    "# first let's tokenize our input text\n",
    "from transformers import AutoTokenizer\n",
    "tokenizer = AutoTokenizer.from_pretrained(\"cardiffnlp/twitter-roberta-base-sentiment-latest\")\n",
    "inputs = tokenizer(text, return_tensors=\"pt\",padding=True)"
   ]
  },
  {
   "cell_type": "code",
   "execution_count": 44,
   "id": "d4b3494b",
   "metadata": {},
   "outputs": [
    {
     "name": "stderr",
     "output_type": "stream",
     "text": [
      "Some weights of the model checkpoint at cardiffnlp/twitter-roberta-base-sentiment-latest were not used when initializing RobertaForSequenceClassification: ['roberta.pooler.dense.bias', 'roberta.pooler.dense.weight']\n",
      "- This IS expected if you are initializing RobertaForSequenceClassification from the checkpoint of a model trained on another task or with another architecture (e.g. initializing a BertForSequenceClassification model from a BertForPreTraining model).\n",
      "- This IS NOT expected if you are initializing RobertaForSequenceClassification from the checkpoint of a model that you expect to be exactly identical (initializing a BertForSequenceClassification model from a BertForSequenceClassification model).\n"
     ]
    },
    {
     "data": {
      "text/plain": [
       "SequenceClassifierOutput(loss=None, logits=tensor([[-2.7091, -0.6250,  3.2572],\n",
       "        [ 2.3943, -0.0991, -2.3880],\n",
       "        [-2.7386,  0.8448,  1.5620]], grad_fn=<AddmmBackward0>), hidden_states=None, attentions=None)"
      ]
     },
     "execution_count": 44,
     "metadata": {},
     "output_type": "execute_result"
    }
   ],
   "source": [
    "# then let's use the model to predict\n",
    "from transformers import AutoModelForSequenceClassification, AutoConfig\n",
    "from scipy.special import softmax\n",
    "\n",
    "model = AutoModelForSequenceClassification.from_pretrained(\"cardiffnlp/twitter-roberta-base-sentiment-latest\")\n",
    "# loading the config is useful to be able to access the label mapping later\n",
    "config = AutoConfig.from_pretrained(\"cardiffnlp/twitter-roberta-base-sentiment-latest\")\n",
    "\n",
    "encoded_input = tokenizer(text, return_tensors='pt', padding=True)\n",
    "# passing the preprocessed input text to the model\n",
    "output = model(**encoded_input)\n",
    "# let's have a look how the output looks like\n",
    "output"
   ]
  },
  {
   "cell_type": "code",
   "execution_count": 45,
   "id": "f5b7ce51",
   "metadata": {},
   "outputs": [
    {
     "name": "stdout",
     "output_type": "stream",
     "text": [
      "Learning about NLP is fun! \t positive 0.9773547\n",
      "I am sad that no one told me before. \t negative 0.916584\n",
      "Now I can start learning. \t positive 0.6659214\n"
     ]
    }
   ],
   "source": [
    "# iterate over the results per sample\n",
    "for t, res in zip(text, output.logits): \n",
    "    # apply softmax to get scores 0-100. We need to convert to numpy format first\n",
    "    res = softmax(res.detach().numpy())\n",
    "    # get the category with the highest score\n",
    "    predicted_class_id = res.argmax().item()\n",
    "    # find a corresponding label\n",
    "    label = model.config.id2label[predicted_class_id]\n",
    "    # check the highest score and the corresponding label\n",
    "    print(t, \"\\t\", label, max(res))"
   ]
  },
  {
   "cell_type": "markdown",
   "id": "5bc54416",
   "metadata": {},
   "source": [
    "##### Hands-on #5\n",
    "*Go to https://huggingface.co/models and find a model pre-trained for named entity recognition (NER). Use it to identify entities in the sample texts below. Feel free to compare outputs of several different models.*\n",
    "\n",
    "*Hint: NER is a token classificaiton task.*\n",
    "\n",
    "*Hint 2: You can use the ner pipeline.*\n"
   ]
  },
  {
   "cell_type": "code",
   "execution_count": 46,
   "id": "e94004b2",
   "metadata": {},
   "outputs": [],
   "source": [
    "texts = [\"Robin is watching a robin eating an apple on her Apple laptop.\",\n",
    "         \"I bought a second jersey in New Jersey yesterday for 20 dollars.\",\n",
    "         \"We are sitting at Deloitte office in Vinohrady at 10 am.\"]"
   ]
  },
  {
   "cell_type": "code",
   "execution_count": null,
   "id": "8bce52b5",
   "metadata": {},
   "outputs": [],
   "source": [
    "# Your code goes here\n",
    "\n",
    "\n",
    "\n"
   ]
  },
  {
   "cell_type": "code",
   "execution_count": 47,
   "id": "e138780b",
   "metadata": {},
   "outputs": [
    {
     "name": "stderr",
     "output_type": "stream",
     "text": [
      "No model was supplied, defaulted to dbmdz/bert-large-cased-finetuned-conll03-english and revision f2482bf (https://huggingface.co/dbmdz/bert-large-cased-finetuned-conll03-english).\n",
      "Using a pipeline without specifying a model name and revision in production is not recommended.\n"
     ]
    },
    {
     "data": {
      "text/plain": [
       "[[{'entity': 'I-PER',\n",
       "   'score': 0.9891065,\n",
       "   'index': 1,\n",
       "   'word': 'Robin',\n",
       "   'start': 0,\n",
       "   'end': 5},\n",
       "  {'entity': 'I-ORG',\n",
       "   'score': 0.9316223,\n",
       "   'index': 11,\n",
       "   'word': 'Apple',\n",
       "   'start': 49,\n",
       "   'end': 54}],\n",
       " [{'entity': 'I-LOC',\n",
       "   'score': 0.99959224,\n",
       "   'index': 7,\n",
       "   'word': 'New',\n",
       "   'start': 28,\n",
       "   'end': 31},\n",
       "  {'entity': 'I-LOC',\n",
       "   'score': 0.999323,\n",
       "   'index': 8,\n",
       "   'word': 'Jersey',\n",
       "   'start': 32,\n",
       "   'end': 38}],\n",
       " [{'entity': 'I-ORG',\n",
       "   'score': 0.99917525,\n",
       "   'index': 5,\n",
       "   'word': 'Del',\n",
       "   'start': 18,\n",
       "   'end': 21},\n",
       "  {'entity': 'I-ORG',\n",
       "   'score': 0.9896628,\n",
       "   'index': 6,\n",
       "   'word': '##oit',\n",
       "   'start': 21,\n",
       "   'end': 24},\n",
       "  {'entity': 'I-ORG',\n",
       "   'score': 0.99808156,\n",
       "   'index': 7,\n",
       "   'word': '##te',\n",
       "   'start': 24,\n",
       "   'end': 26},\n",
       "  {'entity': 'I-LOC',\n",
       "   'score': 0.99478084,\n",
       "   'index': 10,\n",
       "   'word': 'Vin',\n",
       "   'start': 37,\n",
       "   'end': 40},\n",
       "  {'entity': 'I-LOC',\n",
       "   'score': 0.9361024,\n",
       "   'index': 11,\n",
       "   'word': '##oh',\n",
       "   'start': 40,\n",
       "   'end': 42},\n",
       "  {'entity': 'I-LOC',\n",
       "   'score': 0.85568887,\n",
       "   'index': 12,\n",
       "   'word': '##rad',\n",
       "   'start': 42,\n",
       "   'end': 45},\n",
       "  {'entity': 'I-LOC',\n",
       "   'score': 0.98973095,\n",
       "   'index': 13,\n",
       "   'word': '##y',\n",
       "   'start': 45,\n",
       "   'end': 46}]]"
      ]
     },
     "execution_count": 47,
     "metadata": {},
     "output_type": "execute_result"
    }
   ],
   "source": [
    "# SOLUTION option 1\n",
    "\n",
    "# default model in the NER pipeline\n",
    "ner = pipeline(\"ner\")\n",
    "ner(texts)"
   ]
  },
  {
   "cell_type": "code",
   "execution_count": 48,
   "id": "a326bbf8",
   "metadata": {},
   "outputs": [
    {
     "data": {
      "text/plain": [
       "[[{'entity': 'I-PER',\n",
       "   'score': 0.9998919,\n",
       "   'index': 1,\n",
       "   'word': '▁Robin',\n",
       "   'start': 0,\n",
       "   'end': 5},\n",
       "  {'entity': 'I-ORG',\n",
       "   'score': 0.68460315,\n",
       "   'index': 12,\n",
       "   'word': '▁Apple',\n",
       "   'start': 49,\n",
       "   'end': 54}],\n",
       " [{'entity': 'I-LOC',\n",
       "   'score': 0.99999774,\n",
       "   'index': 7,\n",
       "   'word': '▁New',\n",
       "   'start': 28,\n",
       "   'end': 31},\n",
       "  {'entity': 'I-LOC',\n",
       "   'score': 0.99999714,\n",
       "   'index': 8,\n",
       "   'word': '▁Jersey',\n",
       "   'start': 32,\n",
       "   'end': 38}],\n",
       " [{'entity': 'I-ORG',\n",
       "   'score': 0.99998164,\n",
       "   'index': 5,\n",
       "   'word': '▁Deloitte',\n",
       "   'start': 18,\n",
       "   'end': 26},\n",
       "  {'entity': 'I-LOC',\n",
       "   'score': 0.99999154,\n",
       "   'index': 8,\n",
       "   'word': '▁Vino',\n",
       "   'start': 37,\n",
       "   'end': 41},\n",
       "  {'entity': 'I-LOC',\n",
       "   'score': 0.99998665,\n",
       "   'index': 9,\n",
       "   'word': 'hrad',\n",
       "   'start': 41,\n",
       "   'end': 45},\n",
       "  {'entity': 'I-LOC',\n",
       "   'score': 0.999944,\n",
       "   'index': 10,\n",
       "   'word': 'y',\n",
       "   'start': 45,\n",
       "   'end': 46}]]"
      ]
     },
     "execution_count": 48,
     "metadata": {},
     "output_type": "execute_result"
    }
   ],
   "source": [
    "# SOLUTION option 2\n",
    "\n",
    "# XLM RoBERTa model\n",
    "ner = pipeline(\"ner\", model=\"xlm-roberta-large-finetuned-conll03-english\",\n",
    "              tokenizer=\"xlm-roberta-large-finetuned-conll03-english\")\n",
    "ner(texts)\n"
   ]
  },
  {
   "cell_type": "code",
   "execution_count": 49,
   "id": "c0b48dcf",
   "metadata": {},
   "outputs": [
    {
     "data": {
      "text/plain": [
       "[[{'entity': 'B-PERSON',\n",
       "   'score': 0.9994404,\n",
       "   'index': 1,\n",
       "   'word': 'Robin',\n",
       "   'start': 0,\n",
       "   'end': 5},\n",
       "  {'entity': 'B-ORG',\n",
       "   'score': 0.99949026,\n",
       "   'index': 12,\n",
       "   'word': 'ĠApple',\n",
       "   'start': 49,\n",
       "   'end': 54}],\n",
       " [{'entity': 'B-ORDINAL',\n",
       "   'score': 0.9871154,\n",
       "   'index': 4,\n",
       "   'word': 'Ġsecond',\n",
       "   'start': 11,\n",
       "   'end': 17},\n",
       "  {'entity': 'B-GPE',\n",
       "   'score': 0.99830925,\n",
       "   'index': 7,\n",
       "   'word': 'ĠNew',\n",
       "   'start': 28,\n",
       "   'end': 31},\n",
       "  {'entity': 'I-GPE',\n",
       "   'score': 0.99941325,\n",
       "   'index': 8,\n",
       "   'word': 'ĠJersey',\n",
       "   'start': 32,\n",
       "   'end': 38},\n",
       "  {'entity': 'B-DATE',\n",
       "   'score': 0.96936125,\n",
       "   'index': 9,\n",
       "   'word': 'Ġyesterday',\n",
       "   'start': 39,\n",
       "   'end': 48},\n",
       "  {'entity': 'B-MONEY',\n",
       "   'score': 0.9997522,\n",
       "   'index': 11,\n",
       "   'word': 'Ġ20',\n",
       "   'start': 53,\n",
       "   'end': 55},\n",
       "  {'entity': 'I-MONEY',\n",
       "   'score': 0.9992404,\n",
       "   'index': 12,\n",
       "   'word': 'Ġdollars',\n",
       "   'start': 56,\n",
       "   'end': 63}],\n",
       " [{'entity': 'B-ORG',\n",
       "   'score': 0.9998547,\n",
       "   'index': 5,\n",
       "   'word': 'ĠDel',\n",
       "   'start': 18,\n",
       "   'end': 21},\n",
       "  {'entity': 'I-ORG',\n",
       "   'score': 0.9997876,\n",
       "   'index': 6,\n",
       "   'word': 'o',\n",
       "   'start': 21,\n",
       "   'end': 22},\n",
       "  {'entity': 'I-ORG',\n",
       "   'score': 0.9997445,\n",
       "   'index': 7,\n",
       "   'word': 'itte',\n",
       "   'start': 22,\n",
       "   'end': 26},\n",
       "  {'entity': 'B-GPE',\n",
       "   'score': 0.99983597,\n",
       "   'index': 10,\n",
       "   'word': 'ĠVin',\n",
       "   'start': 37,\n",
       "   'end': 40},\n",
       "  {'entity': 'I-GPE',\n",
       "   'score': 0.9999348,\n",
       "   'index': 11,\n",
       "   'word': 'oh',\n",
       "   'start': 40,\n",
       "   'end': 42},\n",
       "  {'entity': 'I-GPE',\n",
       "   'score': 0.9999373,\n",
       "   'index': 12,\n",
       "   'word': 'r',\n",
       "   'start': 42,\n",
       "   'end': 43},\n",
       "  {'entity': 'I-GPE',\n",
       "   'score': 0.99992895,\n",
       "   'index': 13,\n",
       "   'word': 'ady',\n",
       "   'start': 43,\n",
       "   'end': 46},\n",
       "  {'entity': 'B-TIME',\n",
       "   'score': 0.9981505,\n",
       "   'index': 15,\n",
       "   'word': 'Ġ10',\n",
       "   'start': 50,\n",
       "   'end': 52},\n",
       "  {'entity': 'I-TIME',\n",
       "   'score': 0.9991843,\n",
       "   'index': 16,\n",
       "   'word': 'Ġam',\n",
       "   'start': 53,\n",
       "   'end': 55}]]"
      ]
     },
     "execution_count": 49,
     "metadata": {},
     "output_type": "execute_result"
    }
   ],
   "source": [
    "# SOLUTION option 3\n",
    "\n",
    "# a model trained for more entity classes\n",
    "ner = pipeline(\"ner\", model=\"tner/roberta-large-ontonotes5\",\n",
    "              tokenizer=\"tner/roberta-large-ontonotes5\")\n",
    "ner(texts)"
   ]
  }
 ],
 "metadata": {
  "kernelspec": {
   "display_name": "Python 3 (ipykernel)",
   "language": "python",
   "name": "python3"
  },
  "language_info": {
   "codemirror_mode": {
    "name": "ipython",
    "version": 3
   },
   "file_extension": ".py",
   "mimetype": "text/x-python",
   "name": "python",
   "nbconvert_exporter": "python",
   "pygments_lexer": "ipython3",
   "version": "3.9.12"
  }
 },
 "nbformat": 4,
 "nbformat_minor": 5
}
