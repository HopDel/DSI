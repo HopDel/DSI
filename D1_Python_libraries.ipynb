{
  "cells": [
    {
      "cell_type": "markdown",
      "metadata": {
        "id": "OpkS6tmBj1eW"
      },
      "source": [
        "# Python libraries -  Numpy, matplotlib, seaborn"
      ]
    },
    {
      "cell_type": "code",
      "execution_count": null,
      "metadata": {
        "id": "_IJpL8mTj1ea",
        "outputId": "44ee0214-812f-46dd-ffb9-1793cea5dc94"
      },
      "outputs": [
        {
          "name": "stdout",
          "output_type": "stream",
          "text": [
            "<class 'numpy.ndarray'>\n"
          ]
        }
      ],
      "source": [
        "from sklearn.datasets import make_blobs\n",
        "import numpy as np\n",
        "# this creates data X, y. Both are numpy arrays.\n",
        "X, y = make_blobs(n_samples=1000, \n",
        "                  n_features=2, \n",
        "                  centers=3, \n",
        "                  random_state=1,\n",
        "                  center_box = (-10,10))\n",
        "make_blobs()"
      ]
    },
    {
      "cell_type": "markdown",
      "metadata": {
        "id": "tCtMixkUj1ec"
      },
      "source": [
        "## Indexing, Slicing, Logical indexing\n",
        "\n",
        "1. dimensions \n",
        "2. single elements selection (and -values)\n",
        "3. list indexing\n",
        "4. slicing\n",
        "5. logical indexing"
      ]
    },
    {
      "cell_type": "code",
      "execution_count": null,
      "metadata": {
        "id": "SG6bjZEMj1ec"
      },
      "outputs": [],
      "source": [
        "# and = &  r-alt + c\n",
        "# or = |   r-alt + w\n",
        "# not = ~  r-alt + 1 (vlevo nahoře)"
      ]
    },
    {
      "cell_type": "markdown",
      "metadata": {
        "id": "_VuzruVsj1ed"
      },
      "source": [
        "## Try following functions/attributes:\n",
        "1. np.shape, np.dtype\n",
        "2. np.mean() / np.sum() / np.max() ... with various axis argument\n",
        "3. np.eye(), np.zeros()\n",
        "4. np.random.random() to create your own matrix, make the range from 0 to 10 and make it square.\n",
        "5. Try too add a number, multiply by a number, etc.\n",
        "5. Transpose the matrix from 4.\n",
        "6. Do an inverse of the matrix from 4."
      ]
    },
    {
      "cell_type": "code",
      "execution_count": null,
      "metadata": {
        "id": "T3b6WKX0j1ed"
      },
      "outputs": [],
      "source": [
        ""
      ]
    },
    {
      "cell_type": "markdown",
      "metadata": {
        "id": "VFnpm_77j1ee"
      },
      "source": [
        "## <span style=\"color:orange\">TASK</span> (+-15 min)\n",
        "\n",
        "**Having X and y, achieve following tasks:**\n",
        "\n",
        "1. **Get only datapoints (rows) of first cluster**\n",
        "2. **Get only datapoins that belong to first or third cluster**\n",
        "3. **Get only datapoints that have x1 (first column) coordinate > 0 and x2 (second column) coordinate < 3**\n",
        "4. **Write code that prints out mean for each dimension for each cluster (HINT: look for numpy mean)**\n",
        "5. (Sandbox) experiment with logical indexing or plotting the data using matplotlib. Can you display the data so that each cluster will have its own color? (Hint - scatterplot)"
      ]
    },
    {
      "cell_type": "code",
      "execution_count": null,
      "metadata": {
        "id": "hK1vqDMMj1ef"
      },
      "outputs": [],
      "source": [
        "\n"
      ]
    },
    {
      "cell_type": "markdown",
      "metadata": {
        "id": "eJvuU5Znj1ef"
      },
      "source": [
        "## Introducing matplotlib\n",
        "\n",
        "https://matplotlib.org/3.1.1/gallery/index.html\n",
        "\n",
        "- simple scatter plot, parameters"
      ]
    },
    {
      "cell_type": "code",
      "execution_count": null,
      "metadata": {
        "id": "PYHHLtZnj1eg"
      },
      "outputs": [],
      "source": [
        "import matplotlib.pyplot as plt\n"
      ]
    },
    {
      "cell_type": "markdown",
      "metadata": {
        "id": "87eJ3iocj1eg"
      },
      "source": [
        "## <span style=\"color:orange\">TASK</span> (+-15 min)\n",
        "\n",
        "**Plot distributions of data points per cluster for one selected dimension. The result will be one plot containing three distributions (one per cluster).**"
      ]
    },
    {
      "cell_type": "code",
      "execution_count": null,
      "metadata": {
        "id": "-F31xInRj1eh"
      },
      "outputs": [],
      "source": [
        ""
      ]
    },
    {
      "cell_type": "markdown",
      "metadata": {
        "id": "C29GqJvjj1eh"
      },
      "source": [
        "## Introducing seaborn \n",
        "https://seaborn.pydata.org/examples/index.html#example-gallery\n",
        "\n",
        "* Pairplot per cluster\n",
        "* Violin plot"
      ]
    },
    {
      "cell_type": "code",
      "execution_count": null,
      "metadata": {
        "id": "huyg1KAHj1ei"
      },
      "outputs": [],
      "source": [
        "import seaborn as sns\n",
        "import pandas as pd\n",
        "import sklearn\n",
        "X2, y2 = sklearn.datasets.make_blobs(n_samples=100, \n",
        "                            n_features=4, \n",
        "                            centers=3, \n",
        "                            random_state=1,\n",
        "                            center_box = (-5,5))\n",
        "mydict = {\"x1\":list(X2[:, 0]), \n",
        "         \"x2\": list(X2[:, 1]),\n",
        "         \"x3\": list(X2[:, 2]),\n",
        "         \"x4\": list(X2[:, 3]),\n",
        "         \"y\": list(y2)}\n",
        "df = pd.DataFrame(mydict)\n",
        "\n",
        "sns.set(style=\"ticks\")\n",
        "sns.pairplot(df, \n",
        "             vars = [\"x1\", \"x2\", \"x3\", \"x4\"], \n",
        "             hue = \"y\", \n",
        "             plot_kws={'alpha':0.6, \"size\": 0.8})\n",
        "plt.show()"
      ]
    },
    {
      "cell_type": "markdown",
      "metadata": {
        "id": "_51mVZX8j1ei"
      },
      "source": [
        "# Pandas\n",
        "\n",
        "Standard for manipulating data in the data science workflow. https://pandas.pydata.org/.\n",
        "\n",
        "1. Slicing, indexing, index, filtering - DataFrame.loc/iloc\n",
        "2. dtypes, underlaying numpy (.values)\n",
        "3. Key objects - Series vs DataFrame - pd.read_csv(), pd.read_excel(), pd.from_pickle()\n",
        "4. describe (+ pandas-profiling https://miro.medium.com/max/4052/1*48uRp4eMwtQgb4raZRRAtA.gif) \n",
        "5. head/tail\n",
        "6. shape, dtypes\n",
        "7. Creating new columns.\n",
        "8. Renaming columns.\n",
        "9. Capitalizing name and columns.str.xxx (+ column.dt.yyy)\n",
        "10. Casting columns\n",
        "\n",
        "https://pandas.pydata.org/Pandas_Cheat_Sheet.pdf"
      ]
    },
    {
      "cell_type": "code",
      "source": [
        "import seaborn as sns\n",
        "df = sns.load_dataset(\"mpg\")\n",
        "df.head()"
      ],
      "metadata": {
        "colab": {
          "base_uri": "https://localhost:8080/",
          "height": 206
        },
        "id": "1x-ak4CqmL9i",
        "outputId": "44689018-8721-4066-877a-f5ec61ec1962"
      },
      "execution_count": 1,
      "outputs": [
        {
          "output_type": "execute_result",
          "data": {
            "text/plain": [
              "    mpg  cylinders  displacement  horsepower  weight  acceleration  \\\n",
              "0  18.0          8         307.0       130.0    3504          12.0   \n",
              "1  15.0          8         350.0       165.0    3693          11.5   \n",
              "2  18.0          8         318.0       150.0    3436          11.0   \n",
              "3  16.0          8         304.0       150.0    3433          12.0   \n",
              "4  17.0          8         302.0       140.0    3449          10.5   \n",
              "\n",
              "   model_year origin                       name  \n",
              "0          70    usa  chevrolet chevelle malibu  \n",
              "1          70    usa          buick skylark 320  \n",
              "2          70    usa         plymouth satellite  \n",
              "3          70    usa              amc rebel sst  \n",
              "4          70    usa                ford torino  "
            ],
            "text/html": [
              "\n",
              "  <div id=\"df-c7eb5616-4ca4-45a5-aadb-f26110dbb053\">\n",
              "    <div class=\"colab-df-container\">\n",
              "      <div>\n",
              "<style scoped>\n",
              "    .dataframe tbody tr th:only-of-type {\n",
              "        vertical-align: middle;\n",
              "    }\n",
              "\n",
              "    .dataframe tbody tr th {\n",
              "        vertical-align: top;\n",
              "    }\n",
              "\n",
              "    .dataframe thead th {\n",
              "        text-align: right;\n",
              "    }\n",
              "</style>\n",
              "<table border=\"1\" class=\"dataframe\">\n",
              "  <thead>\n",
              "    <tr style=\"text-align: right;\">\n",
              "      <th></th>\n",
              "      <th>mpg</th>\n",
              "      <th>cylinders</th>\n",
              "      <th>displacement</th>\n",
              "      <th>horsepower</th>\n",
              "      <th>weight</th>\n",
              "      <th>acceleration</th>\n",
              "      <th>model_year</th>\n",
              "      <th>origin</th>\n",
              "      <th>name</th>\n",
              "    </tr>\n",
              "  </thead>\n",
              "  <tbody>\n",
              "    <tr>\n",
              "      <th>0</th>\n",
              "      <td>18.0</td>\n",
              "      <td>8</td>\n",
              "      <td>307.0</td>\n",
              "      <td>130.0</td>\n",
              "      <td>3504</td>\n",
              "      <td>12.0</td>\n",
              "      <td>70</td>\n",
              "      <td>usa</td>\n",
              "      <td>chevrolet chevelle malibu</td>\n",
              "    </tr>\n",
              "    <tr>\n",
              "      <th>1</th>\n",
              "      <td>15.0</td>\n",
              "      <td>8</td>\n",
              "      <td>350.0</td>\n",
              "      <td>165.0</td>\n",
              "      <td>3693</td>\n",
              "      <td>11.5</td>\n",
              "      <td>70</td>\n",
              "      <td>usa</td>\n",
              "      <td>buick skylark 320</td>\n",
              "    </tr>\n",
              "    <tr>\n",
              "      <th>2</th>\n",
              "      <td>18.0</td>\n",
              "      <td>8</td>\n",
              "      <td>318.0</td>\n",
              "      <td>150.0</td>\n",
              "      <td>3436</td>\n",
              "      <td>11.0</td>\n",
              "      <td>70</td>\n",
              "      <td>usa</td>\n",
              "      <td>plymouth satellite</td>\n",
              "    </tr>\n",
              "    <tr>\n",
              "      <th>3</th>\n",
              "      <td>16.0</td>\n",
              "      <td>8</td>\n",
              "      <td>304.0</td>\n",
              "      <td>150.0</td>\n",
              "      <td>3433</td>\n",
              "      <td>12.0</td>\n",
              "      <td>70</td>\n",
              "      <td>usa</td>\n",
              "      <td>amc rebel sst</td>\n",
              "    </tr>\n",
              "    <tr>\n",
              "      <th>4</th>\n",
              "      <td>17.0</td>\n",
              "      <td>8</td>\n",
              "      <td>302.0</td>\n",
              "      <td>140.0</td>\n",
              "      <td>3449</td>\n",
              "      <td>10.5</td>\n",
              "      <td>70</td>\n",
              "      <td>usa</td>\n",
              "      <td>ford torino</td>\n",
              "    </tr>\n",
              "  </tbody>\n",
              "</table>\n",
              "</div>\n",
              "      <button class=\"colab-df-convert\" onclick=\"convertToInteractive('df-c7eb5616-4ca4-45a5-aadb-f26110dbb053')\"\n",
              "              title=\"Convert this dataframe to an interactive table.\"\n",
              "              style=\"display:none;\">\n",
              "        \n",
              "  <svg xmlns=\"http://www.w3.org/2000/svg\" height=\"24px\"viewBox=\"0 0 24 24\"\n",
              "       width=\"24px\">\n",
              "    <path d=\"M0 0h24v24H0V0z\" fill=\"none\"/>\n",
              "    <path d=\"M18.56 5.44l.94 2.06.94-2.06 2.06-.94-2.06-.94-.94-2.06-.94 2.06-2.06.94zm-11 1L8.5 8.5l.94-2.06 2.06-.94-2.06-.94L8.5 2.5l-.94 2.06-2.06.94zm10 10l.94 2.06.94-2.06 2.06-.94-2.06-.94-.94-2.06-.94 2.06-2.06.94z\"/><path d=\"M17.41 7.96l-1.37-1.37c-.4-.4-.92-.59-1.43-.59-.52 0-1.04.2-1.43.59L10.3 9.45l-7.72 7.72c-.78.78-.78 2.05 0 2.83L4 21.41c.39.39.9.59 1.41.59.51 0 1.02-.2 1.41-.59l7.78-7.78 2.81-2.81c.8-.78.8-2.07 0-2.86zM5.41 20L4 18.59l7.72-7.72 1.47 1.35L5.41 20z\"/>\n",
              "  </svg>\n",
              "      </button>\n",
              "      \n",
              "  <style>\n",
              "    .colab-df-container {\n",
              "      display:flex;\n",
              "      flex-wrap:wrap;\n",
              "      gap: 12px;\n",
              "    }\n",
              "\n",
              "    .colab-df-convert {\n",
              "      background-color: #E8F0FE;\n",
              "      border: none;\n",
              "      border-radius: 50%;\n",
              "      cursor: pointer;\n",
              "      display: none;\n",
              "      fill: #1967D2;\n",
              "      height: 32px;\n",
              "      padding: 0 0 0 0;\n",
              "      width: 32px;\n",
              "    }\n",
              "\n",
              "    .colab-df-convert:hover {\n",
              "      background-color: #E2EBFA;\n",
              "      box-shadow: 0px 1px 2px rgba(60, 64, 67, 0.3), 0px 1px 3px 1px rgba(60, 64, 67, 0.15);\n",
              "      fill: #174EA6;\n",
              "    }\n",
              "\n",
              "    [theme=dark] .colab-df-convert {\n",
              "      background-color: #3B4455;\n",
              "      fill: #D2E3FC;\n",
              "    }\n",
              "\n",
              "    [theme=dark] .colab-df-convert:hover {\n",
              "      background-color: #434B5C;\n",
              "      box-shadow: 0px 1px 3px 1px rgba(0, 0, 0, 0.15);\n",
              "      filter: drop-shadow(0px 1px 2px rgba(0, 0, 0, 0.3));\n",
              "      fill: #FFFFFF;\n",
              "    }\n",
              "  </style>\n",
              "\n",
              "      <script>\n",
              "        const buttonEl =\n",
              "          document.querySelector('#df-c7eb5616-4ca4-45a5-aadb-f26110dbb053 button.colab-df-convert');\n",
              "        buttonEl.style.display =\n",
              "          google.colab.kernel.accessAllowed ? 'block' : 'none';\n",
              "\n",
              "        async function convertToInteractive(key) {\n",
              "          const element = document.querySelector('#df-c7eb5616-4ca4-45a5-aadb-f26110dbb053');\n",
              "          const dataTable =\n",
              "            await google.colab.kernel.invokeFunction('convertToInteractive',\n",
              "                                                     [key], {});\n",
              "          if (!dataTable) return;\n",
              "\n",
              "          const docLinkHtml = 'Like what you see? Visit the ' +\n",
              "            '<a target=\"_blank\" href=https://colab.research.google.com/notebooks/data_table.ipynb>data table notebook</a>'\n",
              "            + ' to learn more about interactive tables.';\n",
              "          element.innerHTML = '';\n",
              "          dataTable['output_type'] = 'display_data';\n",
              "          await google.colab.output.renderOutput(dataTable, element);\n",
              "          const docLink = document.createElement('div');\n",
              "          docLink.innerHTML = docLinkHtml;\n",
              "          element.appendChild(docLink);\n",
              "        }\n",
              "      </script>\n",
              "    </div>\n",
              "  </div>\n",
              "  "
            ]
          },
          "metadata": {},
          "execution_count": 1
        }
      ]
    },
    {
      "cell_type": "markdown",
      "source": [
        "\n",
        "\n",
        "## <span style=\"color:orange\">TASK</span> (+-20 min)\n",
        "\n",
        "Given the dataset:\n",
        "\n",
        "1. Select only cars from from usa with weight > 4000 (.loc and logical indexing)\n",
        "2. Show mean mpg and horsepower of cars per origin and model year and sort values by horsepower descending (groupby, reset_index, mean, sort_values)\n",
        "3. Replace values in column origin equal to 'usa' with 'U.S.A. (logical indexing and filtering)\n",
        "4. Show only rows containing missing values (isnull, any)\n",
        "5. Create aggregations for the table -> group by origin -> max acceleration, min and max model_year, average weight. (Look at Named Aggregations)"
      ],
      "metadata": {
        "id": "nyncxj9O8gxP"
      }
    },
    {
      "cell_type": "code",
      "source": [
        ""
      ],
      "metadata": {
        "id": "1aHyjGV--Dyq"
      },
      "execution_count": null,
      "outputs": []
    },
    {
      "cell_type": "markdown",
      "metadata": {
        "id": "2UKI50FXj1ei"
      },
      "source": [
        "## Introducing scikit-learn\n",
        "https://scikit-learn.org (say WOW)\n",
        "- pipelines (https://iaml.it/blog/optimizing-sklearn-pipelines/images/pipeline-diagram.png), fit & transform (train vs trest normalization/standardization)\n",
        "- get the centroids and plot them alongside the date\n"
      ]
    },
    {
      "cell_type": "markdown",
      "metadata": {
        "id": "qTVelmw6j1ei"
      },
      "source": [
        "# <span style=\"color:orange\">Hands-on: histogram equalization</span> (https://www.youtube.com/watch?v=PD5d7EKYLcA)\n",
        "## Import necessary packages and load image\n",
        "1. The image should either be a path to a file or url to a !.png image. \n",
        "2. Select whatever image you like, ideally if it is in grayscale"
      ]
    },
    {
      "cell_type": "code",
      "execution_count": null,
      "metadata": {
        "id": "sEdCk2yij1ej"
      },
      "outputs": [],
      "source": [
        "import matplotlib.pyplot as plt\n",
        "import matplotlib.image as mpimg\n",
        "import numpy as np\n",
        "\n",
        "tst = mpimg.imread(r\"http://cosmin.users.sourceforge.net/testing/lena_16g_lin.png\")\n",
        "plt.imshow(tst, cmap = \"gray\")\n",
        "tst.shape"
      ]
    },
    {
      "cell_type": "markdown",
      "metadata": {
        "id": "Sq2JXBhuj1ej"
      },
      "source": [
        "## Logical indexing\n",
        "\n",
        "1. Copy the image into new variable (.copy())\n",
        "2. For all pixels having value above 150, replace the value to 255\n",
        "3. Display the result\n"
      ]
    },
    {
      "cell_type": "code",
      "execution_count": null,
      "metadata": {
        "id": "xshqDQTuj1ej"
      },
      "outputs": [],
      "source": [
        ""
      ]
    },
    {
      "cell_type": "markdown",
      "metadata": {
        "id": "1l9-EcDXj1ej"
      },
      "source": [
        "## Show the histogram of intensity values\n",
        "\n",
        "1. copy the original image\n",
        "2. select only 1 dimension from the image and use it further as the image (if the image has 3 dimensions)\n",
        "2. plot histogram using matplotlib with at least 100 bins (plt.hist(...)) (Hint: function flatten of nparray object can come in handy)\n",
        "3. Change the x limits to span over 0-255 (plt.xlim(...))\n",
        "4. Add title and labels to the plots (plt.title(...), plt.xlabel(...), plt.ylabel(...), ...)\n",
        "5. (Optional) Change the style of the bar plot, colors, outlines, ..."
      ]
    },
    {
      "cell_type": "code",
      "execution_count": null,
      "metadata": {
        "id": "bL1LvZWLj1ej"
      },
      "outputs": [],
      "source": [
        ""
      ]
    },
    {
      "cell_type": "markdown",
      "metadata": {
        "id": "Jvb17R5oj1ek"
      },
      "source": [
        "## Create your own probability distribution function (normalized histogram)  function which will return a list of elements (our case 256)\n",
        "1. Function will have arguments - image (2D array) and return a list of 256 values where each position determines how many pixels are there with the current position. I.E. iterate through all the possible intensity values and count n pixels with that intensity.\n",
        "2. **(What can really help you is the fact that you can sum (np.sum) over boolean values as True = 1 and False = 0)**\n",
        "2. check whether the number of pixels is the same (.shape attribute)\n",
        "2. Try the function on the image and plot the result (with plt.plot()) to see whether it is the same.\n",
        "3. Add title and labels to the plot"
      ]
    },
    {
      "cell_type": "code",
      "execution_count": null,
      "metadata": {
        "id": "UCPeqxEhj1ek"
      },
      "outputs": [],
      "source": [
        ""
      ]
    },
    {
      "cell_type": "markdown",
      "metadata": {
        "id": "FLZKU99nj1ek"
      },
      "source": [
        "## Implement function which will transform the output of your histogram into cumulattive distribution function\n",
        " $s_k = \\sum_{j=0}^{k} {\\frac{n_j}{N}}$ where $j$, $k$ are intensity values and $N$ is the total number of pixels and $s_k$ is the value of the cdf\n",
        " \n",
        " 1. The function will return an array with values of the cdf (array will have length 256)\n",
        " 2. Plot the result by plt.plot() to see it makes sense - the y values should start at 0 and end at 1 in order to be a valid cdf function"
      ]
    },
    {
      "cell_type": "code",
      "execution_count": null,
      "metadata": {
        "id": "TMAAisHfj1ek"
      },
      "outputs": [],
      "source": [
        ""
      ]
    },
    {
      "cell_type": "markdown",
      "metadata": {
        "id": "8kPb-RSDj1ek"
      },
      "source": [
        "## Make the transformation\n",
        "1. The intensity transformation in the simplest form is that pixel with value $p$ in the original image will have now intensity $255*cdf(p)$. Do not forget to either cast the result to integer or round it (round()) (Logical indexing + loops will help you)!\n",
        "2. Display minimal and maximal value of the image (np.max(), np.min())\n",
        "3. Show the transformed image"
      ]
    },
    {
      "cell_type": "code",
      "execution_count": null,
      "metadata": {
        "id": "nH_czfUGj1ek"
      },
      "outputs": [],
      "source": [
        ""
      ]
    },
    {
      "cell_type": "markdown",
      "metadata": {
        "id": "WaHX5OeCj1ek"
      },
      "source": [
        "## Plot the histogram and cummulative density function of the transformed image"
      ]
    },
    {
      "cell_type": "code",
      "execution_count": null,
      "metadata": {
        "id": "gampNKGuj1el"
      },
      "outputs": [],
      "source": [
        ""
      ]
    }
  ],
  "metadata": {
    "kernelspec": {
      "display_name": "Python 3",
      "language": "python",
      "name": "python3"
    },
    "language_info": {
      "codemirror_mode": {
        "name": "ipython",
        "version": 3
      },
      "file_extension": ".py",
      "mimetype": "text/x-python",
      "name": "python",
      "nbconvert_exporter": "python",
      "pygments_lexer": "ipython3",
      "version": "3.8.3"
    },
    "colab": {
      "name": "D1_Python_libraries.ipynb",
      "provenance": []
    }
  },
  "nbformat": 4,
  "nbformat_minor": 0
}