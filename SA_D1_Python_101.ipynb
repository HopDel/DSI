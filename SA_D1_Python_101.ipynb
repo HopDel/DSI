{
  "cells": [
    {
      "cell_type": "markdown",
      "metadata": {
        "id": "y6SsBFh-XFEl"
      },
      "source": [
        "\n",
        "# Python Basics for Škoda Auto\n",
        "\n",
        "Inspired by [learning-python3.ipynb](https://gist.githubusercontent.com/kenjyco/69eeb503125035f21a9d/raw/learning-python3.ipynb) by kenjyco.\n"
      ]
    },
    {
      "cell_type": "markdown",
      "metadata": {
        "id": "0U3akY4kXFEp"
      },
      "source": [
        "## 1. Jupyter and .ipynb format\n",
        "\n",
        "When you are editing a cell in Jupyter notebook, you need to re-run the cell by pressing **`<Shift> + <Enter>`** (run and go to next cell) or **`<Ctrl> + <Enter>`** (run current cell). This will allow changes you made to be available to other cells.\n",
        "\n",
        "Use **`<Enter>`** to make new lines inside a cell you are editing.\n",
        "\n",
        "### 1.1. Jupyter Cells\n",
        "#### Code cells\n",
        "\n",
        "Re-running will execute any statements you have written. To edit an existing code cell, click on it.\n",
        "\n",
        "#### Markdown cells\n",
        "\n",
        "Re-running will render the markdown text. To edit an existing markdown cell, double-click on it.\n",
        "\n",
        "### 1.2. Jupyter operations\n",
        "\n",
        "#### Inserting and removing cells\n",
        "\n",
        "- Use the \"plus sign\" icon to insert a cell below the currently selected cell\n",
        "- Use \"Insert\" -> \"Insert Cell Above\" from the menu to insert above\n",
        "\n",
        "#### Clear the output of all cells\n",
        "\n",
        "- Use \"Kernel\" -> \"Restart\" from the menu to restart the kernel\n",
        "    - click on \"clear all outputs & restart\" to have all the output cleared\n",
        "\n",
        "#### Save your notebook file locally\n",
        "\n",
        "- Clear the output of all cells\n",
        "- Use \"File\" -> \"Download as\" -> \"IPython Notebook (.ipynb)\" to download a notebook file representing your https://try.jupyter.org session\n",
        "\n",
        "#### Load your notebook file in try.jupyter.org / google colab\n",
        "\n",
        "1. Visit https://colab.research.google.com / https://try.jupyter.org\n",
        "2. Click File -> Upload button\n",
        "3. Navigate your filesystem to find your `*.ipynb` file and click \"open\"\n",
        "4. Click the new \"upload\" button that appears next to your file name\n",
        "5. Click on your uploaded notebook file\n",
        "\n",
        "#### Upload files\n",
        "In the left bar, click the folder icon and Upload file button.\n",
        "\n",
        "<hr>"
      ]
    },
    {
      "cell_type": "markdown",
      "metadata": {
        "id": "CDtjBZMtXFEq"
      },
      "source": [
        "## 2. Rules and References\n",
        "\n",
        "Rules\n",
        "* Try to keep your focus, start is trivial but it gets gradually harder.\n",
        "* Ask if something is not clear, I can explain it better or to more depth.\n",
        "* Experiment! Breaking and fixing stuff is one of the best ways to learn.\n",
        "\n",
        "References\n",
        "- https://docs.python.org/3/tutorial/index.html\n",
        "- https://docs.python.org/3/tutorial/introduction.html\n",
        "- Documentation of packages (e.g. https://pandas.pydata.org/pandas-docs/version/0.23/)\n",
        "- Google Search! Stack Overflow! ChatGPT! Use whatever you have to solve a problem (ChatGPT should be last resort)\n"
      ]
    },
    {
      "cell_type": "markdown",
      "source": [
        "## Your First Python Code"
      ],
      "metadata": {
        "id": "YwkIBXDMV-CQ"
      }
    },
    {
      "cell_type": "code",
      "source": [
        "print(\"hello world\")"
      ],
      "metadata": {
        "id": "7E_ezqHRV8Op"
      },
      "execution_count": null,
      "outputs": []
    },
    {
      "cell_type": "markdown",
      "metadata": {
        "id": "NJmxlJ-UXFEq"
      },
      "source": [
        "# Python objects, basic types, and variables\n",
        "\n",
        "Everything in Python is an **object** and every object in Python has a **type**. Some of the basic types include:\n",
        "\n",
        "- **`int`** (integer; a whole number with no decimal place)\n",
        "  - `10`, `-3`\n",
        "- **`float`** (float; a number that has a decimal place)\n",
        "  - `7.41`, `-0.006`\n",
        "- **`str`** (string; a sequence of characters enclosed in single quotes, double quotes) (It is also possible to triple quotes to span string across multiple lines). String is technically also a container (we will talk about containers in next section)\n",
        "  - `'this is a string using single quotes'`\n",
        "  - `\"this is a string using double quotes\"`\n",
        "- **`bool`** (boolean; a binary value that is either true or false)\n",
        "  - `True` or `False`\n",
        "- **`NoneType`** (a special type representing the absence of a value)\n",
        "  - `None`\n",
        "\n",
        "In Python, a **variable** is a name you specify in your code that maps to a particular **object**, object **instance**, or value.\n",
        "\n",
        "By defining variables, we can refer to things by names that make sense to us. Names for variables can only contain letters, underscores (`_`), or numbers (no spaces, dashes, or other characters). Variable names must start with a letter or underscore.\n",
        "\n",
        "<hr>"
      ]
    },
    {
      "cell_type": "markdown",
      "metadata": {
        "id": "Thee9ldBXFEr"
      },
      "source": [
        "## Basic operators\n",
        "\n",
        "In Python, there are different types of **operators** (special symbols) that operate on different values. Some of the basic operators include:\n",
        "\n",
        "- arithmetic operators\n",
        "  - **`+`** (addition), **`-`** (subtraction), **`*`** (multiplication), **`/`** (division), __`**`__ (exponent)\n",
        "- assignment operators\n",
        "  - **`=`** (assign a value)\n",
        "  - (Optional, can be rewritten with  **`=`**) **`+=`** (add and re-assign; increment), **`-=`** (subtract and re-assign; decrement), **`*=`** (multiply and re-assign)\n",
        "- comparison operators (return either `True` or `False`)\n",
        "  - **`==`** (equal to), **`!=`** (not equal to)\n",
        "  - **`<`** (less than), **`<=`** (less than or equal to), **`>`** (greater than), **`>=`** (greater than or equal to)\n",
        "\n",
        "When multiple operators are used in a single expression, **operator precedence** determines which parts of the expression are evaluated in which order. Operators with higher precedence are evaluated first (like PEMDAS in math). Operators with the same precedence are evaluated from left to right.\n",
        "\n",
        "- `()` parentheses, for grouping\n",
        "- `**` exponent\n",
        "- `*`, `/` multiplication and division\n",
        "- `+`, `-` addition and subtraction\n",
        "- `==`, `!=`, `<`, `<=`, `>`, `>=` comparisons\n",
        "\n",
        "> See https://docs.python.org/3/reference/expressions.html#operator-precedence"
      ]
    },
    {
      "cell_type": "markdown",
      "source": [
        "### Numbers"
      ],
      "metadata": {
        "id": "hIwB1ZR7Y3NA"
      }
    },
    {
      "cell_type": "code",
      "execution_count": null,
      "metadata": {
        "id": "-P5fklKUXFEs"
      },
      "outputs": [],
      "source": [
        "# Assigning some numbers to different variables\n",
        "num1 = 10\n",
        "num2 = -3\n",
        "num3 = 7.41\n",
        "num4 = -.6\n",
        "num5 = 7\n",
        "num6 = 3\n",
        "num7 = 11.11"
      ]
    },
    {
      "cell_type": "code",
      "execution_count": null,
      "metadata": {
        "id": "20JBUR3dXFEt"
      },
      "outputs": [],
      "source": [
        "# Addition\n",
        "num1 + num2"
      ]
    },
    {
      "cell_type": "code",
      "execution_count": null,
      "metadata": {
        "id": "l4qmNEP3XFEt"
      },
      "outputs": [],
      "source": [
        "# Subtraction\n",
        "num2 - num3"
      ]
    },
    {
      "cell_type": "code",
      "execution_count": null,
      "metadata": {
        "id": "oRQCcE3oXFEu"
      },
      "outputs": [],
      "source": [
        "# Multiplication\n",
        "num3 * num4"
      ]
    },
    {
      "cell_type": "code",
      "execution_count": null,
      "metadata": {
        "id": "vVuXf6j2XFEu"
      },
      "outputs": [],
      "source": [
        "# Division\n",
        "num4 / num5"
      ]
    },
    {
      "cell_type": "code",
      "execution_count": null,
      "metadata": {
        "id": "wM8w1S81XFEv"
      },
      "outputs": [],
      "source": [
        "# Increment existing variable\n",
        "num7 = num7 + 4 # equivalent to num7 += 4\n",
        "num7"
      ]
    },
    {
      "cell_type": "code",
      "execution_count": null,
      "metadata": {
        "id": "YnUMZG_-XFEw"
      },
      "outputs": [],
      "source": [
        "# Assign the value of an expression to a variable\n",
        "num8 = num1 + num2 * num3\n",
        "num8"
      ]
    },
    {
      "cell_type": "code",
      "execution_count": null,
      "metadata": {
        "id": "tVi4ktLKXFEw"
      },
      "outputs": [],
      "source": [
        "# Are these two expressions equal to each other?\n",
        "(num1 + num2) == num5"
      ]
    },
    {
      "cell_type": "code",
      "execution_count": null,
      "metadata": {
        "id": "KJZN2E6sXFEw"
      },
      "outputs": [],
      "source": [
        "# Are these two expressions not equal to each other?\n",
        "num3 != num4"
      ]
    },
    {
      "cell_type": "code",
      "execution_count": null,
      "metadata": {
        "id": "uYglvkCYXFEx"
      },
      "outputs": [],
      "source": [
        "# Is the first expression less than the second expression?\n",
        "print(num5)\n",
        "print(num6)\n",
        "num5 < num6"
      ]
    },
    {
      "cell_type": "markdown",
      "source": [
        "### Strings"
      ],
      "metadata": {
        "id": "zZYUAc7OY0mq"
      }
    },
    {
      "cell_type": "code",
      "execution_count": null,
      "metadata": {
        "id": "JhFo7c5vXFEx"
      },
      "outputs": [],
      "source": [
        "# Assign some strings to different variables\n",
        "simple_string1 = 'an example'\n",
        "simple_string2 = \"oranges \""
      ]
    },
    {
      "cell_type": "code",
      "execution_count": null,
      "metadata": {
        "id": "3jnZuUz0XFEx"
      },
      "outputs": [],
      "source": [
        "# Addition\n",
        "simple_string1 + ' of using the + operator'"
      ]
    },
    {
      "cell_type": "code",
      "execution_count": null,
      "metadata": {
        "id": "QIBZWiIDXFEy"
      },
      "outputs": [],
      "source": [
        "# Notice that the string was not modified\n",
        "simple_string1"
      ]
    },
    {
      "cell_type": "code",
      "execution_count": null,
      "metadata": {
        "id": "MVP9k2dNXFEy"
      },
      "outputs": [],
      "source": [
        "# Multiplication\n",
        "simple_string2 * 4"
      ]
    },
    {
      "cell_type": "code",
      "execution_count": null,
      "metadata": {
        "id": "VyJ4JLOqXFEy"
      },
      "outputs": [],
      "source": [
        "# This string wasn't modified either\n",
        "simple_string2"
      ]
    },
    {
      "cell_type": "code",
      "execution_count": null,
      "metadata": {
        "id": "ddEADGJRXFEy"
      },
      "outputs": [],
      "source": [
        "# Are these two expressions equal to each other?\n",
        "print(simple_string1)\n",
        "print(simple_string2)\n",
        "simple_string1 == simple_string2"
      ]
    },
    {
      "cell_type": "code",
      "execution_count": null,
      "metadata": {
        "id": "nN-S1ORyXFEy"
      },
      "outputs": [],
      "source": [
        "# Are these two expressions equal to each other?\n",
        "simple_string1 == 'an eXample'"
      ]
    },
    {
      "cell_type": "code",
      "execution_count": null,
      "metadata": {
        "id": "3vGJ2dj8XFEy"
      },
      "outputs": [],
      "source": [
        "# Add and re-assign\n",
        "simple_string1 += ' that re-assigned the original string'\n",
        "simple_string1"
      ]
    },
    {
      "cell_type": "code",
      "execution_count": null,
      "metadata": {
        "id": "bUlBFL6AXFEz"
      },
      "outputs": [],
      "source": [
        "# Multiply and re-assign\n",
        "simple_string2 *= 3\n",
        "simple_string2"
      ]
    },
    {
      "cell_type": "code",
      "execution_count": null,
      "metadata": {
        "id": "SQsllWjmXFEz"
      },
      "outputs": [],
      "source": [
        "# Note: Subtraction, division, and decrement operators do not apply to strings."
      ]
    },
    {
      "cell_type": "markdown",
      "source": [
        "## Functions and Methods\n",
        "\n",
        "You can imagine both functions and methods as boxes that take and input(s) (arguments) and returns an output. Both function and methods have arguments enclosed in brackets and arguments separated by ,.\n",
        "\n",
        "* Function is not related to an instance of object\n",
        "* Method is related to specific object (accessed by obj.method())\n",
        "\n",
        "~~~python\n",
        "my_str = \"Hello world\"\n",
        "# function example\n",
        "print(my_str)\n",
        "# method example'\n",
        "my_str_upper = my_str.upper()\n",
        "~~~\n",
        "\n",
        "Methods can be \"chained\" as you can work directly with the output\n",
        "~~~python\n",
        "print(my_str.upper().split(\" \"))\n",
        "~~~\n",
        "\n",
        "Note: You do not need variable to call methods:\n",
        "~~~python\n",
        "print(\"hello world\".upper())\n",
        "~~~\n",
        "\n",
        "Some useful functions for going forward (arguments can be found in documentation):\n",
        "* `print()` - prints the content\n",
        "* `len()` - returns length of the container (e.g. string, list, set, etc.)\n",
        "* `type()` - returns the type of a variable\n",
        "* `str()` - cast an object to its text representation and returns it\n",
        "* `sorted()` - returns sorted iterable (e.g. list, tuples, strings, etc.)\n",
        "* `min()/max()` - returns min / max of an iterable\n",
        "\n",
        "All built-in functions can be found here https://www.w3schools.com/python/python_ref_functions.asp\n",
        "\n",
        "Note: Most modern IDEs have whisperers and inline documentation available. (replace example)."
      ],
      "metadata": {
        "id": "eMYFcXxrhTSs"
      }
    },
    {
      "cell_type": "code",
      "source": [
        "my_str = \"Hello world\"\n",
        "print(my_str)\n",
        "print(my_str.upper())\n",
        "print(my_str.upper().split(\" \"))\n",
        "print(type(my_str))"
      ],
      "metadata": {
        "id": "drUbwxX1iCIl"
      },
      "execution_count": null,
      "outputs": []
    },
    {
      "cell_type": "markdown",
      "source": [],
      "metadata": {
        "id": "h77olhpCn-Bt"
      }
    },
    {
      "cell_type": "code",
      "source": [
        "# Teaching how inline doc work"
      ],
      "metadata": {
        "id": "VxiD3EtOnwnC"
      },
      "execution_count": null,
      "outputs": []
    },
    {
      "cell_type": "markdown",
      "source": [
        "### <font color=\"orange\">TASK (5 min) </font>\n",
        "Print sorted letters of given string. Before sorting, make all letter lowercase. The sorting order is descending (z-a) (look at documentation)."
      ],
      "metadata": {
        "id": "D1LKu0hXlVpR"
      }
    },
    {
      "cell_type": "code",
      "source": [
        "my_str = \"Hurricane Catrina\"\n",
        "\n",
        "# Your code:\n"
      ],
      "metadata": {
        "id": "KEmEaKKGkXmj"
      },
      "execution_count": null,
      "outputs": []
    },
    {
      "cell_type": "markdown",
      "metadata": {
        "id": "K_ozmNc1XFEz"
      },
      "source": [
        "## Basic containers\n",
        "\n",
        "> Note: **mutable** objects can be modified after creation and **immutable** objects cannot.\n",
        "\n",
        "Containers are objects that can be used to group other objects together. The basic container types include:\n",
        "\n",
        "- Sequence types\n",
        "  - **`str`** (string: immutable; indexed by integers; items are stored in the order they were added)\n",
        "  - **`list`** (list: mutable; indexed by integers; items are stored in the order they were added)\n",
        "  `[3, 5, 6, 3, 'dog', 'cat', False]`\n",
        "  - **`tuple`** (tuple: immutable; indexed by integers; items are stored in the order they were added)\n",
        "  `(3, 5, 6, 3, 'dog', 'cat', False)`\n",
        "- **`set`** (set: mutable; not indexed at all; items are NOT stored in the order they were added; can only contain immutable objects; does NOT contain duplicate objects)\n",
        "  - `{3, 5, 6, 3, 'dog', 'cat', False}`\n",
        "- **`dict`** (dictionary: mutable; key-value pairs are indexed by immutable keys; items are NOT stored in the order they were added)\n",
        "  - `{'name': 'Jane', 'age': 23, 'fav_foods': ['pizza', 'fruit', 'fish']}`\n",
        "\n",
        "When defining lists, tuples, or sets, use commas (,) to separate the individual items. When defining dicts, use a colon (:) to separate keys from values and commas (,) to separate the key-value pairs.\n",
        "\n",
        "Strings, lists, and tuples are all **sequence types** that can use the `+`, `*`, `+=`, and `*=` operators.\n",
        "\n",
        "Note: Show how to use **in**!!!"
      ]
    },
    {
      "cell_type": "markdown",
      "source": [
        "### Sequence types\n",
        "\n",
        "Sequence types respect the order in which they were inserted into it. Thus, it makes sense to index them and retrieve them by their position (e.g. last element of a list)."
      ],
      "metadata": {
        "id": "7r87OQIptkit"
      }
    },
    {
      "cell_type": "markdown",
      "source": [
        "#### Indexing\n",
        "\n",
        "Indexing is a way how to retrieve a specific element or slice of a sequence type. For strings, lists, tuples, and dicts, we can use **subscript notation** (square brackets) to access data at an index.\n",
        "\n",
        "- strings, lists, and tuples are indexed by integers, **starting at 0** for first item\n",
        "  - these sequence types also support accesing a range of items, known as **slicing**\n",
        "  - use **negative indexing** to start at the back of the sequence\n",
        "- when using a slice (e.g. `my_list[2:4]`), note that 2 is inclusive and 4 is exclusive (it will return two elements).\n",
        "\n",
        "As element of a container can be another container, indexing can be chained as follows:\n",
        "~~~python\n",
        "my_list = [[1,2,3], [4,5,6]]\n",
        "print(my_list[1][1:3])\n",
        "~~~\n",
        "The example prints `[5,6]`."
      ],
      "metadata": {
        "id": "qNRb4VOltrzD"
      }
    },
    {
      "cell_type": "code",
      "source": [
        "list1 = [3, 5, 6, 3, 'dog', 'cat', False]\n",
        "tuple1 = (3, 5, 6, 3, 'dog', 'cat', False)\n",
        "string1 = \"Hello world\""
      ],
      "metadata": {
        "id": "5q4_Xtf2tgBF"
      },
      "execution_count": null,
      "outputs": []
    },
    {
      "cell_type": "code",
      "source": [
        "# Get element on first position\n",
        "list1[0]"
      ],
      "metadata": {
        "id": "pGuAtT9Aud4s"
      },
      "execution_count": null,
      "outputs": []
    },
    {
      "cell_type": "code",
      "source": [
        "# Get element on last position\n",
        "list1[-1]"
      ],
      "metadata": {
        "id": "m14iSDNWu40U"
      },
      "execution_count": null,
      "outputs": []
    },
    {
      "cell_type": "code",
      "source": [
        "# Get a slice - Notice that left\n",
        "print(list1[2:4])"
      ],
      "metadata": {
        "id": "ojSepkd5vSwE"
      },
      "execution_count": null,
      "outputs": []
    },
    {
      "cell_type": "code",
      "source": [
        "# Get a slice - first 4 elements\n",
        "print(list1[:4])"
      ],
      "metadata": {
        "id": "EE9iv3JnwF0V"
      },
      "execution_count": null,
      "outputs": []
    },
    {
      "cell_type": "code",
      "source": [
        "# Get a slice - last 3 elements\n",
        "print(list1[-3:])"
      ],
      "metadata": {
        "id": "N9YkUFmvwKhP"
      },
      "execution_count": null,
      "outputs": []
    },
    {
      "cell_type": "markdown",
      "source": [
        "#### Operations and methods on lists\n",
        "\n",
        "- Boolean operators\n",
        "  - **`in`** checks whether element is in a container.   \n",
        "  ~~~\n",
        "  5 in [3, 7, 5] ---> True\n",
        "  ~~~\n",
        "- assignment-like operators can be used to change the elements of the list\n",
        "- `+` can be used to join lists, `*` for multiplying them with a number\n",
        "- Methods\n",
        "  - **`.append(item)`** to add a single item to the list. !! Returns None, modifies the original list.\n",
        "  - **`.extend([item1, item2, ...])`** to add multiple items to the list\n",
        "  - **`.remove(item)`** to remove a single item from the list\n",
        "  - **`.pop()`** to remove and return the item at the end of the list\n",
        "  - **`.pop(index)`** to remove and return an item at an index"
      ],
      "metadata": {
        "id": "t9GVJqV6xUsh"
      }
    },
    {
      "cell_type": "code",
      "source": [
        "# Add and re-assign\n",
        "print(list1)\n",
        "list1 = list1 + [5, 'grapes']\n",
        "list1"
      ],
      "metadata": {
        "id": "huyFj1FXzV-R"
      },
      "execution_count": null,
      "outputs": []
    },
    {
      "cell_type": "code",
      "source": [
        "# List multiplication\n",
        "[1, 2, 3] * 3"
      ],
      "metadata": {
        "id": "S3Jz_Kfazdqo"
      },
      "execution_count": null,
      "outputs": []
    },
    {
      "cell_type": "code",
      "source": [
        "# Changing element of a list\n",
        "list1[0] = 10\n",
        "print(list1)"
      ],
      "metadata": {
        "id": "ZNAulF3EzjR_"
      },
      "execution_count": null,
      "outputs": []
    },
    {
      "cell_type": "code",
      "source": [
        "# Using a method\n",
        "list1.append(\"Appendage\")\n",
        "print(list1)"
      ],
      "metadata": {
        "id": "2txbjHXYz3z3"
      },
      "execution_count": null,
      "outputs": []
    },
    {
      "cell_type": "code",
      "source": [
        "# Using built-in function\n",
        "print(len(list1))"
      ],
      "metadata": {
        "id": "UraG3ovE0inc"
      },
      "execution_count": null,
      "outputs": []
    },
    {
      "cell_type": "markdown",
      "source": [
        "#### Mutable vs Immutable\n",
        "\n",
        "Mutable objects are passed by reference."
      ],
      "metadata": {
        "id": "4exkcFZ70rs-"
      }
    },
    {
      "cell_type": "code",
      "source": [
        "# What will x contain after running this code?\n",
        "x = [1, 2, 3]\n",
        "y = x\n",
        "y[0] = 10"
      ],
      "metadata": {
        "id": "C-_ww0O500Oz"
      },
      "execution_count": null,
      "outputs": []
    },
    {
      "cell_type": "markdown",
      "source": [
        "#### Strings\n",
        "\n",
        "* Indexing and Operations (except methods) are the same as with lists\n",
        "* Some methods on string objects\n",
        "  - **`.split(splitter)`** Returns a list with elements based on the splitter\n",
        "  - **`.join(list)`** Returns a string made by concatenating elements of the list with string\n",
        "  - **`.capitalize()`** to return a capitalized version of the string (only first char uppercase)\n",
        "  - **`.upper()`** to return an uppercase version of the string (all chars uppercase)\n",
        "  - **`.lower()`** to return an lowercase version of the string (all chars lowercase)\n",
        "  - **`.count(substring)`** to return the number of occurences of the substring in the string\n",
        "  - **`.startswith(substring)`** to determine if the string starts with the substring\n",
        "  - **`.endswith(substring)`** to determine if the string ends with the substring\n",
        "  - **`.replace(old, new)`** to return a copy of the string with occurences of the \"old\" replaced by \"new\"\n",
        "  - **`.strip()`** Remove whitespace characters from beginning and end of string"
      ],
      "metadata": {
        "id": "GTmmK1T-1MgY"
      }
    },
    {
      "cell_type": "code",
      "source": [
        "# .join\n",
        "\", \".join([\"d\", \"b\", \"r\"])"
      ],
      "metadata": {
        "id": "SA9llMec2HDR"
      },
      "execution_count": null,
      "outputs": []
    },
    {
      "cell_type": "code",
      "source": [
        "# lower and count\n",
        "\"Hello world hello\".lower().count(\"hello\")"
      ],
      "metadata": {
        "id": "qXdg0QWK2WJe"
      },
      "execution_count": null,
      "outputs": []
    },
    {
      "cell_type": "code",
      "source": [
        "# Remove all 'l' characters from the string\n",
        "\"Hello world\".replace(\"l\", \"\")"
      ],
      "metadata": {
        "id": "bgeLBHWu2obi"
      },
      "execution_count": null,
      "outputs": []
    },
    {
      "cell_type": "markdown",
      "source": [
        "#### <font color=\"orange\">TASK (10 min)</font>\n",
        "\n",
        "Create a list where every element is one sentence from the provided string.\n",
        "\n",
        "*(Bonus: modify elements from the list so they do not start with a space)*"
      ],
      "metadata": {
        "id": "aIiocUAd3UZq"
      }
    },
    {
      "cell_type": "code",
      "source": [
        "task_str = \"In Harry Potter, Rowling juxtaposes the extraordinary against the ordinary. Her narrative features two worlds: a contemporary world inhabited by non-magical people called Muggles, and another featuring wizards. It differs from typical portal fantasy in that its magical elements stay grounded in the mundane. Paintings move and talk; books bite readers; letters shout messages; and maps show live journeys, making the wizarding world both exotic and familiar. This blend of realistic and romantic elements extends to Rowling's characters.\"\n",
        "\n",
        "task_list = # Your code\n",
        "# Bonus:\n",
        "for idx in range(len(task_list)):\n",
        "  # TODO: (remove pass below when done)\n",
        "  pass\n",
        "\n",
        "task_list"
      ],
      "metadata": {
        "id": "EFomsdpC26HL"
      },
      "execution_count": null,
      "outputs": []
    },
    {
      "cell_type": "markdown",
      "source": [
        "### Set\n",
        "\n",
        "Set is a container with following specifics:\n",
        "* There are no duplicate elements in a list\n",
        "* The elements are not ordered (you cannot index list)\n",
        "* You can create a list with curly brackets.\n",
        "* **`in`** operator can be used to checked whether element is in a set\n",
        "* Some methods\n",
        "  - **`.add(item)`** to add a single item to the set\n",
        "  - **`.update([item1, item2, ...])`** to add multiple items to the set\n",
        "  - **`.remove(item)`** to remove a single item from the set\n",
        "  - **`.difference(set2)`** to return items in the set that are not in another set\n",
        "  - **`.intersection(set2)`** to return items in both sets\n",
        "  - **`.union(set2)`** to return items that are in either set\n",
        "  - **`.issuperset(set2)`** does the set contain everything in the other set?\n",
        "  - **`.issubset(set2)`** is the set contained in the other set?"
      ],
      "metadata": {
        "id": "D6lHRQRUOmPs"
      }
    },
    {
      "cell_type": "code",
      "source": [
        "set1 = {3, 5, 6, 3, 'dog', 'cat', False}\n",
        "set2 = {3, 10, 'cat'}\n",
        "print(set1) # Notice how 3 is deduplicated"
      ],
      "metadata": {
        "id": "U8LXqgB4O1_b"
      },
      "execution_count": null,
      "outputs": []
    },
    {
      "cell_type": "markdown",
      "source": [
        "#### <font color=\"orange\">TASK (5 min)</font>\n",
        "\n",
        "Print number of elements that are in both sets."
      ],
      "metadata": {
        "id": "qLkol6U6QNbe"
      }
    },
    {
      "cell_type": "code",
      "source": [
        "# TODO:"
      ],
      "metadata": {
        "id": "kTXIkpFFQE-X"
      },
      "execution_count": null,
      "outputs": []
    },
    {
      "cell_type": "markdown",
      "source": [
        "### Dictionary (Dict)\n",
        "\n",
        "Dictionary is a container for storing **key->value** pairs.\n",
        "\n",
        "* Keys do not contain duplicates.\n",
        "* Key can be aribtrary type (most common are int and string).\n",
        "* Ordering of keys is arbitrary (as in sets).\n",
        "* Syntax for creation is as follows. Values can be accessed via indexing with existing key\n",
        "~~~python\n",
        "my_dict = {\"name\": \"Pavel\",\n",
        "          \"surname\": \"Milicka\"}\n",
        "print(my_dict[\"name\"])\n",
        "~~~\n",
        "* New key->value pairs can be added (or existing modified via assignments)\n",
        "~~~python\n",
        "my_dict = {\"name\": \"Pavel\",\n",
        "          \"surname\": \"Milicka\"}\n",
        "my_dict[\"name\"] = \"David\"\n",
        "my_dict[\"age\"] = 30\n",
        "print(my_dict)\n",
        "~~~\n"
      ],
      "metadata": {
        "id": "tCn7PuIYQ2-d"
      }
    },
    {
      "cell_type": "code",
      "execution_count": null,
      "metadata": {
        "id": "2-_LFD-xXFEz"
      },
      "outputs": [],
      "source": [
        "# TODO: Create a dictionary with keys (name, age, fav_foods). Value for name is a string,\n",
        "# value for age is int, value for fav_foods is a list of strings (with at least 3 elements)\n"
      ]
    },
    {
      "cell_type": "code",
      "execution_count": null,
      "metadata": {
        "id": "9Q9wJ1GzXFE0"
      },
      "outputs": [],
      "source": [
        "# Items in the dict object are not stored in the order they were added\n"
      ]
    },
    {
      "cell_type": "markdown",
      "metadata": {
        "id": "EvvbWD9jXFE0"
      },
      "source": [
        "## Accessing data in containers\n",
        "\n",
        "For strings, lists, tuples, and dicts, we can use **subscript notation** (square brackets) to access data at an index.\n",
        "\n",
        "- strings, lists, and tuples are indexed by integers, **starting at 0** for first item\n",
        "  - these sequence types also support accesing a range of items, known as **slicing**\n",
        "  - use **negative indexing** to start at the back of the sequence\n",
        "- dicts are indexed by their keys\n",
        "\n",
        "> Note: sets are not indexed, so we cannot use subscript notation to access data elements."
      ]
    },
    {
      "cell_type": "code",
      "execution_count": null,
      "metadata": {
        "id": "VLeYf1fIurKv"
      },
      "outputs": [],
      "source": [
        "print(list1)\n",
        "print(tuple1)"
      ]
    },
    {
      "cell_type": "code",
      "execution_count": null,
      "metadata": {
        "id": "DmPPIqPvvjPi"
      },
      "outputs": [],
      "source": [
        "dict1 = {'name': 'Jane', 'age': 23, 'fav_foods': ['pizza', 'fruit', 'fish']}"
      ]
    },
    {
      "cell_type": "code",
      "execution_count": null,
      "metadata": {
        "id": "-j4-7GP5XFE1"
      },
      "outputs": [],
      "source": [
        "# Access an item in a dictionary\n",
        "dict1['name']"
      ]
    },
    {
      "cell_type": "code",
      "execution_count": null,
      "metadata": {
        "id": "XPQ0p3CkXFE1"
      },
      "outputs": [],
      "source": [
        "# Access an element of a sequence in a dictionary\n",
        "dict1['fav_foods'][2]"
      ]
    },
    {
      "cell_type": "markdown",
      "metadata": {
        "id": "6Eylf01BXFE1"
      },
      "source": [
        "## Python built-in functions and callables\n",
        "\n",
        "A **function** is a Python object that you can \"call\" to **perform an action** or compute and **return another object**. You call a function by placing parentheses to the right of the function name. Some functions allow you to pass **arguments** inside the parentheses (separating multiple arguments with a comma). Internal to the function, these arguments are treated like variables.\n",
        "\n",
        "Python has several useful built-in functions to help you work with different objects and/or your environment. Here is a small sample of them:\n",
        "\n",
        "- **`type(obj)`** to determine the type of an object\n",
        "- **`len(container)`** to determine how many items are in a container\n",
        "- **`callable(obj)`** to determine if an object is callable\n",
        "- **`sorted(container)`** to return a new list from a container, with the items sorted\n",
        "- **`sum(container)`** to compute the sum of a container of numbers\n",
        "- **`min(container)`** to determine the smallest item in a container\n",
        "- **`max(container)`** to determine the largest item in a container\n",
        "- **`abs(number)`** to determine the absolute value of a number\n",
        "- **`repr(obj)`** to return a string representation of an object\n",
        "\n",
        "> Complete list of built-in functions: https://docs.python.org/3/library/functions.html\n",
        "\n",
        "> Complete list of keywords: https://www.w3schools.com/python/python_ref_keywords.asp\n",
        "\n",
        "There are also different ways of defining your own functions and callable objects that we will explore later."
      ]
    },
    {
      "cell_type": "code",
      "execution_count": null,
      "metadata": {
        "id": "FWYED9X3XFE2"
      },
      "outputs": [],
      "source": [
        "# Use the type() function to determine the type of an object\n",
        "type(dict1.keys())"
      ]
    },
    {
      "cell_type": "code",
      "execution_count": null,
      "metadata": {
        "id": "d6ZI5iuVXFE2"
      },
      "outputs": [],
      "source": [
        "# Use the len() function to determine how many items are in a container\n",
        "print(list1)\n",
        "len(list1)"
      ]
    },
    {
      "cell_type": "code",
      "execution_count": null,
      "metadata": {
        "id": "fcqgOJbEXFE2"
      },
      "outputs": [],
      "source": [
        "# Use the len() function to determine how many items are in a container\n",
        "len(simple_string2)"
      ]
    },
    {
      "cell_type": "code",
      "execution_count": null,
      "metadata": {
        "id": "Sxf5mNrbXFE2"
      },
      "outputs": [],
      "source": [
        "# Use the sorted() function to return a new list from a container, with the items sorted\n",
        "sorted([10, 1, 3.6, 7, 5, 2, -3])"
      ]
    },
    {
      "cell_type": "code",
      "execution_count": null,
      "metadata": {
        "id": "rOf8aacOXFE2"
      },
      "outputs": [],
      "source": [
        "# Use the sorted() function to return a new list from a container, with the items sorted\n",
        "# - notice that capitalized strings come first\n",
        "sorted(['dogs', 'cats', 'zebras', 'Chicago', 'California', 'ants', 'mice'])"
      ]
    },
    {
      "cell_type": "code",
      "execution_count": null,
      "metadata": {
        "id": "QFQKe8kvXFE2"
      },
      "outputs": [],
      "source": [
        "# Use the sum() function to compute the sum of a container of numbers\n",
        "sum([10, 1, 3.6, 7, 5, 2, -3])"
      ]
    },
    {
      "cell_type": "code",
      "execution_count": null,
      "metadata": {
        "id": "MnKvbqkiXFE2"
      },
      "outputs": [],
      "source": [
        "# Use the min() function to determine the smallest item in a container\n",
        "min([10, 1, 3.6, 7, 5, 2, -3])"
      ]
    },
    {
      "cell_type": "code",
      "execution_count": null,
      "metadata": {
        "id": "-aZA17boXFE2"
      },
      "outputs": [],
      "source": [
        "# Use the min() function to determine the smallest item in a container\n",
        "min(['g', 'z', 'a', 'y'])"
      ]
    },
    {
      "cell_type": "code",
      "execution_count": null,
      "metadata": {
        "id": "RWcTsG8YXFE3"
      },
      "outputs": [],
      "source": [
        "# Use the max() function to determine the largest item in a container\n",
        "max([10, 1, 3.6, 7, 5, 2, -3])"
      ]
    },
    {
      "cell_type": "code",
      "execution_count": null,
      "metadata": {
        "id": "wF5zb5rUXFE3"
      },
      "outputs": [],
      "source": [
        "# Use the max() function to determine the largest item in a container\n",
        "max('gibberish')"
      ]
    },
    {
      "cell_type": "code",
      "execution_count": null,
      "metadata": {
        "id": "P9qljm_fXFE3"
      },
      "outputs": [],
      "source": [
        "# Use the abs() function to determine the absolute value of a number\n",
        "abs(10)"
      ]
    },
    {
      "cell_type": "code",
      "execution_count": null,
      "metadata": {
        "id": "edGS8MoRXFE3"
      },
      "outputs": [],
      "source": [
        "# Use the abs() function to determine the absolute value of a number\n",
        "abs(-12)"
      ]
    },
    {
      "cell_type": "code",
      "execution_count": null,
      "metadata": {
        "id": "_IRE1ObwXFE3"
      },
      "outputs": [],
      "source": [
        "# Use the repr() function to return a string representation of an object\n",
        "repr(set1)"
      ]
    },
    {
      "cell_type": "markdown",
      "metadata": {
        "id": "X3ZFWILZXFE5"
      },
      "source": [
        "## Some methods on set objects\n",
        "\n",
        "- **`.add(item)`** to add a single item to the set\n",
        "- **`.update([item1, item2, ...])`** to add multiple items to the set\n",
        "- **`.update(set2, set3, ...)`** to add items from all provided sets to the set\n",
        "- **`.remove(item)`** to remove a single item from the set\n",
        "- **`.pop()`** to remove and return a random item from the set\n",
        "- **`.difference(set2)`** to return items in the set that are not in another set\n",
        "- **`.intersection(set2)`** to return items in both sets\n",
        "- **`.union(set2)`** to return items that are in either set\n",
        "- **`.symmetric_difference(set2)`** to return items that are only in one set (not both)\n",
        "- **`.issuperset(set2)`** does the set contain everything in the other set?\n",
        "- **`.issubset(set2)`** is the set contained in the other set?"
      ]
    },
    {
      "cell_type": "code",
      "execution_count": null,
      "metadata": {
        "id": "zEERmKFSXFE5"
      },
      "outputs": [],
      "source": []
    },
    {
      "cell_type": "markdown",
      "metadata": {
        "id": "nzQfoWU0XFE6"
      },
      "source": [
        "## Some methods on dict objects\n",
        "\n",
        "- **`.update([(key1, val1), (key2, val2), ...])`** to add multiple key-value pairs to the dict\n",
        "- **`.update(dict2)`** to add all keys and values from another dict to the dict\n",
        "- **`.pop(key)`** to remove key and return its value from the dict (error if key not found)\n",
        "- **`.pop(key, default_val)`** to remove key and return its value from the dict (or return default_val if key not found)\n",
        "- **`.get(key)`** to return the value at a specified key in the dict (or None if key not found)\n",
        "- **`.get(key, default_val)`** to return the value at a specified key in the dict (or default_val if key not found)\n",
        "- **`.keys()`** to return a list of keys in the dict\n",
        "- **`.values()`** to return a list of values in the dict\n",
        "- **`.items()`** to return a list of key-value pairs (tuples) in the dict"
      ]
    },
    {
      "cell_type": "code",
      "execution_count": null,
      "metadata": {
        "id": "B9CN36k_XFE6"
      },
      "outputs": [],
      "source": [
        "# Note: show that get() can be simply done without get() :)"
      ]
    },
    {
      "cell_type": "code",
      "execution_count": null,
      "metadata": {
        "id": "WQpa5c2DXFE6"
      },
      "outputs": [],
      "source": [
        "dict1.get(\"name\")"
      ]
    },
    {
      "cell_type": "markdown",
      "metadata": {
        "id": "ykLfbsVpXFE6"
      },
      "source": [
        "## Positional arguments and keyword arguments to callables\n",
        "\n",
        "You can call a function/method in a number of different ways:\n",
        "\n",
        "- `func()`: Call `func` with no arguments\n",
        "- `func(arg)`: Call `func` with one positional argument\n",
        "- `func(arg1, arg2)`: Call `func` with two positional arguments\n",
        "- `func(arg1, arg2, ..., argn)`: Call `func` with many positional arguments\n",
        "- `func(kwarg=value)`: Call `func` with one keyword argument\n",
        "- `func(kwarg1=value1, kwarg2=value2)`: Call `func` with two keyword arguments\n",
        "- `func(kwarg1=value1, kwarg2=value2, ..., kwargn=valuen)`: Call `func` with many keyword arguments\n",
        "- `func(arg1, arg2, kwarg1=value1, kwarg2=value2)`: Call `func` with positonal arguments and keyword arguments\n",
        "- `obj.method()`: Same for `func`.. and every other `func` example\n",
        "\n",
        "When using **positional arguments**, you must provide them in the order that the function defined them (the function's **signature**).\n",
        "\n",
        "When using **keyword arguments**, you can provide the arguments you want, in any order you want, as long as you specify each argument's name.\n",
        "\n",
        "When using positional and keyword arguments, positional arguments must come first."
      ]
    },
    {
      "cell_type": "code",
      "execution_count": null,
      "metadata": {
        "id": "F-NKG4F6XFE6"
      },
      "outputs": [],
      "source": [
        "from matplotlib.pyplot import plot"
      ]
    },
    {
      "cell_type": "code",
      "execution_count": null,
      "metadata": {
        "id": "TpM08O1pXFE6"
      },
      "outputs": [],
      "source": []
    },
    {
      "cell_type": "markdown",
      "metadata": {
        "id": "WY2P-KicXFE7"
      },
      "source": [
        "## Python \"for loops\"\n",
        "\n",
        "It is easy to **iterate** over a collection of items using a **for loop**. The strings, lists, tuples, sets, and dictionaries we defined are all **iterable** containers.\n",
        "\n",
        "The for loop will go through the specified container, one item at a time, and provide a temporary variable for the current item. You can use this temporary variable like a normal variable.\n"
      ]
    },
    {
      "cell_type": "markdown",
      "metadata": {
        "id": "l6-RDhC3XFE7"
      },
      "source": [
        "1. For each\n",
        "2. For range\n",
        "3. Iterating through dictionary\n",
        "4. Break, continue (/0)"
      ]
    },
    {
      "cell_type": "code",
      "execution_count": null,
      "metadata": {
        "id": "XJ6CDPaPXFE7"
      },
      "outputs": [],
      "source": []
    },
    {
      "cell_type": "markdown",
      "source": [
        "## <font color=orange>TASK (10 min)</font>\n",
        "\n",
        "Given the following dictionary, complete the following cell where\n",
        "1. Average score is printed for individual students (one by one)\n",
        "2. Based on input(), the average score for particular person is retrieved. (Or \"Not found\" printed if not known)."
      ],
      "metadata": {
        "id": "2uuRYlgM0z8J"
      }
    },
    {
      "cell_type": "code",
      "source": [
        "scores = {\n",
        "    \"Paul\": [4.3, 9],\n",
        "    \"Anna\": [5, 3],\n",
        "    \"Reginald\": [2, 4]\n",
        "}\n",
        "# TODO"
      ],
      "metadata": {
        "id": "UwY_j9R61Lz1"
      },
      "execution_count": null,
      "outputs": []
    },
    {
      "cell_type": "code",
      "source": [
        "name = input()\n",
        "# TODO"
      ],
      "metadata": {
        "id": "dTl7imXK2AsN"
      },
      "execution_count": null,
      "outputs": []
    },
    {
      "cell_type": "markdown",
      "metadata": {
        "id": "_dBhFkR0XFE7"
      },
      "source": [
        "## Python \"if statements\" and \"while loops\"\n",
        "\n",
        "Conditional expressions can be used with these two **conditional statements**.\n",
        "\n",
        "The **if statement** allows you to test a condition and perform some actions if the condition evaluates to `True`. You can also provide `elif` and/or `else` clauses to an if statement to take alternative actions if the condition evaluates to `False`.\n",
        "\n",
        "The **while loop** will keep looping until its conditional expression evaluates to `False`.\n",
        "\n",
        "> Note: It is possible to \"loop forever\" when using a while loop with a conditional expression that never evaluates to `False`.\n",
        ">\n",
        "> Note: Since the **for loop** will iterate over a container of items until there are no more, there is no need to specify a \"stop looping\" condition."
      ]
    },
    {
      "cell_type": "markdown",
      "metadata": {
        "id": "KfwyE5i2XFE8"
      },
      "source": [
        "1. if condition\n",
        "2. else\n",
        "3. elif\n",
        "4. and/or\n",
        "5. break/continue"
      ]
    },
    {
      "cell_type": "code",
      "execution_count": null,
      "metadata": {
        "id": "dX0nZDAK6hlM"
      },
      "outputs": [],
      "source": []
    },
    {
      "cell_type": "markdown",
      "metadata": {
        "id": "F5oDfKejXFE8"
      },
      "source": [
        "## <font color=orange>TASK (+-15m) </font>\n",
        "\n",
        "**Iterate through given list of strings. For each string, detect whether it is an email address (assume all string containing @ are emails and have correct format), if it is an email address print only the email username (without domain), else print \"Not a valid email address\".**\n",
        "\n",
        "`email_list = [\"pmilicka@deloittece.com\",\n",
        "              \"hello there\",\n",
        "              \"pythonisawesome@gmail.com\",\n",
        "              \"DSARulezz@hotmail.com\",\n",
        "              \"this.is.not.an.email\"]`"
      ]
    },
    {
      "cell_type": "code",
      "execution_count": null,
      "metadata": {
        "id": "UEYi0mxNXFE8"
      },
      "outputs": [],
      "source": [
        "\n",
        "email_list = [\"pmilicka@deloittece.com\",\n",
        "              \"hello there\",\n",
        "              \"pythonisawesome@gmail.com\",\n",
        "              \"DSARulezz@hotmail.com\",\n",
        "              \"this.is.not.an.email\"]\n",
        "\n",
        "#TODO:\n"
      ]
    },
    {
      "cell_type": "markdown",
      "metadata": {
        "id": "YVyvLw0yXFE8"
      },
      "source": [
        "## Casting\n",
        "\n",
        "The basic types and containers we have used so far all provide **type constructors**:\n",
        "\n",
        "- `int()`\n",
        "- `float()`\n",
        "- `str()`\n",
        "- `list()`\n",
        "- `tuple()`\n",
        "- `set()`\n",
        "- `dict()`\n",
        "\n",
        "Up to this point, we have been defining objects of these built-in types using some syntactic shortcuts, since they are so common.\n",
        "\n",
        "Sometimes, you will have an object of one type that you need to convert to another type. Use the **type constructor** for the type of object you want to have, and pass in the object you currently have."
      ]
    },
    {
      "cell_type": "code",
      "execution_count": null,
      "metadata": {
        "id": "DIHX4K1_XFE8"
      },
      "outputs": [],
      "source": [
        "dict1 = {\"name\": \"Pavel\",\n",
        "         \"age\": 23}\n",
        "\n",
        "l1 = [5,1,3,5,2,2]\n",
        "deduplicated = list(set(l1))\n",
        "deduplicated"
      ]
    },
    {
      "cell_type": "markdown",
      "metadata": {
        "id": "gWdx3IZhXFE8"
      },
      "source": [
        "## Functions\n",
        "1. defining functions\n",
        "2. return\n",
        "3. return multiple values\n",
        "4. function arguments, arguments by name\n",
        "5. default function arguments"
      ]
    },
    {
      "cell_type": "code",
      "execution_count": null,
      "metadata": {
        "id": "NVX5b_IrXFE8"
      },
      "outputs": [],
      "source": []
    },
    {
      "cell_type": "markdown",
      "metadata": {
        "id": "E0pTiKuJXFE9"
      },
      "source": [
        "## <font color=\"orange\">TASK (15 min)</font>\n",
        "Implement function which prints fibonacci sequence until specified number.\n",
        "\n",
        "Fibonacci sequence is f(i) = f(i-1) + f(i-2) where f(0) = 0, f(1) = 1.\n",
        "\n",
        "[0, 1, 1, 2, 3, 5, 8, 13, 21, 34, 55, 89, 144, 233, 377]"
      ]
    },
    {
      "cell_type": "code",
      "execution_count": null,
      "metadata": {
        "id": "78bb4FNXXFE9"
      },
      "outputs": [],
      "source": [
        "#TODO:"
      ]
    },
    {
      "cell_type": "markdown",
      "metadata": {
        "id": "IAL3LQNlXFE9"
      },
      "source": [
        "## <font color=\"orange\">TASK (15 min)</font>\n",
        "Create a function that receives string and your task is to swap cases. In other words, convert all lowercase letters to uppercase letters and vice versa.\n",
        "\n",
        "Examples:\n",
        "\n",
        "```\n",
        "Www.HackerRank.com → wWW.hACKERrANK.COM\n",
        "Pythonist 2 → pYTHONIST 2  \n",
        "```\n",
        "\n"
      ]
    },
    {
      "cell_type": "code",
      "execution_count": null,
      "metadata": {
        "id": "BPPx_8ZIXFE9"
      },
      "outputs": [],
      "source": [
        "#TODO:"
      ]
    },
    {
      "cell_type": "markdown",
      "metadata": {
        "id": "5y8LfIJHXFE9"
      },
      "source": [
        "## Using packages and libraries\n",
        "\n",
        "How to import packages and use them to make your life easier.\n",
        "\n",
        "Note:\n",
        "* import,\n",
        "* import x as y\n",
        "* from x import y\n",
        "\n",
        "Example: numpy, matplotlib, plot sinus wave"
      ]
    },
    {
      "cell_type": "code",
      "execution_count": null,
      "metadata": {
        "id": "QOsqyUmBXFE-"
      },
      "outputs": [],
      "source": [
        "import numpy.random as npr\n",
        "import numpy as np\n",
        "import matplotlib.pyplot as plt"
      ]
    },
    {
      "cell_type": "markdown",
      "metadata": {
        "id": "G9jRWjYLXFE6"
      },
      "source": [
        "## Formatting strings and using placeholders\n",
        "\n",
        "F-strings and old formatting syntax. More information can be found on https://realpython.com/python-f-strings/\n",
        "\n",
        "* Old approach with %\n",
        "* New approach with f-strings\n",
        "* Places, decimal size, overall size, number formatting (thousand separator)"
      ]
    },
    {
      "cell_type": "code",
      "execution_count": null,
      "metadata": {
        "id": "A-uN88_LXFE6"
      },
      "outputs": [],
      "source": [
        "x = 6.66666666\n",
        "name = [\"John Doe\", \"Homer Simpson\"]\n",
        "height = [5.879, 6.1354, 8.98751]\n",
        "salary = [1321556, 6549875321]"
      ]
    },
    {
      "cell_type": "code",
      "execution_count": null,
      "metadata": {
        "id": "l6n_omqmXFE7"
      },
      "outputs": [],
      "source": []
    },
    {
      "cell_type": "markdown",
      "metadata": {
        "id": "kHklb9_dXFE-"
      },
      "source": [
        "## Files\n",
        "https://nbviewer.jupyter.org/github/jerry-git/learn-python3/blob/master/notebooks/beginner/notebooks/file_io.ipynb"
      ]
    },
    {
      "cell_type": "code",
      "execution_count": null,
      "metadata": {
        "id": "oSGrmXqbXFE-"
      },
      "outputs": [],
      "source": [
        "f = open(r\"/content/sample_data/california_housing_test.csv\", \"r\")"
      ]
    },
    {
      "cell_type": "markdown",
      "metadata": {
        "id": "7Zns6FCAXFE-"
      },
      "source": [
        "## Exceptions\n",
        "\n",
        "* Exception examples - out of index, division by zero, position following keyword arguments\n",
        "* Exception message tells you what is wrong\n",
        "* Try-catch\n",
        "* Raising your own error"
      ]
    },
    {
      "cell_type": "code",
      "execution_count": null,
      "metadata": {
        "id": "NQs--_DNXFE-"
      },
      "outputs": [],
      "source": [
        "5/0"
      ]
    },
    {
      "cell_type": "markdown",
      "metadata": {
        "id": "0igTF44MYh2_"
      },
      "source": []
    },
    {
      "cell_type": "markdown",
      "metadata": {
        "id": "gkwxi_h2Y1Ci"
      },
      "source": [
        "## <font color=orange>TASK (60-90 min) </font> 🎮 👾 🎮\n",
        "\n",
        "Implement your very own hangman game. The snippet below generates random word.\n",
        "\n",
        "What should be included:\n",
        "* Inform user about the word length.\n",
        "* Make a check on the input, only one letter should be inputted at a time.\n",
        "* Print already guessed part with number of lives left. Reduce life only if the letter is not present. E.g. You can print `A _ _ _ _ a _ _ | 3 lives left` when 'a' is given and the word is Airplane.\n",
        "* (If you're done after 5 min, make it into a class, so the game now begins with you telling your name and continues with playing hangman. When you win, it gives you another word. At the end it tells you how many words you made and tells and prints your position on scoreboard. The scoreboard is stored on disk in whatever format you like.) (IO, Class, Exception handling, ...)\n"
      ]
    },
    {
      "cell_type": "code",
      "execution_count": null,
      "metadata": {
        "id": "Nc8KR5qVYDTq"
      },
      "outputs": [],
      "source": [
        "import nltk\n",
        "from nltk.corpus import words\n",
        "from random import sample\n",
        "nltk.download(\"words\")\n",
        "rand_word = sample(words.words(), 1)[0]\n",
        "print(rand_word)"
      ]
    },
    {
      "cell_type": "code",
      "execution_count": null,
      "metadata": {
        "id": "fgEYER9hcwIL"
      },
      "outputs": [],
      "source": [
        "#\n",
        "rand_word = sample(words.words(), 1)[0]\n",
        "print(rand_word)\n",
        "\n",
        "rand_word = \"Airplane\"\n",
        "\n",
        "# TODO:"
      ]
    },
    {
      "cell_type": "markdown",
      "source": [
        "## <font color=orange> TASK </font>(60 min)\n",
        "Create a tic-tac-toe (piškvorky) pro dva hráče. Cílová podoba programu je následující:\n",
        "\n",
        "```\n",
        "Welcome to Tic-Tac-Toe!\n",
        " | | 1 2 3\n",
        " -+-+-\n",
        " | | 4 5 6\n",
        " -+-+-\n",
        " | | 7 8 9\n",
        "What is X's move? (1-9)\n",
        "> 1\n",
        " X| | 1 2 3\n",
        " -+-+-\n",
        " | | 4 5 6\n",
        " -+-+-\n",
        " | | 7 8 9\n",
        "What is O's move? (1-9)\n",
        "--snip--\n",
        " X|O|X 1 2 3\n",
        " -+-+-\n",
        " X|O|O 4 5 6\n",
        " -+-+-\n",
        " O|X|X 7 8 9\n",
        "The game is a tie!\n",
        "Thanks for playing!\n",
        "```"
      ],
      "metadata": {
        "id": "-vhBFLrI91lL"
      }
    },
    {
      "cell_type": "code",
      "source": [
        "#TODO:"
      ],
      "metadata": {
        "id": "XUCyJtpb-Ps6"
      },
      "execution_count": null,
      "outputs": []
    }
  ],
  "metadata": {
    "colab": {
      "provenance": [],
      "toc_visible": true
    },
    "kernelspec": {
      "display_name": "Python 3",
      "language": "python",
      "name": "python3"
    },
    "language_info": {
      "codemirror_mode": {
        "name": "ipython",
        "version": 3
      },
      "file_extension": ".py",
      "mimetype": "text/x-python",
      "name": "python",
      "nbconvert_exporter": "python",
      "pygments_lexer": "ipython3",
      "version": "3.8.3"
    }
  },
  "nbformat": 4,
  "nbformat_minor": 0
}