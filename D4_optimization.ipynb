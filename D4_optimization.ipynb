{
  "nbformat": 4,
  "nbformat_minor": 0,
  "metadata": {
    "colab": {
      "name": "D4_optimization.ipynb",
      "provenance": []
    },
    "kernelspec": {
      "name": "python3",
      "display_name": "Python 3"
    },
    "language_info": {
      "name": "python"
    }
  },
  "cells": [
    {
      "cell_type": "markdown",
      "source": [
        "# MIP Example\n",
        "https://www.python-mip.com/"
      ],
      "metadata": {
        "id": "vI6ZNDvQmUMa"
      }
    },
    {
      "cell_type": "code",
      "execution_count": 1,
      "metadata": {
        "colab": {
          "base_uri": "https://localhost:8080/"
        },
        "id": "Osb6zy4MmNcT",
        "outputId": "cbc78215-3ac4-40bf-f349-6b9ffd7efd1f"
      },
      "outputs": [
        {
          "output_type": "stream",
          "name": "stdout",
          "text": [
            "Looking in indexes: https://pypi.org/simple, https://us-python.pkg.dev/colab-wheels/public/simple/\n",
            "Collecting mip\n",
            "  Downloading mip-1.13.0-py3-none-any.whl (48.0 MB)\n",
            "\u001b[K     |████████████████████████████████| 48.0 MB 1.6 MB/s \n",
            "\u001b[?25hRequirement already satisfied: cffi in /usr/local/lib/python3.7/dist-packages (from mip) (1.15.0)\n",
            "Requirement already satisfied: pycparser in /usr/local/lib/python3.7/dist-packages (from cffi->mip) (2.21)\n",
            "Installing collected packages: mip\n",
            "Successfully installed mip-1.13.0\n"
          ]
        }
      ],
      "source": [
        "!pip install mip"
      ]
    },
    {
      "cell_type": "markdown",
      "source": [
        "## Call center scheduling problem \n",
        "courtesy of https://cw.fel.cvut.cz/b182/_media/courses/ko/03_ilp.pdf\n",
        "### Problem Description\n",
        "A call center needs to create a cyclic daily schedule (i.e., numbers of the shifts at particular hours\n",
        "are same on every day) of the shifts for its employees [1]. Let $d$ be a vector of a personnel demand\n",
        "in each hour during the day, i.e., $d_i$\n",
        "is defined $∀i$ = 0, 1, 2, . . . , 23. The personnel demand $d_i$\n",
        "determines the minimal number of shifts (i.e., employees who will be assigned to these shifts)\n",
        "between $i$ and $(i + 1)$ hour, e.g., $d_10$ expresses the minimal number of shifts running between 10\n",
        "a.m. and 11 a.m. The objective of this problem is to obtain the cyclic daily schedule of the shifts\n",
        "such that the total number of the shifts used to cover the personnel demand in a day is minimized.\n",
        "The shift may start at arbitrary full hour and its length is set to 8 hours.\n",
        "\n",
        "The ILP model of this problem is based on a variable $x$ such that $x_i$ represents a number of\n",
        "the shifts starting at hour i.\n",
        "Lab exercise: Formulate this problem as an ILP.\n",
        "Consider an example with the following vector of the demands\n",
        "`d = [6,6,6,6,6,8,9,12,18,22,25,21,21,20,18,21,21,24,24,18,18,18,12,8]`\n",
        "\n",
        "Using ILP to solve this example, we find out that the minimal number of the shifts that satisfy\n",
        "this demand is 55 (i.e., optimal value of the objective function). \n"
      ],
      "metadata": {
        "id": "2Ibiehkimcja"
      }
    },
    {
      "cell_type": "markdown",
      "source": [
        "### Task 1\n",
        "Formulate the model with Python MIP and solve it."
      ],
      "metadata": {
        "id": "PIIoUumFnmBY"
      }
    },
    {
      "cell_type": "code",
      "source": [
        "import mip"
      ],
      "metadata": {
        "id": "rRrxB2hbnswo"
      },
      "execution_count": null,
      "outputs": []
    },
    {
      "cell_type": "markdown",
      "source": [
        "## Task 2\n",
        "\n",
        "Visualize the actual shifts coverage vs demand."
      ],
      "metadata": {
        "id": "XmJtB9vTnsHq"
      }
    },
    {
      "cell_type": "code",
      "source": [
        ""
      ],
      "metadata": {
        "id": "2FZqC6u1oGPB"
      },
      "execution_count": null,
      "outputs": []
    }
  ]
}